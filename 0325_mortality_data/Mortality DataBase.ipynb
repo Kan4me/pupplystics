{
 "cells": [
  {
   "cell_type": "markdown",
   "metadata": {},
   "source": [
    "## Filter database in order to focus the project in mortality effect\n"
   ]
  },
  {
   "cell_type": "code",
   "execution_count": null,
   "metadata": {},
   "outputs": [],
   "source": [
    "import pandas as pd\n",
    "import numpy as np\n",
    "from matplotlib import pyplot as plt\n",
    "%matplotlib inline"
   ]
  },
  {
   "cell_type": "code",
   "execution_count": null,
   "metadata": {},
   "outputs": [],
   "source": [
    "df_dose = pd.read_csv(\"dose_responses.txt\",sep=\"|\", dtype='unicode')\n",
    "df_dose.head(100)"
   ]
  },
  {
   "cell_type": "code",
   "execution_count": null,
   "metadata": {},
   "outputs": [],
   "source": [
    "df_mort = df_dose.loc[df_dose['effect_code'] == 'MOR']"
   ]
  },
  {
   "cell_type": "code",
   "execution_count": null,
   "metadata": {},
   "outputs": [],
   "source": [
    "df_mort.iloc[:10]"
   ]
  },
  {
   "cell_type": "markdown",
   "metadata": {},
   "source": [
    "### The mortality types are:"
   ]
  },
  {
   "cell_type": "code",
   "execution_count": null,
   "metadata": {},
   "outputs": [],
   "source": [
    "mort_types = [\n",
    "\"DTTM\",\n",
    "\"TKNO\",\n",
    "\"LBCN\",\n",
    "\"EBCN\",\n",
    "\"HTCH\",\n",
    "\"LBCN\",\n",
    "\"LIFE\",\n",
    "\"LFSP\",\n",
    "\"MDTH\",\n",
    "\"MORT\",\n",
    "\"GMOR\",\n",
    "\"PSUR\",\n",
    "\"SURV\",\n",
    "\"SVVS\",\n",
    "\"TLET\",\n",
    "\"TDTH\"\n",
    "]\n"
   ]
  },
  {
   "cell_type": "code",
   "execution_count": null,
   "metadata": {},
   "outputs": [],
   "source": [
    "df_measurement = pd.read_csv(\"measurement_codes.txt\",sep=\"|\", dtype='unicode')"
   ]
  },
  {
   "cell_type": "code",
   "execution_count": null,
   "metadata": {},
   "outputs": [],
   "source": [
    "df_measurement[df_measurement.code.isin(mort_types)]"
   ]
  },
  {
   "cell_type": "code",
   "execution_count": null,
   "metadata": {},
   "outputs": [],
   "source": [
    "newdf = df_mort.groupby(['measurement_code']).count()[ 'dose_resp_id']"
   ]
  },
  {
   "cell_type": "code",
   "execution_count": null,
   "metadata": {},
   "outputs": [],
   "source": [
    "d = newdf.to_dict()"
   ]
  },
  {
   "cell_type": "code",
   "execution_count": null,
   "metadata": {},
   "outputs": [],
   "source": [
    "x, y = [],[]\n",
    "for k, v in zip(d.keys(), d.items()):\n",
    "    x.append(k)\n",
    "    y.append(v[1])\n"
   ]
  },
  {
   "cell_type": "code",
   "execution_count": null,
   "metadata": {},
   "outputs": [],
   "source": [
    "fig = plt.figure(figsize = (16,8))\n",
    "plt.bar(x, y, log=True)\n",
    "plt.xlabel(\"Codigos de Mortalidade\")\n",
    "fig.show()"
   ]
  }
 ],
 "metadata": {
  "kernelspec": {
   "display_name": "Python 3",
   "language": "python",
   "name": "python3"
  },
  "language_info": {
   "codemirror_mode": {
    "name": "ipython",
    "version": 3
   },
   "file_extension": ".py",
   "mimetype": "text/x-python",
   "name": "python",
   "nbconvert_exporter": "python",
   "pygments_lexer": "ipython3",
   "version": "3.7.3"
  }
 },
 "nbformat": 4,
 "nbformat_minor": 2
}
