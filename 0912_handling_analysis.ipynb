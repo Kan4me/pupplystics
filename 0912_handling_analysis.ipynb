{
 "cells": [
  {
   "cell_type": "markdown",
   "metadata": {},
   "source": [
    "# Handling Analysis"
   ]
  },
  {
   "cell_type": "markdown",
   "metadata": {},
   "source": [
    "Data base analysis and understanding was more complex than expected. By focusing on mammalian study and LD50 experiments, it is possible to have a analysis about mortality as a whole in an analysis that is expected to 50% of the population of the flock die."
   ]
  },
  {
   "cell_type": "markdown",
   "metadata": {},
   "source": [
    "With deep understanding of the database and its modeling, we can now focus on how to transform the database to be used by new users. It is proposed that using clustering and topic model, the database can be organized to deliver more value."
   ]
  },
  {
   "cell_type": "markdown",
   "metadata": {},
   "source": [
    "## Clustering\n",
    "\n",
    "Clustering is a concept of identifying patterns and similarities in a database's data and classifying them according to a chosen category, known as clusters. With data mining, statistical analysis, pattern recognition, bioinformatics, and computer graphics, one can understand the behavior of the database.\n",
    "\n",
    "In order to cluster the informations, can be used:\n",
    "\n",
    "- CorEx\n",
    "- Gensim\n",
    "- Sklearn\n",
    "\n"
   ]
  },
  {
   "cell_type": "markdown",
   "metadata": {},
   "source": [
    "## Topic model\n",
    "\n",
    "Topic modeling is a statistical modeling focused on discovering abstract topics that occur in a document collection. It is understood that this concept can be applied to a database, especially when it comes to metadata.\n",
    "\n",
    "In order to make atopic model of the words, can be used:\n",
    "\n",
    "- nltk stopwords\n",
    "- Gensim\n",
    "- pyLDAvis"
   ]
  },
  {
   "cell_type": "code",
   "execution_count": null,
   "metadata": {},
   "outputs": [],
   "source": []
  },
  {
   "cell_type": "code",
   "execution_count": null,
   "metadata": {},
   "outputs": [],
   "source": []
  }
 ],
 "metadata": {
  "kernelspec": {
   "display_name": "Python 3",
   "language": "python",
   "name": "python3"
  },
  "language_info": {
   "codemirror_mode": {
    "name": "ipython",
    "version": 3
   },
   "file_extension": ".py",
   "mimetype": "text/x-python",
   "name": "python",
   "nbconvert_exporter": "python",
   "pygments_lexer": "ipython3",
   "version": "3.7.3"
  }
 },
 "nbformat": 4,
 "nbformat_minor": 2
}
