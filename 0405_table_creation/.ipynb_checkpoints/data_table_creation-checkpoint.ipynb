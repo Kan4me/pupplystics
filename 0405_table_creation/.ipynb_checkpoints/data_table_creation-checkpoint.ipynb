{
 "cells": [
  {
   "cell_type": "markdown",
   "metadata": {},
   "source": [
    "# Data Table Creation"
   ]
  },
  {
   "cell_type": "markdown",
   "metadata": {},
   "source": [
    "With database study, was possible to gather some informations that seems relevant for the study case"
   ]
  },
  {
   "cell_type": "code",
   "execution_count": null,
   "metadata": {},
   "outputs": [],
   "source": [
    "import pandas as pd\n",
    "import numpy as np"
   ]
  },
  {
   "cell_type": "markdown",
   "metadata": {},
   "source": [
    "## Chosen headers by file"
   ]
  },
  {
   "cell_type": "markdown",
   "metadata": {},
   "source": [
    "CHEMICAL_CARRIERS  \n",
    "carrier_id\n",
    "test_id\n",
    "cas_number\n",
    "chem_name\n",
    "formulation\n",
    "\n",
    "CHEMICALS  \n",
    "cas_number\n",
    "chemical_name\n",
    "dose_id\n",
    "\n",
    "DOSE_RESPONSE_DETAILS  \n",
    "dose_resp_detail_id\n",
    "dose_id\n",
    "\n",
    "DOSE_RESPONSE_LINKS  \n",
    "all\n",
    "\n",
    "DOSE_RESPONSES  \n",
    "dose_resp_id\n",
    "test_id\n",
    "effect_code\n",
    "measurement_code\n",
    "\n",
    "DOSES  \n",
    "dose_id\n",
    "test_id\n",
    "dose1_number\n",
    "dose2_mean\n",
    "dose3_mean\n",
    "\n",
    "RESULTS  \n",
    "result_id\n",
    "test_id\n",
    "effect\n",
    "measurement\n",
    "conc1_mean\n",
    "conc2_mean\n",
    "conc3_mean\n",
    "\n",
    "SPECIES  \n",
    "species_number\n",
    "common_name\n",
    "kingdom\n",
    "class\n",
    "tax_order\n",
    "family\n",
    "species\n",
    "\n",
    "TESTS  \n",
    "test_id\n",
    "test_cas //Foreign key to CHEMICALS lookup table.\n",
    "organism_lifestage //Foreign key to LIFESTAGE_CODES\n",
    "organism_age_mean\n",
    "organism_gender\n",
    "study_duration_mean\n",
    "exposure_duration_mean\n",
    "test_type //Foreign key to TEST_TYPE_CODES\n",
    "num_doses_mean\n",
    "application_freq_mean\n",
    "halflife_mean"
   ]
  },
  {
   "cell_type": "code",
   "execution_count": null,
   "metadata": {},
   "outputs": [],
   "source": [
    "df_chemical_carriers = pd.read_csv(\"chemical_carriers.txt\",sep=\"|\", dtype='unicode')\n",
    "df_chemical_carriers = df_chemical_carriers[['carrier_id', 'test_id', 'cas_number', 'chem_name', 'formulation']]\n",
    "df_chemical_carriers.iloc[:5]"
   ]
  },
  {
   "cell_type": "code",
   "execution_count": null,
   "metadata": {},
   "outputs": [],
   "source": [
    "df_chemical_formulation_codes = pd.read_csv(\"chemical_formulation_codes.txt\",sep=\"|\", dtype='unicode')\n",
    "df_chemical_grade_codes = pd.read_csv(\"chemical_grade_codes.txt\",sep=\"|\", dtype='unicode')\n",
    "df_effect_codes = pd.read_csv(\"effect_codes.txt\",sep=\"|\", dtype='unicode')"
   ]
  },
  {
   "cell_type": "code",
   "execution_count": null,
   "metadata": {},
   "outputs": [],
   "source": [
    "df_chemicals = pd.read_csv(\"chemicals.txt\",sep=\"|\", dtype='unicode')\n",
    "df_chemicals = df_chemicals[['cas_number','chemical_name']]\n",
    "\n",
    "df_chemicals.iloc[:5]"
   ]
  },
  {
   "cell_type": "code",
   "execution_count": null,
   "metadata": {},
   "outputs": [],
   "source": [
    "df_dose_response_details = pd.read_csv(\"dose_response_details.txt\",sep=\"|\", dtype='unicode')\n",
    "df_dose_response_details = df_dose_response_details[['dose_resp_detail_id','dose_id']]\n",
    "\n",
    "df_dose_response_details.iloc[:5]"
   ]
  },
  {
   "cell_type": "code",
   "execution_count": null,
   "metadata": {},
   "outputs": [],
   "source": [
    "df_dose_response_links = pd.read_csv(\"dose_response_links.txt\",sep=\"|\", dtype='unicode')\n",
    "df_dose_response_links = df_dose_response_links[['result_id', 'dose_resp_id']]"
   ]
  },
  {
   "cell_type": "code",
   "execution_count": null,
   "metadata": {},
   "outputs": [],
   "source": [
    "df_doses = pd.read_csv(\"doses.txt\",sep=\"|\", dtype='unicode')\n",
    "df_doses = df_doses[['dose_id','test_id','dose1_mean','dose2_mean','dose3_mean']]\n",
    "\n",
    "df_doses.iloc[:5]"
   ]
  },
  {
   "cell_type": "code",
   "execution_count": null,
   "metadata": {},
   "outputs": [],
   "source": [
    "df_results = pd.read_csv(\"results.txt\",sep=\"|\", dtype='unicode')\n",
    "df_results = df_results[['result_id','test_id','effect','measurement','conc1_mean','conc2_mean','conc3_mean']]\n",
    "\n",
    "df_results.iloc[:5]"
   ]
  },
  {
   "cell_type": "code",
   "execution_count": null,
   "metadata": {},
   "outputs": [],
   "source": [
    "df_species = pd.read_csv(\"species.txt\",sep=\"|\", dtype='unicode')\n",
    "df_species = df_species[['species_number','common_name','kingdom','class','tax_order','family','species']]"
   ]
  },
  {
   "cell_type": "code",
   "execution_count": null,
   "metadata": {},
   "outputs": [],
   "source": [
    "df_tests = pd.read_csv(\"tests.txt\",sep=\"|\", dtype='unicode')\n",
    "df_tests = df_tests[['test_id','test_cas','organism_lifestage','organism_age_mean','organism_gender','study_duration_mean','exposure_duration_mean','test_type','num_doses_mean','application_freq_mean','halflife_mean']]"
   ]
  },
  {
   "cell_type": "code",
   "execution_count": null,
   "metadata": {},
   "outputs": [],
   "source": []
  }
 ],
 "metadata": {
  "kernelspec": {
   "display_name": "Python 3",
   "language": "python",
   "name": "python3"
  },
  "language_info": {
   "codemirror_mode": {
    "name": "ipython",
    "version": 3
   },
   "file_extension": ".py",
   "mimetype": "text/x-python",
   "name": "python",
   "nbconvert_exporter": "python",
   "pygments_lexer": "ipython3",
   "version": "3.7.3"
  }
 },
 "nbformat": 4,
 "nbformat_minor": 2
}
