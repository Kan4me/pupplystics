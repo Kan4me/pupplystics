{
 "cells": [
  {
   "cell_type": "markdown",
   "metadata": {},
   "source": [
    "# Data Table Creation"
   ]
  },
  {
   "cell_type": "markdown",
   "metadata": {},
   "source": [
    "With database study, was possible to gather some informations that seems relevant for the study case"
   ]
  },
  {
   "cell_type": "code",
   "execution_count": 27,
   "metadata": {},
   "outputs": [],
   "source": [
    "import pandas as pd\n",
    "import numpy as np"
   ]
  },
  {
   "cell_type": "markdown",
   "metadata": {},
   "source": [
    "## Chosen headers by file"
   ]
  },
  {
   "cell_type": "markdown",
   "metadata": {},
   "source": [
    "CHEMICAL_CARRIERS  \n",
    "carrier_id\n",
    "test_id\n",
    "cas_number\n",
    "chem_name\n",
    "formulation\n",
    "\n",
    "CHEMICALS  \n",
    "cas_number\n",
    "chemical_name\n",
    "dose_id\n",
    "\n",
    "DOSE_RESPONSE_DETAILS  \n",
    "dose_resp_detail_id\n",
    "dose_id\n",
    "\n",
    "DOSE_RESPONSE_LINKS  \n",
    "result_id\n",
    "dose_resp_id\n",
    "\n",
    "DOSE_RESPONSES  \n",
    "dose_resp_id\n",
    "test_id\n",
    "effect_code\n",
    "measurement_code\n",
    "\n",
    "DOSES  \n",
    "dose_id\n",
    "test_id\n",
    "dose1_number\n",
    "dose2_mean\n",
    "dose3_mean\n",
    "\n",
    "RESULTS  \n",
    "result_id\n",
    "test_id\n",
    "effect\n",
    "measurement\n",
    "conc1_mean\n",
    "conc2_mean\n",
    "conc3_mean\n",
    "\n",
    "SPECIES  \n",
    "species_number\n",
    "common_name\n",
    "kingdom\n",
    "class\n",
    "tax_order\n",
    "family\n",
    "species\n",
    "\n",
    "TESTS  \n",
    "test_id\n",
    "test_cas //Foreign key to CHEMICALS lookup table.\n",
    "organism_lifestage //Foreign key to LIFESTAGE_CODES\n",
    "organism_age_mean\n",
    "organism_gender\n",
    "study_duration_mean\n",
    "exposure_duration_mean\n",
    "test_type //Foreign key to TEST_TYPE_CODES\n",
    "num_doses_mean\n",
    "application_freq_mean\n",
    "halflife_mean"
   ]
  },
  {
   "cell_type": "code",
   "execution_count": 49,
   "metadata": {},
   "outputs": [
    {
     "name": "stdout",
     "output_type": "stream",
     "text": [
      "(163246, 5)\n"
     ]
    },
    {
     "data": {
      "text/plain": [
       "(163246, 5)"
      ]
     },
     "execution_count": 49,
     "metadata": {},
     "output_type": "execute_result"
    }
   ],
   "source": [
    "df_chemical_carriers = pd.read_csv(\"chemical_carriers.txt\",sep=\"|\", dtype='unicode')\n",
    "df_chemical_carriers = df_chemical_carriers[['carrier_id', 'test_id', 'cas_number', 'chem_name', 'formulation']]\n",
    "print(df_chemical_carriers.shape)\n",
    "df_chemical_carriers = df_chemical_carriers.drop_duplicates()\n",
    "df_chemical_carriers.shape"
   ]
  },
  {
   "cell_type": "code",
   "execution_count": 29,
   "metadata": {},
   "outputs": [],
   "source": [
    "df_chemical_formulation_codes = pd.read_csv(\"chemical_formulation_codes.txt\",sep=\"|\", dtype='unicode')\n",
    "df_chemical_grade_codes = pd.read_csv(\"chemical_grade_codes.txt\",sep=\"|\", dtype='unicode')\n",
    "df_effect_codes = pd.read_csv(\"effect_codes.txt\",sep=\"|\", dtype='unicode')"
   ]
  },
  {
   "cell_type": "code",
   "execution_count": 50,
   "metadata": {},
   "outputs": [
    {
     "name": "stdout",
     "output_type": "stream",
     "text": [
      "(15844, 2)\n"
     ]
    },
    {
     "data": {
      "text/plain": [
       "(15844, 2)"
      ]
     },
     "execution_count": 50,
     "metadata": {},
     "output_type": "execute_result"
    }
   ],
   "source": [
    "df_chemicals = pd.read_csv(\"chemicals.txt\",sep=\"|\", dtype='unicode')\n",
    "df_chemicals = df_chemicals[['cas_number','chemical_name']]\n",
    "\n",
    "print(df_chemicals.shape)\n",
    "df_chemicals = df_chemicals.drop_duplicates()\n",
    "df_chemicals.shape"
   ]
  },
  {
   "cell_type": "code",
   "execution_count": 59,
   "metadata": {},
   "outputs": [
    {
     "data": {
      "text/html": [
       "<div>\n",
       "<style scoped>\n",
       "    .dataframe tbody tr th:only-of-type {\n",
       "        vertical-align: middle;\n",
       "    }\n",
       "\n",
       "    .dataframe tbody tr th {\n",
       "        vertical-align: top;\n",
       "    }\n",
       "\n",
       "    .dataframe thead th {\n",
       "        text-align: right;\n",
       "    }\n",
       "</style>\n",
       "<table border=\"1\" class=\"dataframe\">\n",
       "  <thead>\n",
       "    <tr style=\"text-align: right;\">\n",
       "      <th></th>\n",
       "      <th>dose_resp_detail_id</th>\n",
       "      <th>dose_id</th>\n",
       "    </tr>\n",
       "  </thead>\n",
       "  <tbody>\n",
       "    <tr>\n",
       "      <th>0</th>\n",
       "      <td>1</td>\n",
       "      <td>2</td>\n",
       "    </tr>\n",
       "    <tr>\n",
       "      <th>1</th>\n",
       "      <td>2</td>\n",
       "      <td>3</td>\n",
       "    </tr>\n",
       "    <tr>\n",
       "      <th>2</th>\n",
       "      <td>3</td>\n",
       "      <td>4</td>\n",
       "    </tr>\n",
       "    <tr>\n",
       "      <th>3</th>\n",
       "      <td>4</td>\n",
       "      <td>1</td>\n",
       "    </tr>\n",
       "    <tr>\n",
       "      <th>4</th>\n",
       "      <td>5</td>\n",
       "      <td>2</td>\n",
       "    </tr>\n",
       "  </tbody>\n",
       "</table>\n",
       "</div>"
      ],
      "text/plain": [
       "  dose_resp_detail_id dose_id\n",
       "0                   1       2\n",
       "1                   2       3\n",
       "2                   3       4\n",
       "3                   4       1\n",
       "4                   5       2"
      ]
     },
     "execution_count": 59,
     "metadata": {},
     "output_type": "execute_result"
    }
   ],
   "source": [
    "df_dose_response_details = pd.read_csv(\"dose_response_details.txt\",sep=\"|\", dtype='unicode')\n",
    "df_dose_response_details = df_dose_response_details[['dose_resp_detail_id','dose_id']]\n",
    "\n",
    "df_dose_response_details.iloc[:5]"
   ]
  },
  {
   "cell_type": "code",
   "execution_count": 52,
   "metadata": {},
   "outputs": [
    {
     "name": "stdout",
     "output_type": "stream",
     "text": [
      "(121581, 2)\n"
     ]
    },
    {
     "data": {
      "text/plain": [
       "(121581, 2)"
      ]
     },
     "execution_count": 52,
     "metadata": {},
     "output_type": "execute_result"
    }
   ],
   "source": [
    "zdf_dose_response_links = pd.read_csv(\"dose_response_links.txt\",sep=\"|\", dtype='unicode')\n",
    "df_dose_response_links = df_dose_response_links[['result_id', 'dose_resp_id']]\n",
    "\n",
    "print(df_dose_response_links.shape)\n",
    "df_dose_response_links = df_dose_response_links.drop_zduplicates()\n",
    "df_dose_response_links.shape"
   ]
  },
  {
   "cell_type": "code",
   "execution_count": 55,
   "metadata": {},
   "outputs": [
    {
     "name": "stdout",
     "output_type": "stream",
     "text": [
      "(441971, 5)\n"
     ]
    },
    {
     "data": {
      "text/plain": [
       "(441971, 5)"
      ]
     },
     "execution_count": 55,
     "metadata": {},
     "output_type": "execute_result"
    }
   ],
   "source": [
    "df_doses = pd.read_csv(\"doses.txt\",sep=\"|\", dtype='unicode')\n",
    "df_doses = df_doses[['dose_id','test_id','dose1_mean','dose2_mean','dose3_mean']]\n",
    "\n",
    "print(df_doses.shape)\n",
    "df_doses = df_doses.drop_duplicates()\n",
    "df_doses.shape"
   ]
  },
  {
   "cell_type": "code",
   "execution_count": 90,
   "metadata": {},
   "outputs": [
    {
     "name": "stdout",
     "output_type": "stream",
     "text": [
      "(926108, 7)\n"
     ]
    },
    {
     "data": {
      "text/plain": [
       "(926108, 7)"
      ]
     },
     "execution_count": 90,
     "metadata": {},
     "output_type": "execute_result"
    }
   ],
   "source": [
    "df_results = pd.read_csv(\"results.txt\",sep=\"|\", dtype='unicode')\n",
    "df_results = df_results[['result_id','test_id','effect','measurement','conc1_mean','conc2_mean','conc3_mean']]\n",
    "\n",
    "print(df_results.shape)\n",
    "df_results = df_results.drop_duplicates(subset=['result_id','effect'])\n",
    "df_results.shape"
   ]
  },
  {
   "cell_type": "code",
   "execution_count": 87,
   "metadata": {},
   "outputs": [
    {
     "name": "stdout",
     "output_type": "stream",
     "text": [
      "(25225, 7)\n"
     ]
    },
    {
     "data": {
      "text/plain": [
       "(25225, 7)"
      ]
     },
     "execution_count": 87,
     "metadata": {},
     "output_type": "execute_result"
    }
   ],
   "source": [
    "df_species = pd.read_csv(\"species.txt\",sep=\"|\", dtype='unicode')\n",
    "df_species = df_species[['species_number','common_name','kingdom','class','tax_order','family','species']]\n",
    "\n",
    "print(df_species.shape)\n",
    "df_species = df_species.drop_duplicates()\n",
    "df_species.shape"
   ]
  },
  {
   "cell_type": "code",
   "execution_count": 72,
   "metadata": {},
   "outputs": [
    {
     "name": "stdout",
     "output_type": "stream",
     "text": [
      "(657735, 12)\n"
     ]
    },
    {
     "data": {
      "text/plain": [
       "(657735, 12)"
      ]
     },
     "execution_count": 72,
     "metadata": {},
     "output_type": "execute_result"
    }
   ],
   "source": [
    "df_tests = pd.read_csv(\"tests.txt\",sep=\"|\", dtype='unicode')\n",
    "df_tests = df_tests[['test_id','test_cas','organism_lifestage','species_number','organism_age_mean','organism_gender','study_duration_mean','exposure_duration_mean','test_type','num_doses_mean','application_freq_mean','halflife_mean']]\n",
    "\n",
    "print(df_tests.shape)\n",
    "df_tests = df_tests.drop_duplicates(subset=['test_id', 'test_cas'])\n",
    "df_tests.shape"
   ]
  },
  {
   "cell_type": "code",
   "execution_count": 91,
   "metadata": {},
   "outputs": [
    {
     "data": {
      "text/html": [
       "<div>\n",
       "<style scoped>\n",
       "    .dataframe tbody tr th:only-of-type {\n",
       "        vertical-align: middle;\n",
       "    }\n",
       "\n",
       "    .dataframe tbody tr th {\n",
       "        vertical-align: top;\n",
       "    }\n",
       "\n",
       "    .dataframe thead th {\n",
       "        text-align: right;\n",
       "    }\n",
       "</style>\n",
       "<table border=\"1\" class=\"dataframe\">\n",
       "  <thead>\n",
       "    <tr style=\"text-align: right;\">\n",
       "      <th></th>\n",
       "      <th>test_id</th>\n",
       "      <th>test_cas</th>\n",
       "      <th>organism_lifestage</th>\n",
       "      <th>species_number</th>\n",
       "      <th>organism_age_mean</th>\n",
       "      <th>organism_gender</th>\n",
       "      <th>study_duration_mean</th>\n",
       "      <th>exposure_duration_mean</th>\n",
       "      <th>test_type</th>\n",
       "      <th>num_doses_mean</th>\n",
       "      <th>...</th>\n",
       "      <th>result_id</th>\n",
       "      <th>effect</th>\n",
       "      <th>measurement</th>\n",
       "      <th>conc1_mean</th>\n",
       "      <th>conc2_mean</th>\n",
       "      <th>conc3_mean</th>\n",
       "      <th>dose_id</th>\n",
       "      <th>dose1_mean</th>\n",
       "      <th>dose2_mean</th>\n",
       "      <th>dose3_mean</th>\n",
       "    </tr>\n",
       "  </thead>\n",
       "  <tbody>\n",
       "    <tr>\n",
       "      <th>0</th>\n",
       "      <td>1</td>\n",
       "      <td>1336363</td>\n",
       "      <td>NR</td>\n",
       "      <td>4906</td>\n",
       "      <td>1</td>\n",
       "      <td>Male</td>\n",
       "      <td>15</td>\n",
       "      <td>15</td>\n",
       "      <td>NC</td>\n",
       "      <td>4</td>\n",
       "      <td>...</td>\n",
       "      <td>1182449</td>\n",
       "      <td>ENZ</td>\n",
       "      <td>GENZ/</td>\n",
       "      <td>NR</td>\n",
       "      <td>NaN</td>\n",
       "      <td>NaN</td>\n",
       "      <td>1</td>\n",
       "      <td>0</td>\n",
       "      <td>NaN</td>\n",
       "      <td>NaN</td>\n",
       "    </tr>\n",
       "    <tr>\n",
       "      <th>1</th>\n",
       "      <td>1</td>\n",
       "      <td>1336363</td>\n",
       "      <td>NR</td>\n",
       "      <td>4906</td>\n",
       "      <td>1</td>\n",
       "      <td>Male</td>\n",
       "      <td>15</td>\n",
       "      <td>15</td>\n",
       "      <td>NC</td>\n",
       "      <td>4</td>\n",
       "      <td>...</td>\n",
       "      <td>1182449</td>\n",
       "      <td>ENZ</td>\n",
       "      <td>GENZ/</td>\n",
       "      <td>NR</td>\n",
       "      <td>NaN</td>\n",
       "      <td>NaN</td>\n",
       "      <td>2</td>\n",
       "      <td>5</td>\n",
       "      <td>NaN</td>\n",
       "      <td>NaN</td>\n",
       "    </tr>\n",
       "    <tr>\n",
       "      <th>2</th>\n",
       "      <td>1</td>\n",
       "      <td>1336363</td>\n",
       "      <td>NR</td>\n",
       "      <td>4906</td>\n",
       "      <td>1</td>\n",
       "      <td>Male</td>\n",
       "      <td>15</td>\n",
       "      <td>15</td>\n",
       "      <td>NC</td>\n",
       "      <td>4</td>\n",
       "      <td>...</td>\n",
       "      <td>1182449</td>\n",
       "      <td>ENZ</td>\n",
       "      <td>GENZ/</td>\n",
       "      <td>NR</td>\n",
       "      <td>NaN</td>\n",
       "      <td>NaN</td>\n",
       "      <td>3</td>\n",
       "      <td>25</td>\n",
       "      <td>NaN</td>\n",
       "      <td>NaN</td>\n",
       "    </tr>\n",
       "    <tr>\n",
       "      <th>3</th>\n",
       "      <td>1</td>\n",
       "      <td>1336363</td>\n",
       "      <td>NR</td>\n",
       "      <td>4906</td>\n",
       "      <td>1</td>\n",
       "      <td>Male</td>\n",
       "      <td>15</td>\n",
       "      <td>15</td>\n",
       "      <td>NC</td>\n",
       "      <td>4</td>\n",
       "      <td>...</td>\n",
       "      <td>1182449</td>\n",
       "      <td>ENZ</td>\n",
       "      <td>GENZ/</td>\n",
       "      <td>NR</td>\n",
       "      <td>NaN</td>\n",
       "      <td>NaN</td>\n",
       "      <td>4</td>\n",
       "      <td>125</td>\n",
       "      <td>NaN</td>\n",
       "      <td>NaN</td>\n",
       "    </tr>\n",
       "    <tr>\n",
       "      <th>4</th>\n",
       "      <td>1</td>\n",
       "      <td>1336363</td>\n",
       "      <td>NR</td>\n",
       "      <td>4906</td>\n",
       "      <td>1</td>\n",
       "      <td>Male</td>\n",
       "      <td>15</td>\n",
       "      <td>15</td>\n",
       "      <td>NC</td>\n",
       "      <td>4</td>\n",
       "      <td>...</td>\n",
       "      <td>1182450</td>\n",
       "      <td>HRM</td>\n",
       "      <td>TSTR</td>\n",
       "      <td>NR</td>\n",
       "      <td>NaN</td>\n",
       "      <td>NaN</td>\n",
       "      <td>1</td>\n",
       "      <td>0</td>\n",
       "      <td>NaN</td>\n",
       "      <td>NaN</td>\n",
       "    </tr>\n",
       "  </tbody>\n",
       "</table>\n",
       "<p>5 rows × 22 columns</p>\n",
       "</div>"
      ],
      "text/plain": [
       "  test_id test_cas organism_lifestage species_number organism_age_mean  \\\n",
       "0       1  1336363                 NR           4906                 1   \n",
       "1       1  1336363                 NR           4906                 1   \n",
       "2       1  1336363                 NR           4906                 1   \n",
       "3       1  1336363                 NR           4906                 1   \n",
       "4       1  1336363                 NR           4906                 1   \n",
       "\n",
       "  organism_gender study_duration_mean exposure_duration_mean test_type  \\\n",
       "0            Male                  15                     15        NC   \n",
       "1            Male                  15                     15        NC   \n",
       "2            Male                  15                     15        NC   \n",
       "3            Male                  15                     15        NC   \n",
       "4            Male                  15                     15        NC   \n",
       "\n",
       "  num_doses_mean  ... result_id effect measurement conc1_mean conc2_mean  \\\n",
       "0              4  ...   1182449    ENZ       GENZ/         NR        NaN   \n",
       "1              4  ...   1182449    ENZ       GENZ/         NR        NaN   \n",
       "2              4  ...   1182449    ENZ       GENZ/         NR        NaN   \n",
       "3              4  ...   1182449    ENZ       GENZ/         NR        NaN   \n",
       "4              4  ...   1182450    HRM        TSTR         NR        NaN   \n",
       "\n",
       "  conc3_mean dose_id dose1_mean dose2_mean dose3_mean  \n",
       "0        NaN       1          0        NaN        NaN  \n",
       "1        NaN       2          5        NaN        NaN  \n",
       "2        NaN       3         25        NaN        NaN  \n",
       "3        NaN       4        125        NaN        NaN  \n",
       "4        NaN       1          0        NaN        NaN  \n",
       "\n",
       "[5 rows x 22 columns]"
      ]
     },
     "execution_count": 91,
     "metadata": {},
     "output_type": "execute_result"
    }
   ],
   "source": [
    "df = df_tests.merge(df_results, on=['test_id'])\n",
    "df = df.merge(df_doses, on=['test_id'])\n",
    "#df = df.merge(df_dose_response_links, on=['result_id'])\n",
    "#df = df.merge(df_dose_response_details, on=['dose_id'])\n",
    "#df = df.merge(df_chemical_carriers, on=['test_id'])\n",
    "#df = df.merge(df_chemicals, on=['cas_number'])\n",
    "#df = df.merge(df_species, on=['species_number'])\n",
    "df.iloc[:5]"
   ]
  },
  {
   "cell_type": "code",
   "execution_count": 92,
   "metadata": {},
   "outputs": [
    {
     "data": {
      "text/plain": [
       "(1293437, 22)"
      ]
     },
     "execution_count": 92,
     "metadata": {},
     "output_type": "execute_result"
    }
   ],
   "source": [
    "df_clone = df\n",
    "df.shape"
   ]
  },
  {
   "cell_type": "code",
   "execution_count": 75,
   "metadata": {},
   "outputs": [
    {
     "data": {
      "text/plain": [
       "(657735, 18)"
      ]
     },
     "execution_count": 75,
     "metadata": {},
     "output_type": "execute_result"
    }
   ],
   "source": [
    "df_clone = df_clone.drop_duplicates(subset=['test_id'])\n",
    "df_clone.shape"
   ]
  },
  {
   "cell_type": "code",
   "execution_count": null,
   "metadata": {},
   "outputs": [],
   "source": []
  },
  {
   "cell_type": "code",
   "execution_count": null,
   "metadata": {},
   "outputs": [],
   "source": []
  }
 ],
 "metadata": {
  "kernelspec": {
   "display_name": "Python 3",
   "language": "python",
   "name": "python3"
  },
  "language_info": {
   "codemirror_mode": {
    "name": "ipython",
    "version": 3
   },
   "file_extension": ".py",
   "mimetype": "text/x-python",
   "name": "python",
   "nbconvert_exporter": "python",
   "pygments_lexer": "ipython3",
   "version": "3.7.3"
  }
 },
 "nbformat": 4,
 "nbformat_minor": 2
}
