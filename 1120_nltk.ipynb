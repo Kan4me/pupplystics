{
 "cells": [
  {
   "cell_type": "markdown",
   "metadata": {},
   "source": [
    "pip3 install -U spacy  \n",
    "\n",
    "python3 -m spacy download en\n",
    "\n",
    "ref: https://datascienceplus.com/topic-modeling-in-python-with-nltk-and-gensim/"
   ]
  },
  {
   "cell_type": "code",
   "execution_count": 4,
   "metadata": {},
   "outputs": [],
   "source": [
    "import spacy\n",
    "spacy.load('en')\n",
    "from spacy.lang.en import English\n",
    "parser = English()\n",
    "def tokenize(text):\n",
    "    lda_tokens = []\n",
    "    tokens = parser(text)\n",
    "    for token in tokens:\n",
    "        if token.orth_.isspace():\n",
    "            continue\n",
    "        elif token.like_url:\n",
    "            lda_tokens.append('URL')\n",
    "        elif token.orth_.startswith('@'):\n",
    "            lda_tokens.append('SCREEN_NAME')\n",
    "        else:\n",
    "            lda_tokens.append(token.lower_)\n",
    "    return lda_tokens"
   ]
  },
  {
   "cell_type": "code",
   "execution_count": 5,
   "metadata": {},
   "outputs": [
    {
     "name": "stderr",
     "output_type": "stream",
     "text": [
      "[nltk_data] Downloading package wordnet to /Users/zireael/nltk_data...\n",
      "[nltk_data]   Unzipping corpora/wordnet.zip.\n"
     ]
    }
   ],
   "source": [
    "import nltk\n",
    "nltk.download('wordnet')\n",
    "from nltk.corpus import wordnet as wn\n",
    "def get_lemma(word):\n",
    "    lemma = wn.morphy(word)\n",
    "    if lemma is None:\n",
    "        return word\n",
    "    else:\n",
    "        return lemma\n",
    "    \n",
    "from nltk.stem.wordnet import WordNetLemmatizer\n",
    "def get_lemma2(word):\n",
    "    return WordNetLemmatizer().lemmatize(word)"
   ]
  },
  {
   "cell_type": "code",
   "execution_count": 16,
   "metadata": {},
   "outputs": [
    {
     "name": "stdout",
     "output_type": "stream",
     "text": [
      "{'had', 'being', 'nor', 'into', 'don', 'do', 'the', 'myself', \"doesn't\", 'down', \"don't\", 'through', \"weren't\", 'a', 'here', 'an', 'same', 'below', \"won't\", \"couldn't\", 'both', 'doing', \"you'll\", 'this', 'hadn', 'but', 'there', \"you'd\", 'is', \"shan't\", 'himself', 'ours', \"didn't\", 'can', 'each', 'just', 'no', \"needn't\", 'in', 're', 'wasn', 'again', 'shan', 'as', 'any', \"hasn't\", 'me', 'have', 'been', \"isn't\", 'between', 'further', '|', \"aren't\", 'mustn', 'my', 'will', 'or', 'ain', 'to', 'are', 'hasn', 'shouldn', 'from', 'more', 'she', 'over', 'other', 'very', 'ourselves', 'yourselves', 'once', 'm', 'has', 'he', 'such', 'theirs', 'during', 'yourself', 'themselves', 'y', 'ma', 'we', \"mustn't\", 'did', 'so', 'those', 'you', 'herself', 'does', 'isn', 'before', 'mightn', 'haven', 'above', \"wouldn't\", 'him', 'up', 've', \"that'll\", 'they', 'were', 'against', 'i', \"you're\", 'won', 'your', 'then', 'only', 'hers', 'when', 'for', 'couldn', 'not', 'by', \"it's\", 'aren', 'needn', 'd', 'didn', 'these', 'own', \"haven't\", 'of', 'll', 'whom', 'some', 'how', 'o', \"hadn't\", \"mightn't\", 'yours', 'her', 't', 'than', 's', 'our', 'if', 'doesn', 'now', 'itself', \"wasn't\", 'should', 'am', 'which', 'and', 'what', \"you've\", 'having', 'while', 'all', 'weren', 'wouldn', 'his', 'under', 'why', \"she's\", 'its', 'about', 'until', 'with', 'it', 'few', 'that', 'their', 'on', 'who', 'where', 'out', 'too', 'them', 'after', 'because', 'be', 'off', \"should've\", 'was', \"shouldn't\", 'at', 'most'}\n"
     ]
    }
   ],
   "source": [
    "# nltk.download('stopwords')\n",
    "# en_stop = set(nltk.corpus.stopwords.words('english'))\n",
    "\n",
    "from nltk.corpus import stopwords\n",
    "stop_words = set(stopwords.words(\"english\"))\n",
    "\n",
    "\n",
    "new_stopwords = ['|']\n",
    "new_stopwords_list = stop_words.union(new_stopwords)\n",
    "\n",
    "print(new_stopwords_list)"
   ]
  },
  {
   "cell_type": "code",
   "execution_count": 17,
   "metadata": {},
   "outputs": [],
   "source": [
    "def prepare_text_for_lda(text):\n",
    "    tokens = tokenize(text)\n",
    "    tokens = [token for token in tokens if len(token) > 4]\n",
    "    tokens = [token for token in tokens if token not in new_stopwords]\n",
    "    tokens = [get_lemma(token) for token in tokens]\n",
    "    return tokens"
   ]
  },
  {
   "cell_type": "code",
   "execution_count": 37,
   "metadata": {},
   "outputs": [
    {
     "name": "stdout",
     "output_type": "stream",
     "text": [
      "['56359', '1,1,1,3,3,3-hexabutyldistannoxane', 'not_reported', 'mammal', 'mus_musculus', 'house_mouse', 'not_reported', 'not_reported', 'no_substrate', 'gavage', 'mortality', 'mortality', 'not_reported', 'unmeasured', 'total', 'day(s', 'davis', 'a.,_r._barale,_g._brun,_r._forster,_t._gunther,_h._hautefeuille,_c.a._van_der_heijden,_a.g.a.c._knaap,_r._krowke', '61037', 'evaluation_of_the_genetic_and_embryotoxic_effects_of_bis(tri', 'butyltin)_oxide_(tbto),_a_broad', 'spectrum_pesticide,_in_multiple_in_vivo_and_in_vitro_short', 'term_tests', 'mutat._res.188:65']\n",
      "['58366', \"10,10'-oxybis-10h\", 'phenoxarsine', 'not_reported', 'mammal', 'cavia_porcellus', 'guinea_pig', 'not_reported', 'not_reported', 'no_substrate', 'gavage', 'mortality', 'mortality', 'not_reported', 'unmeasured', 'total', 'day(s', 'ballantyne', '35725', 'the_comparative_short', 'term_mammalian_toxicology_of_phenarsazine_oxide_and_phenoxarsine_oxide', 'toxicology10:341']\n",
      "['60571', '1ar,2r,2as,3s,6r,6ar,7s,7as)-rel-3,4,5,6,9,9-hexachloro-1a,2,2a,3,6,6a,7,7a', 'octahydro-2,7:3,6-dimethanonaphth[2,3-b]oxirene', 'not_reported', 'mammal', 'damaliscus_pygargus', 'blesbok', 'not_reported', 'month(s', 'not_reported', 'field_artificial', 'mortality', 'mortality', 'not_reported', 'unmeasured', 'active_ingredient', 'kg_org', 'day(s', 'wiese', 'i.h.,_n.c.j._basson,_p.a._basson,_t.w._naude,_and_b.p._maartens', '39380', 'the_toxicology_and_pathology_of_dieldrin_and_photodieldrin_poisoning_in_two_antelope_species', 'onderstepoort_j._vet._res.40(1):_31']\n",
      "['60571', '1ar,2r,2as,3s,6r,6ar,7s,7as)-rel-3,4,5,6,9,9-hexachloro-1a,2,2a,3,6,6a,7,7a', 'octahydro-2,7:3,6-dimethanonaphth[2,3-b]oxirene', 'not_reported', 'mammals;_standard_test_species', 'rattus_norvegicus', 'norway_rat', 'not_reported', 'week(s', 'not_reported', 'oral_via_capsule', 'mortality', 'mortality', 'not_reported', 'not_reported', 'active_ingredient', 'day(s', 'bedford', 'c.t.,_d.h._hutson,_and_i.l._natoff', '35034', 'the_acute_toxicity_of_endrin_and_its_metabolites_to_rats', 'toxicol._appl._pharmacol.33:115']\n",
      "['62737', 'phosphoric_acid_2,2-dichloroethenyl_dimethyl_ester', 'not_reported', 'mammal', 'mus_musculus', 'house_mouse', 'not_reported', 'not_reported', 'not_reported', 'gavage', 'mortality', 'mortality', 'not_reported', 'unmeasured', 'active_ingredient', '114.69', '107.30', '125.39', 'kg_org', 'day(s', 'haley', 't.j.,_j.h._farmer,_j.r._harmon,_and_k.l._dooley', '35203', 'estimation_of_the_ld1_and_extrapolation_of_the_ld0.1_for_five_organophosphate_pesticides', 'arch._toxicol.34:103']\n",
      "['62737', 'phosphoric_acid_2,2-dichloroethenyl_dimethyl_ester', 'not_reported', 'mammal', 'mus_musculus', 'house_mouse', 'not_reported', 'not_reported', 'not_reported', 'gavage', 'mortality', 'mortality', 'not_reported', 'not_reported', 'active_ingredient', '127.9', '138.3', 'kg_org', 'day(s', 'haley', 't.j.,_j.h._farmer,_j.r._harmon,_and_k.l._dooley', '35203', 'estimation_of_the_ld1_and_extrapolation_of_the_ld0.1_for_five_organophosphate_pesticides', 'arch._toxicol.34:103']\n",
      "['63252', '1-naphthalenol_methylcarbamate', 'not_reported', 'mammal', 'mus_musculus', 'house_mouse', 'not_reported', 'not_reported', 'not_reported', 'oral_via_capsule', 'mortality', 'mortality', 'not_reported', 'unmeasured', 'not_coded', 'day(s', 'kobayashi', 'synergism_in_pesticide_toxicity_(2)__acute_oral_toxicity_of_anti', 'che_pesticides_in_mice', 'j._med._soc._toho_univ.25(4):_635']\n",
      "['70304', \"2,2'-methylenebis[3,4,6-trichlorophenol\", 'united_states_pharmacopeia_grade', 'mammals;_standard_test_species', 'rattus_norvegicus', 'norway_rat', 'adult', 'not_reported', 'not_reported', 'intravenous', 'mortality', 'mortality', 'not_reported', 'not_reported', 'active_ingredient', '.0076', 'day(s', 'gain', 't.b.,_r.d._kimbrough,_and_r.e._linder', '35171', 'the_oral_and_dermal_toxicity_of_hexachlorophene_in_rats', 'toxicol._appl._pharmacol.25:332']\n",
      "['82688', '1,2,3,4,5-pentachloro-6-nitrobenzene', 'not_reported', 'mammal', 'microtus_montanus', 'montane_vole', 'not_reported', 'day(s', 'no_substrate', 'gavage', 'mortality', 'mortality', 'not_reported', 'unmeasured', 'formulation', '17110', 'kg_bdwt', 'day(s', 'cholakis', 'j.m.,_l.c.k._wong,_and_c.c._lee', '70756', 'study_of_the_chemical_and_behavioral_toxicology_of_substitute_chemicals_in_microtine_rodents', 'epa-600/3', '082,_u.s.epa,_corvallis,_or:54_p']\n",
      "['114261', '2-(1-methylethoxy)phenol,_1-(n', 'methylcarbamate', 'not_reported', 'mammals;_standard_test_species', 'rattus_norvegicus', 'norway_rat', 'not_reported', 'not_reported', 'no_substrate', 'intraperitoneal', 'mortality', 'mortality', 'not_reported', 'unmeasured', 'active_ingredient', 'day(s', 'neskovic', '110891', 'effects_of_subacute_feeding_of_carbaryl_on_mixed_function_oxidase_and_on_acute_toxicity_of_parathion_and_propoxur_in_rats', 'environ._res.20(1):_148']\n",
      "['116063', '2-methyl-2-(methylthio)propanol_o-[(methylamino)carbonyl]oxime', 'not_coded', 'mammal', 'rattus_rattus', 'black_rat', 'adult', 'not_coded', 'not_coded', 'mortality', 'mortality', 'not_coded', 'not_coded', 'active_ingredient', '108.2', '141.2', 'day(s', 'u.s._environmental_protection_agency', 'pesticide_ecotoxicity_database_(formerly:__environmental_effects_database_(eedb', 'environmental_fate_and_effects_division,_u.s.epa,_washington,_d.c.']\n",
      "['13464385', 'arsenic_acid_(h3aso4),_trisodium_salt', 'technical_grade,_technical_product,_technical_formulation', 'mammal', 'peromyscus_maniculatus', 'deer_mouse', 'not_reported', 'not_reported', 'not_reported', 'oral_via_capsule', 'mortality', 'mortality', 'not_reported', 'not_reported', 'not_coded', 'day(s', 'schafer', 'e.w.,jr', ',_and_w.a.,jr._bowles', '35426', 'acute_oral_toxicity_and_repellency_of_933_chemicals_to_house_and_deer_mice', 'arch._environ._contam._toxicol.14(1):_111']\n",
      "['14583449', '6-(2,6-dioxo-3-piperidinyl)-2,3-dihydro-5h-1,4-dithiino[2,3-c]pyrrole-5,7(6h)-dione', 'not_reported', 'mammal', 'mus_musculus', 'house_mouse', 'gestation', 'not_reported', 'no_substrate', 'intraperitoneal', 'mortality', 'mortality', 'not_reported', 'unmeasured', 'formulation', 'day(s', 'fickentscher', 'k.,_a._kirfel,_g._will,_and_f._kohler', '91811', 'stereochemical_properties_and_teratogenic_activity_of_some_tetrahydrophthalimides', 'mol._pharmacol.13(1):_133']\n",
      "['22224926', '1-methylethyl)phosphoramidic_acid_ethyl-3-methyl-4-(methylthio)phenyl_ester', 'not_coded', 'mammal', 'rattus_rattus', 'black_rat', 'adult', 'not_coded', 'not_coded', 'mortality', 'mortality', 'not_coded', 'not_coded', 'active_ingredient', 'day(s', 'u.s._environmental_protection_agency', 'pesticide_ecotoxicity_database_(formerly:__environmental_effects_database_(eedb', 'environmental_fate_and_effects_division,_u.s.epa,_washington,_d.c.']\n",
      "['49748767', '3,4,5,6,9,9-hexachloro-1a,2,2a,3,6,6a,7,7a', 'octahydro-2,7:3,6-dimethanonaphth[2,3-b]oxiren-8-ol_stereoisomer', 'not_reported', 'mammals;_standard_test_species', 'rattus_norvegicus', 'norway_rat', 'not_reported', 'week(s', 'not_reported', 'oral_via_capsule', 'mortality', 'mortality', 'not_reported', 'not_reported', 'not_coded', 'day(s', 'bedford', 'c.t.,_d.h._hutson,_and_i.l._natoff', '35034', 'the_acute_toxicity_of_endrin_and_its_metabolites_to_rats', 'toxicol._appl._pharmacol.33:115']\n"
     ]
    }
   ],
   "source": [
    "import random\n",
    "text_data = []\n",
    "\n",
    "with open('data/treated_data/topic-model.csv') as f:\n",
    "    for line in f:\n",
    "        tokens = prepare_text_for_lda(line)\n",
    "        if random.random() > .99:\n",
    "            print(tokens)\n",
    "            text_data.append(tokens)"
   ]
  },
  {
   "cell_type": "code",
   "execution_count": 39,
   "metadata": {
    "scrolled": true
   },
   "outputs": [
    {
     "ename": "SyntaxError",
     "evalue": "invalid syntax (<ipython-input-39-fd38a53b19e8>, line 2)",
     "output_type": "error",
     "traceback": [
      "\u001b[0;36m  File \u001b[0;32m\"<ipython-input-39-fd38a53b19e8>\"\u001b[0;36m, line \u001b[0;32m2\u001b[0m\n\u001b[0;31m    dictionary = corpora.Dictionary(text_data)corpus = [dictionary.doc2bow(text) for text in text_data]\u001b[0m\n\u001b[0m                                                   ^\u001b[0m\n\u001b[0;31mSyntaxError\u001b[0m\u001b[0;31m:\u001b[0m invalid syntax\n"
     ]
    }
   ],
   "source": [
    "from gensim import corpora\n",
    "dictionary = corpora.Dictionary(text_data)corpus = [dictionary.doc2bow(text) for text in text_data]\n",
    "import pickle\n",
    "pickle.dump(corpus, open('corpus.pkl', 'wb'))\n",
    "dictionary.save('dictionary.gensim')"
   ]
  },
  {
   "cell_type": "code",
   "execution_count": null,
   "metadata": {},
   "outputs": [],
   "source": []
  }
 ],
 "metadata": {
  "kernelspec": {
   "display_name": "Python 3",
   "language": "python",
   "name": "python3"
  },
  "language_info": {
   "codemirror_mode": {
    "name": "ipython",
    "version": 3
   },
   "file_extension": ".py",
   "mimetype": "text/x-python",
   "name": "python",
   "nbconvert_exporter": "python",
   "pygments_lexer": "ipython3",
   "version": "3.7.3"
  }
 },
 "nbformat": 4,
 "nbformat_minor": 2
}
