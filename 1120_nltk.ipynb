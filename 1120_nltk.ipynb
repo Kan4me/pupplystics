{
 "cells": [
  {
   "cell_type": "markdown",
   "metadata": {},
   "source": [
    "# NLTK\n",
    "\n",
    "Fist, install some packs\n",
    "\n",
    "```\n",
    "pip3 install -U spacy  \n",
    "```\n",
    "\n",
    "```\n",
    "python3 -m spacy download en\n",
    "```\n",
    "\n",
    "```\n",
    "pip install pyldavis\n",
    "```\n",
    "\n",
    "ref: https://datascienceplus.com/topic-modeling-in-python-with-nltk-and-gensim/"
   ]
  },
  {
   "cell_type": "code",
   "execution_count": 4,
   "metadata": {},
   "outputs": [],
   "source": [
    "import spacy\n",
    "spacy.load('en')\n",
    "from spacy.lang.en import English\n",
    "parser = English()\n",
    "def tokenize(text):\n",
    "    lda_tokens = []\n",
    "    tokens = parser(text)\n",
    "    for token in tokens:\n",
    "        if token.orth_.isspace():\n",
    "            continue\n",
    "        elif token.like_url:\n",
    "            lda_tokens.append('URL')\n",
    "        elif token.orth_.startswith('@'):\n",
    "            lda_tokens.append('SCREEN_NAME')\n",
    "        else:\n",
    "            lda_tokens.append(token.lower_)\n",
    "    return lda_tokens"
   ]
  },
  {
   "cell_type": "code",
   "execution_count": 5,
   "metadata": {},
   "outputs": [
    {
     "name": "stderr",
     "output_type": "stream",
     "text": [
      "[nltk_data] Downloading package wordnet to /Users/zireael/nltk_data...\n",
      "[nltk_data]   Unzipping corpora/wordnet.zip.\n"
     ]
    }
   ],
   "source": [
    "import nltk\n",
    "nltk.download('wordnet')\n",
    "from nltk.corpus import wordnet as wn\n",
    "def get_lemma(word):\n",
    "    lemma = wn.morphy(word)\n",
    "    if lemma is None:\n",
    "        return word\n",
    "    else:\n",
    "        return lemma\n",
    "    \n",
    "from nltk.stem.wordnet import WordNetLemmatizer\n",
    "def get_lemma2(word):\n",
    "    return WordNetLemmatizer().lemmatize(word)"
   ]
  },
  {
   "cell_type": "code",
   "execution_count": 16,
   "metadata": {},
   "outputs": [
    {
     "name": "stdout",
     "output_type": "stream",
     "text": [
      "{'had', 'being', 'nor', 'into', 'don', 'do', 'the', 'myself', \"doesn't\", 'down', \"don't\", 'through', \"weren't\", 'a', 'here', 'an', 'same', 'below', \"won't\", \"couldn't\", 'both', 'doing', \"you'll\", 'this', 'hadn', 'but', 'there', \"you'd\", 'is', \"shan't\", 'himself', 'ours', \"didn't\", 'can', 'each', 'just', 'no', \"needn't\", 'in', 're', 'wasn', 'again', 'shan', 'as', 'any', \"hasn't\", 'me', 'have', 'been', \"isn't\", 'between', 'further', '|', \"aren't\", 'mustn', 'my', 'will', 'or', 'ain', 'to', 'are', 'hasn', 'shouldn', 'from', 'more', 'she', 'over', 'other', 'very', 'ourselves', 'yourselves', 'once', 'm', 'has', 'he', 'such', 'theirs', 'during', 'yourself', 'themselves', 'y', 'ma', 'we', \"mustn't\", 'did', 'so', 'those', 'you', 'herself', 'does', 'isn', 'before', 'mightn', 'haven', 'above', \"wouldn't\", 'him', 'up', 've', \"that'll\", 'they', 'were', 'against', 'i', \"you're\", 'won', 'your', 'then', 'only', 'hers', 'when', 'for', 'couldn', 'not', 'by', \"it's\", 'aren', 'needn', 'd', 'didn', 'these', 'own', \"haven't\", 'of', 'll', 'whom', 'some', 'how', 'o', \"hadn't\", \"mightn't\", 'yours', 'her', 't', 'than', 's', 'our', 'if', 'doesn', 'now', 'itself', \"wasn't\", 'should', 'am', 'which', 'and', 'what', \"you've\", 'having', 'while', 'all', 'weren', 'wouldn', 'his', 'under', 'why', \"she's\", 'its', 'about', 'until', 'with', 'it', 'few', 'that', 'their', 'on', 'who', 'where', 'out', 'too', 'them', 'after', 'because', 'be', 'off', \"should've\", 'was', \"shouldn't\", 'at', 'most'}\n"
     ]
    }
   ],
   "source": [
    "# nltk.download('stopwords')\n",
    "# en_stop = set(nltk.corpus.stopwords.words('english'))\n",
    "\n",
    "from nltk.corpus import stopwords\n",
    "stop_words = set(stopwords.words(\"english\"))\n",
    "\n",
    "\n",
    "new_stopwords = ['|'] #no neet since the file was updated. more info to came\n",
    "new_stopwords_list = stop_words.union(new_stopwords)\n",
    "\n",
    "print(new_stopwords_list)"
   ]
  },
  {
   "cell_type": "code",
   "execution_count": 17,
   "metadata": {},
   "outputs": [],
   "source": [
    "def prepare_text_for_lda(text):\n",
    "    tokens = tokenize(text)\n",
    "    tokens = [token for token in tokens if len(token) > 4]\n",
    "    tokens = [token for token in tokens if token not in new_stopwords]\n",
    "    tokens = [get_lemma(token) for token in tokens]\n",
    "    return tokens"
   ]
  },
  {
   "cell_type": "markdown",
   "metadata": {},
   "source": [
    "Topic model file is the database only replacing some values so it will have a aproximate behaviour as a textual document, as having space between values(representing words) and replacing every space with a underscore so the 'palavara composta?' dont be lost without its context"
   ]
  },
  {
   "cell_type": "code",
   "execution_count": 37,
   "metadata": {},
   "outputs": [
    {
     "name": "stdout",
     "output_type": "stream",
     "text": [
      "['56359', '1,1,1,3,3,3-hexabutyldistannoxane', 'not_reported', 'mammal', 'mus_musculus', 'house_mouse', 'not_reported', 'not_reported', 'no_substrate', 'gavage', 'mortality', 'mortality', 'not_reported', 'unmeasured', 'total', 'day(s', 'davis', 'a.,_r._barale,_g._brun,_r._forster,_t._gunther,_h._hautefeuille,_c.a._van_der_heijden,_a.g.a.c._knaap,_r._krowke', '61037', 'evaluation_of_the_genetic_and_embryotoxic_effects_of_bis(tri', 'butyltin)_oxide_(tbto),_a_broad', 'spectrum_pesticide,_in_multiple_in_vivo_and_in_vitro_short', 'term_tests', 'mutat._res.188:65']\n",
      "['58366', \"10,10'-oxybis-10h\", 'phenoxarsine', 'not_reported', 'mammal', 'cavia_porcellus', 'guinea_pig', 'not_reported', 'not_reported', 'no_substrate', 'gavage', 'mortality', 'mortality', 'not_reported', 'unmeasured', 'total', 'day(s', 'ballantyne', '35725', 'the_comparative_short', 'term_mammalian_toxicology_of_phenarsazine_oxide_and_phenoxarsine_oxide', 'toxicology10:341']\n",
      "['60571', '1ar,2r,2as,3s,6r,6ar,7s,7as)-rel-3,4,5,6,9,9-hexachloro-1a,2,2a,3,6,6a,7,7a', 'octahydro-2,7:3,6-dimethanonaphth[2,3-b]oxirene', 'not_reported', 'mammal', 'damaliscus_pygargus', 'blesbok', 'not_reported', 'month(s', 'not_reported', 'field_artificial', 'mortality', 'mortality', 'not_reported', 'unmeasured', 'active_ingredient', 'kg_org', 'day(s', 'wiese', 'i.h.,_n.c.j._basson,_p.a._basson,_t.w._naude,_and_b.p._maartens', '39380', 'the_toxicology_and_pathology_of_dieldrin_and_photodieldrin_poisoning_in_two_antelope_species', 'onderstepoort_j._vet._res.40(1):_31']\n",
      "['60571', '1ar,2r,2as,3s,6r,6ar,7s,7as)-rel-3,4,5,6,9,9-hexachloro-1a,2,2a,3,6,6a,7,7a', 'octahydro-2,7:3,6-dimethanonaphth[2,3-b]oxirene', 'not_reported', 'mammals;_standard_test_species', 'rattus_norvegicus', 'norway_rat', 'not_reported', 'week(s', 'not_reported', 'oral_via_capsule', 'mortality', 'mortality', 'not_reported', 'not_reported', 'active_ingredient', 'day(s', 'bedford', 'c.t.,_d.h._hutson,_and_i.l._natoff', '35034', 'the_acute_toxicity_of_endrin_and_its_metabolites_to_rats', 'toxicol._appl._pharmacol.33:115']\n",
      "['62737', 'phosphoric_acid_2,2-dichloroethenyl_dimethyl_ester', 'not_reported', 'mammal', 'mus_musculus', 'house_mouse', 'not_reported', 'not_reported', 'not_reported', 'gavage', 'mortality', 'mortality', 'not_reported', 'unmeasured', 'active_ingredient', '114.69', '107.30', '125.39', 'kg_org', 'day(s', 'haley', 't.j.,_j.h._farmer,_j.r._harmon,_and_k.l._dooley', '35203', 'estimation_of_the_ld1_and_extrapolation_of_the_ld0.1_for_five_organophosphate_pesticides', 'arch._toxicol.34:103']\n",
      "['62737', 'phosphoric_acid_2,2-dichloroethenyl_dimethyl_ester', 'not_reported', 'mammal', 'mus_musculus', 'house_mouse', 'not_reported', 'not_reported', 'not_reported', 'gavage', 'mortality', 'mortality', 'not_reported', 'not_reported', 'active_ingredient', '127.9', '138.3', 'kg_org', 'day(s', 'haley', 't.j.,_j.h._farmer,_j.r._harmon,_and_k.l._dooley', '35203', 'estimation_of_the_ld1_and_extrapolation_of_the_ld0.1_for_five_organophosphate_pesticides', 'arch._toxicol.34:103']\n",
      "['63252', '1-naphthalenol_methylcarbamate', 'not_reported', 'mammal', 'mus_musculus', 'house_mouse', 'not_reported', 'not_reported', 'not_reported', 'oral_via_capsule', 'mortality', 'mortality', 'not_reported', 'unmeasured', 'not_coded', 'day(s', 'kobayashi', 'synergism_in_pesticide_toxicity_(2)__acute_oral_toxicity_of_anti', 'che_pesticides_in_mice', 'j._med._soc._toho_univ.25(4):_635']\n",
      "['70304', \"2,2'-methylenebis[3,4,6-trichlorophenol\", 'united_states_pharmacopeia_grade', 'mammals;_standard_test_species', 'rattus_norvegicus', 'norway_rat', 'adult', 'not_reported', 'not_reported', 'intravenous', 'mortality', 'mortality', 'not_reported', 'not_reported', 'active_ingredient', '.0076', 'day(s', 'gain', 't.b.,_r.d._kimbrough,_and_r.e._linder', '35171', 'the_oral_and_dermal_toxicity_of_hexachlorophene_in_rats', 'toxicol._appl._pharmacol.25:332']\n",
      "['82688', '1,2,3,4,5-pentachloro-6-nitrobenzene', 'not_reported', 'mammal', 'microtus_montanus', 'montane_vole', 'not_reported', 'day(s', 'no_substrate', 'gavage', 'mortality', 'mortality', 'not_reported', 'unmeasured', 'formulation', '17110', 'kg_bdwt', 'day(s', 'cholakis', 'j.m.,_l.c.k._wong,_and_c.c._lee', '70756', 'study_of_the_chemical_and_behavioral_toxicology_of_substitute_chemicals_in_microtine_rodents', 'epa-600/3', '082,_u.s.epa,_corvallis,_or:54_p']\n",
      "['114261', '2-(1-methylethoxy)phenol,_1-(n', 'methylcarbamate', 'not_reported', 'mammals;_standard_test_species', 'rattus_norvegicus', 'norway_rat', 'not_reported', 'not_reported', 'no_substrate', 'intraperitoneal', 'mortality', 'mortality', 'not_reported', 'unmeasured', 'active_ingredient', 'day(s', 'neskovic', '110891', 'effects_of_subacute_feeding_of_carbaryl_on_mixed_function_oxidase_and_on_acute_toxicity_of_parathion_and_propoxur_in_rats', 'environ._res.20(1):_148']\n",
      "['116063', '2-methyl-2-(methylthio)propanol_o-[(methylamino)carbonyl]oxime', 'not_coded', 'mammal', 'rattus_rattus', 'black_rat', 'adult', 'not_coded', 'not_coded', 'mortality', 'mortality', 'not_coded', 'not_coded', 'active_ingredient', '108.2', '141.2', 'day(s', 'u.s._environmental_protection_agency', 'pesticide_ecotoxicity_database_(formerly:__environmental_effects_database_(eedb', 'environmental_fate_and_effects_division,_u.s.epa,_washington,_d.c.']\n",
      "['13464385', 'arsenic_acid_(h3aso4),_trisodium_salt', 'technical_grade,_technical_product,_technical_formulation', 'mammal', 'peromyscus_maniculatus', 'deer_mouse', 'not_reported', 'not_reported', 'not_reported', 'oral_via_capsule', 'mortality', 'mortality', 'not_reported', 'not_reported', 'not_coded', 'day(s', 'schafer', 'e.w.,jr', ',_and_w.a.,jr._bowles', '35426', 'acute_oral_toxicity_and_repellency_of_933_chemicals_to_house_and_deer_mice', 'arch._environ._contam._toxicol.14(1):_111']\n",
      "['14583449', '6-(2,6-dioxo-3-piperidinyl)-2,3-dihydro-5h-1,4-dithiino[2,3-c]pyrrole-5,7(6h)-dione', 'not_reported', 'mammal', 'mus_musculus', 'house_mouse', 'gestation', 'not_reported', 'no_substrate', 'intraperitoneal', 'mortality', 'mortality', 'not_reported', 'unmeasured', 'formulation', 'day(s', 'fickentscher', 'k.,_a._kirfel,_g._will,_and_f._kohler', '91811', 'stereochemical_properties_and_teratogenic_activity_of_some_tetrahydrophthalimides', 'mol._pharmacol.13(1):_133']\n",
      "['22224926', '1-methylethyl)phosphoramidic_acid_ethyl-3-methyl-4-(methylthio)phenyl_ester', 'not_coded', 'mammal', 'rattus_rattus', 'black_rat', 'adult', 'not_coded', 'not_coded', 'mortality', 'mortality', 'not_coded', 'not_coded', 'active_ingredient', 'day(s', 'u.s._environmental_protection_agency', 'pesticide_ecotoxicity_database_(formerly:__environmental_effects_database_(eedb', 'environmental_fate_and_effects_division,_u.s.epa,_washington,_d.c.']\n",
      "['49748767', '3,4,5,6,9,9-hexachloro-1a,2,2a,3,6,6a,7,7a', 'octahydro-2,7:3,6-dimethanonaphth[2,3-b]oxiren-8-ol_stereoisomer', 'not_reported', 'mammals;_standard_test_species', 'rattus_norvegicus', 'norway_rat', 'not_reported', 'week(s', 'not_reported', 'oral_via_capsule', 'mortality', 'mortality', 'not_reported', 'not_reported', 'not_coded', 'day(s', 'bedford', 'c.t.,_d.h._hutson,_and_i.l._natoff', '35034', 'the_acute_toxicity_of_endrin_and_its_metabolites_to_rats', 'toxicol._appl._pharmacol.33:115']\n"
     ]
    }
   ],
   "source": [
    "import random\n",
    "text_data = []\n",
    "\n",
    "with open('data/treated_data/topic-model.csv') as f:\n",
    "    for line in f:\n",
    "        tokens = prepare_text_for_lda(line)\n",
    "        if random.random() > .99:\n",
    "            print(tokens)\n",
    "            text_data.append(tokens)"
   ]
  },
  {
   "cell_type": "code",
   "execution_count": 43,
   "metadata": {
    "scrolled": true
   },
   "outputs": [],
   "source": [
    "from gensim import corpora\n",
    "\n",
    "dictionary = corpora.Dictionary(text_data)\n",
    "corpus = [dictionary.doc2bow(text) for text in text_data]\n",
    "import pickle\n",
    "pickle.dump(corpus, open('corpus.pkl', 'wb'))\n",
    "dictionary.save('dictionary.gensim')"
   ]
  },
  {
   "cell_type": "code",
   "execution_count": 44,
   "metadata": {},
   "outputs": [
    {
     "name": "stdout",
     "output_type": "stream",
     "text": [
      "(0, '0.007*\"not_reported\" + 0.007*\"mortality\" + 0.007*\"not_coded\" + 0.007*\"intraperitoneal\"')\n",
      "(1, '0.184*\"not_reported\" + 0.079*\"mortality\" + 0.040*\"day(s\" + 0.031*\"mammal\"')\n",
      "(2, '0.007*\"not_reported\" + 0.007*\"mortality\" + 0.007*\"not_coded\" + 0.007*\"intraperitoneal\"')\n",
      "(3, '0.007*\"not_reported\" + 0.007*\"mortality\" + 0.007*\"not_coded\" + 0.007*\"intraperitoneal\"')\n",
      "(4, '0.098*\"not_reported\" + 0.078*\"mortality\" + 0.066*\"not_coded\" + 0.046*\"day(s\"')\n"
     ]
    }
   ],
   "source": [
    "import gensim\n",
    "NUM_TOPICS = 5\n",
    "ldamodel = gensim.models.ldamodel.LdaModel(corpus, num_topics = NUM_TOPICS, id2word=dictionary, passes=15)\n",
    "ldamodel.save('model5.gensim')\n",
    "topics = ldamodel.print_topics(num_words=4)\n",
    "for topic in topics:\n",
    "    print(topic)"
   ]
  },
  {
   "cell_type": "code",
   "execution_count": 45,
   "metadata": {},
   "outputs": [
    {
     "name": "stdout",
     "output_type": "stream",
     "text": [
      "[]\n",
      "[(0, 0.2), (1, 0.2), (2, 0.2), (3, 0.2), (4, 0.2)]\n"
     ]
    }
   ],
   "source": [
    "new_doc = 'Practical Bayesian Optimization of Machine Learning Algorithms'\n",
    "new_doc = prepare_text_for_lda(new_doc)\n",
    "new_doc_bow = dictionary.doc2bow(new_doc)\n",
    "print(new_doc_bow)\n",
    "print(ldamodel.get_document_topics(new_doc_bow))"
   ]
  },
  {
   "cell_type": "code",
   "execution_count": 47,
   "metadata": {},
   "outputs": [
    {
     "name": "stderr",
     "output_type": "stream",
     "text": [
      "/usr/local/lib/python3.7/site-packages/pyLDAvis/_prepare.py:257: FutureWarning: Sorting because non-concatenation axis is not aligned. A future version\n",
      "of pandas will change to not sort by default.\n",
      "\n",
      "To accept the future behavior, pass 'sort=False'.\n",
      "\n",
      "To retain the current behavior and silence the warning, pass 'sort=True'.\n",
      "\n",
      "  return pd.concat([default_term_info] + list(topic_dfs))\n"
     ]
    },
    {
     "data": {
      "text/html": [
       "\n",
       "<link rel=\"stylesheet\" type=\"text/css\" href=\"https://cdn.rawgit.com/bmabey/pyLDAvis/files/ldavis.v1.0.0.css\">\n",
       "\n",
       "\n",
       "<div id=\"ldavis_el1135501439012831194826\"></div>\n",
       "<script type=\"text/javascript\">\n",
       "\n",
       "var ldavis_el1135501439012831194826_data = {\"mdsDat\": {\"x\": [-0.05168980197777982, 0.10404515089544897, -0.051689435141257165, -0.05168904584560191, 0.05102313206918996], \"y\": [0.012285944363864343, 0.0713996974518803, 0.0122859437059596, 0.01228588387773443, -0.10825746939943863], \"topics\": [1, 2, 3, 4, 5], \"cluster\": [1, 1, 1, 1, 1], \"Freq\": [0.8698147535324097, 59.46779251098633, 0.8698147535324097, 0.8698147535324097, 37.92276382446289]}, \"tinfo\": {\"Category\": [\"Default\", \"Default\", \"Default\", \"Default\", \"Default\", \"Default\", \"Default\", \"Default\", \"Default\", \"Default\", \"Default\", \"Default\", \"Default\", \"Default\", \"Default\", \"Default\", \"Default\", \"Default\", \"Default\", \"Default\", \"Default\", \"Default\", \"Default\", \"Default\", \"Default\", \"Default\", \"Default\", \"Default\", \"Default\", \"Default\", \"Topic1\", \"Topic1\", \"Topic1\", \"Topic1\", \"Topic1\", \"Topic1\", \"Topic1\", \"Topic1\", \"Topic1\", \"Topic1\", \"Topic1\", \"Topic1\", \"Topic1\", \"Topic1\", \"Topic1\", \"Topic1\", \"Topic1\", \"Topic1\", \"Topic1\", \"Topic1\", \"Topic1\", \"Topic1\", \"Topic1\", \"Topic1\", \"Topic1\", \"Topic1\", \"Topic1\", \"Topic1\", \"Topic1\", \"Topic1\", \"Topic1\", \"Topic1\", \"Topic1\", \"Topic1\", \"Topic1\", \"Topic1\", \"Topic1\", \"Topic1\", \"Topic1\", \"Topic1\", \"Topic1\", \"Topic1\", \"Topic1\", \"Topic1\", \"Topic1\", \"Topic1\", \"Topic1\", \"Topic1\", \"Topic1\", \"Topic1\", \"Topic1\", \"Topic1\", \"Topic1\", \"Topic1\", \"Topic1\", \"Topic1\", \"Topic1\", \"Topic1\", \"Topic1\", \"Topic1\", \"Topic1\", \"Topic1\", \"Topic1\", \"Topic1\", \"Topic1\", \"Topic1\", \"Topic1\", \"Topic1\", \"Topic1\", \"Topic1\", \"Topic1\", \"Topic1\", \"Topic1\", \"Topic1\", \"Topic2\", \"Topic2\", \"Topic2\", \"Topic2\", \"Topic2\", \"Topic2\", \"Topic2\", \"Topic2\", \"Topic2\", \"Topic2\", \"Topic2\", \"Topic2\", \"Topic2\", \"Topic2\", \"Topic2\", \"Topic2\", \"Topic2\", \"Topic2\", \"Topic2\", \"Topic2\", \"Topic2\", \"Topic2\", \"Topic2\", \"Topic2\", \"Topic2\", \"Topic2\", \"Topic2\", \"Topic2\", \"Topic2\", \"Topic2\", \"Topic2\", \"Topic2\", \"Topic2\", \"Topic2\", \"Topic2\", \"Topic2\", \"Topic2\", \"Topic2\", \"Topic2\", \"Topic2\", \"Topic2\", \"Topic2\", \"Topic2\", \"Topic3\", \"Topic3\", \"Topic3\", \"Topic3\", \"Topic3\", \"Topic3\", \"Topic3\", \"Topic3\", \"Topic3\", \"Topic3\", \"Topic3\", \"Topic3\", \"Topic3\", \"Topic3\", \"Topic3\", \"Topic3\", \"Topic3\", \"Topic3\", \"Topic3\", \"Topic3\", \"Topic3\", \"Topic3\", \"Topic3\", \"Topic3\", \"Topic3\", \"Topic3\", \"Topic3\", \"Topic3\", \"Topic3\", \"Topic3\", \"Topic3\", \"Topic3\", \"Topic3\", \"Topic3\", \"Topic3\", \"Topic3\", \"Topic3\", \"Topic3\", \"Topic3\", \"Topic3\", \"Topic3\", \"Topic3\", \"Topic3\", \"Topic3\", \"Topic3\", \"Topic3\", \"Topic3\", \"Topic3\", \"Topic3\", \"Topic3\", \"Topic3\", \"Topic3\", \"Topic3\", \"Topic3\", \"Topic3\", \"Topic3\", \"Topic3\", \"Topic3\", \"Topic3\", \"Topic3\", \"Topic3\", \"Topic3\", \"Topic3\", \"Topic3\", \"Topic3\", \"Topic3\", \"Topic3\", \"Topic3\", \"Topic3\", \"Topic3\", \"Topic3\", \"Topic3\", \"Topic3\", \"Topic3\", \"Topic4\", \"Topic4\", \"Topic4\", \"Topic4\", \"Topic4\", \"Topic4\", \"Topic4\", \"Topic4\", \"Topic4\", \"Topic4\", \"Topic4\", \"Topic4\", \"Topic4\", \"Topic4\", \"Topic4\", \"Topic4\", \"Topic4\", \"Topic4\", \"Topic4\", \"Topic4\", \"Topic4\", \"Topic4\", \"Topic4\", \"Topic4\", \"Topic4\", \"Topic4\", \"Topic4\", \"Topic4\", \"Topic4\", \"Topic4\", \"Topic4\", \"Topic4\", \"Topic4\", \"Topic4\", \"Topic4\", \"Topic4\", \"Topic4\", \"Topic4\", \"Topic4\", \"Topic4\", \"Topic4\", \"Topic4\", \"Topic4\", \"Topic4\", \"Topic4\", \"Topic4\", \"Topic4\", \"Topic4\", \"Topic4\", \"Topic4\", \"Topic4\", \"Topic4\", \"Topic4\", \"Topic4\", \"Topic4\", \"Topic4\", \"Topic4\", \"Topic4\", \"Topic4\", \"Topic4\", \"Topic4\", \"Topic4\", \"Topic4\", \"Topic4\", \"Topic4\", \"Topic4\", \"Topic4\", \"Topic4\", \"Topic4\", \"Topic4\", \"Topic4\", \"Topic4\", \"Topic4\", \"Topic4\", \"Topic5\", \"Topic5\", \"Topic5\", \"Topic5\", \"Topic5\", \"Topic5\", \"Topic5\", \"Topic5\", \"Topic5\", \"Topic5\", \"Topic5\", \"Topic5\", \"Topic5\", \"Topic5\", \"Topic5\", \"Topic5\", \"Topic5\", \"Topic5\", \"Topic5\", \"Topic5\", \"Topic5\", \"Topic5\", \"Topic5\", \"Topic5\", \"Topic5\", \"Topic5\", \"Topic5\", \"Topic5\", \"Topic5\", \"Topic5\", \"Topic5\", \"Topic5\", \"Topic5\", \"Topic5\", \"Topic5\", \"Topic5\", \"Topic5\", \"Topic5\", \"Topic5\", \"Topic5\", \"Topic5\", \"Topic5\", \"Topic5\", \"Topic5\", \"Topic5\"], \"Freq\": [11.0, 4.0, 4.0, 3.0, 6.0, 4.0, 7.0, 2.0, 4.0, 9.0, 3.0, 3.0, 3.0, 2.0, 13.0, 2.0, 2.0, 2.0, 2.0, 2.0, 2.0, 2.0, 2.0, 2.0, 2.0, 2.0, 2.0, 2.0, 2.0, 2.0, 0.020799456164240837, 0.02079945057630539, 0.02079944685101509, 0.02079944498836994, 0.02079944685101509, 0.020799441263079643, 0.020799443125724792, 0.020799437537789345, 0.020799430087208748, 0.02079942636191845, 0.02079942263662815, 0.020799420773983, 0.020799487829208374, 0.020799465477466583, 0.020799478515982628, 0.020799482241272926, 0.02079947106540203, 0.020799465477466583, 0.020799478515982628, 0.02079946920275688, 0.02079947292804718, 0.020799582824110985, 0.020799577236175537, 0.020799748599529266, 0.020799754187464714, 0.020799560472369194, 0.02079956606030464, 0.020799575373530388, 0.020799584686756134, 0.020799564197659492, 0.020799558609724045, 0.0207995418459177, 0.020799539983272552, 0.020799536257982254, 0.020799539983272552, 0.020799530670046806, 0.02079952135682106, 0.0207995418459177, 0.020799530670046806, 0.020799530670046806, 0.02079966478049755, 0.020799661055207253, 0.0207996629178524, 0.020799672231078148, 0.02080172300338745, 0.020801708102226257, 0.020801207050681114, 0.02080104500055313, 0.020801035687327385, 0.020800938829779625, 0.020800914615392685, 0.020800916478037834, 0.02080090530216694, 0.02080090343952179, 0.02080083265900612, 0.020800776779651642, 0.020800773054361343, 0.0208007600158453, 0.020800750702619553, 0.020800692960619926, 0.020800644531846046, 0.020800629630684853, 0.020800122991204262, 0.02080012671649456, 0.020800121128559113, 0.020800113677978516, 0.020800119265913963, 0.02080010250210762, 0.02080005407333374, 0.020800042897462845, 0.020800050348043442, 0.020800044760107994, 0.020800037309527397, 0.020800041034817696, 4.443318843841553, 4.443319320678711, 3.588096857070923, 1.8798460960388184, 1.8798198699951172, 1.879819631576538, 1.879817247390747, 1.8798030614852905, 1.8798028230667114, 1.8798006772994995, 1.8797975778579712, 1.879315972328186, 1.8792837858200073, 1.879277229309082, 1.8791779279708862, 1.8791402578353882, 1.8790454864501953, 1.0253386497497559, 1.0253384113311768, 1.0253384113311768, 1.0253372192382812, 1.0253369808197021, 1.0253372192382812, 1.0253369808197021, 1.0253369808197021, 1.0253372192382812, 1.025336503982544, 1.0253362655639648, 1.0253362655639648, 1.0253357887268066, 36.06340026855469, 3.5892508029937744, 15.555030822753906, 6.155868053436279, 7.8639960289001465, 4.444147109985352, 2.73477840423584, 1.8800106048583984, 2.7379050254821777, 1.8797610998153687, 1.8796013593673706, 1.879263162612915, 2.743877410888672, 0.020799454301595688, 0.020799439400434494, 0.020799435675144196, 0.020799435675144196, 0.020799433812499046, 0.02079942636191845, 0.0207994282245636, 0.0207994244992733, 0.020799417048692703, 0.020799420773983, 0.020799418911337852, 0.020799411460757256, 0.020799491554498672, 0.02079946920275688, 0.02079947292804718, 0.02079947106540203, 0.02079947292804718, 0.020799454301595688, 0.020799478515982628, 0.020799484103918076, 0.020799454301595688, 0.020799564197659492, 0.020799759775400162, 0.020799564197659492, 0.020799564197659492, 0.020799553021788597, 0.02079973928630352, 0.02079954743385315, 0.02079956606030464, 0.020799545571208, 0.02079954370856285, 0.02079954743385315, 0.020799536257982254, 0.020799534395337105, 0.02079952321946621, 0.020799530670046806, 0.02079952508211136, 0.020799534395337105, 0.020799657329916954, 0.020799506455659866, 0.020799504593014717, 0.020799672231078148, 0.02079964242875576, 0.02079964429140091, 0.0208024512976408, 0.02080170251429081, 0.02080131322145462, 0.020801035687327385, 0.020800983533263206, 0.02080095186829567, 0.020800916478037834, 0.020800922065973282, 0.02080090530216694, 0.02080090530216694, 0.020800836384296417, 0.02080082707107067, 0.02080082893371582, 0.020800752565264702, 0.020800741389393806, 0.02080068364739418, 0.020800670608878136, 0.02080065943300724, 0.020800122991204262, 0.020800117403268814, 0.020800111815333366, 0.020800115540623665, 0.020800109952688217, 0.020800098776817322, 0.020800046622753143, 0.020800046622753143, 0.020800035446882248, 0.020800035446882248, 0.020800026133656502, 0.02080003172159195, 0.02079947292804718, 0.020799467340111732, 0.020799463614821434, 0.02079945243895054, 0.02079945057630539, 0.02079944498836994, 0.02079944498836994, 0.020799441263079643, 0.020799439400434494, 0.020799433812499046, 0.020799433812499046, 0.0207994282245636, 0.02079947665333748, 0.020799467340111732, 0.02079947292804718, 0.020799461752176285, 0.020799463614821434, 0.02079946920275688, 0.020799467340111732, 0.020799467340111732, 0.02079947292804718, 0.020799580961465836, 0.02079973742365837, 0.020799560472369194, 0.02079954370856285, 0.0207995492964983, 0.02079973742365837, 0.02079956792294979, 0.020799553021788597, 0.020799553021788597, 0.020799530670046806, 0.020799534395337105, 0.020799538120627403, 0.020799534395337105, 0.020799539983272552, 0.02079952321946621, 0.020799510180950165, 0.020799657329916954, 0.020799512043595314, 0.020799512043595314, 0.020799670368433, 0.02079964429140091, 0.020799653604626656, 0.020799515768885612, 0.020802946761250496, 0.02080187201499939, 0.020801380276679993, 0.020801078528165817, 0.020800968632102013, 0.020800938829779625, 0.020800931379199028, 0.020800909027457237, 0.020800884813070297, 0.020800821483135223, 0.020800799131393433, 0.020800776779651642, 0.02080075442790985, 0.020800748839974403, 0.020800739526748657, 0.02080073021352291, 0.020800694823265076, 0.020800646394491196, 0.020800113677978516, 0.020800111815333366, 0.020800108090043068, 0.02080010250210762, 0.020800098776817322, 0.020800085738301277, 0.02080005407333374, 0.0208000335842371, 0.0208000335842371, 0.020800039172172546, 0.020800024271011353, 0.020800024271011353, 2.5722901821136475, 1.7681550979614258, 1.7679232358932495, 1.767823338508606, 1.7677782773971558, 1.7673838138580322, 0.9655124545097351, 0.9655120968818665, 0.9655123949050903, 0.9655120968818665, 0.9655123949050903, 0.9655124545097351, 0.9655121564865112, 0.9655120968818665, 0.9655122756958008, 0.9655118584632874, 0.9655117988586426, 0.9655114412307739, 0.9654072523117065, 0.9653968811035156, 0.9653891324996948, 0.9653874039649963, 0.9653812646865845, 0.9653719663619995, 0.965354859828949, 0.9653434753417969, 0.9653286933898926, 0.9651369452476501, 0.9651331305503845, 0.9651260375976562, 8.198196411132812, 4.180686950683594, 9.813467979431152, 5.7908148765563965, 12.227065086364746, 3.3761038780212402, 2.574033260345459, 1.770692229270935, 1.7703763246536255, 1.7702248096466064, 1.769744634628296, 0.9658930897712708, 0.965781033039093, 0.9657170176506042, 0.9656986594200134], \"Term\": [\"not_coded\", \"mus_musculus\", \"house_mouse\", \"oral_via_capsule\", \"active_ingredient\", \"gavage\", \"unmeasured\", \"adult\", \"no_substrate\", \"mammal\", \"rattus_norvegicus\", \"norway_rat\", \"mammals;_standard_test_species\", \"kg_org\", \"day(s\", \"total\", \"62737\", \"t.j.,_j.h._farmer,_j.r._harmon,_and_k.l._dooley\", \"35203\", \"estimation_of_the_ld1_and_extrapolation_of_the_ld0.1_for_five_organophosphate_pesticides\", \"arch._toxicol.34:103\", \"phosphoric_acid_2,2-dichloroethenyl_dimethyl_ester\", \"haley\", \"bedford\", \"week(s\", \"the_acute_toxicity_of_endrin_and_its_metabolites_to_rats\", \"35034\", \"c.t.,_d.h._hutson,_and_i.l._natoff\", \"toxicol._appl._pharmacol.33:115\", \"black_rat\", \"study_of_the_chemical_and_behavioral_toxicology_of_substitute_chemicals_in_microtine_rodents\", \"70756\", \"1,2,3,4,5-pentachloro-6-nitrobenzene\", \"cholakis\", \"82688\", \"kg_bdwt\", \"082,_u.s.epa,_corvallis,_or:54_p\", \"17110\", \"j.m.,_l.c.k._wong,_and_c.c._lee\", \"microtus_montanus\", \"epa-600/3\", \"montane_vole\", \"wiese\", \"blesbok\", \"39380\", \"the_toxicology_and_pathology_of_dieldrin_and_photodieldrin_poisoning_in_two_antelope_species\", \"field_artificial\", \"i.h.,_n.c.j._basson,_p.a._basson,_t.w._naude,_and_b.p._maartens\", \"month(s\", \"damaliscus_pygargus\", \"onderstepoort_j._vet._res.40(1):_31\", \"110891\", \"methylcarbamate\", \"1-methylethyl)phosphoramidic_acid_ethyl-3-methyl-4-(methylthio)phenyl_ester\", \"22224926\", \"2-(1-methylethoxy)phenol,_1-(n\", \"environ._res.20(1):_148\", \"neskovic\", \"effects_of_subacute_feeding_of_carbaryl_on_mixed_function_oxidase_and_on_acute_toxicity_of_parathion_and_propoxur_in_rats\", \"114261\", \"2,2'-methylenebis[3,4,6-trichlorophenol\", \"70304\", \".0076\", \"gain\", \"united_states_pharmacopeia_grade\", \"t.b.,_r.d._kimbrough,_and_r.e._linder\", \"toxicol._appl._pharmacol.25:332\", \"intravenous\", \"the_oral_and_dermal_toxicity_of_hexachlorophene_in_rats\", \"35171\", \"108.2\", \"141.2\", \"2-methyl-2-(methylthio)propanol_o-[(methylamino)carbonyl]oxime\", \"116063\", \"not_reported\", \"mortality\", \"not_coded\", \"intraperitoneal\", \"day(s\", \"60571\", \"1ar,2r,2as,3s,6r,6ar,7s,7as)-rel-3,4,5,6,9,9-hexachloro-1a,2,2a,3,6,6a,7,7a\", \"formulation\", \"rattus_norvegicus\", \"octahydro-2,7:3,6-dimethanonaphth[2,3-b]oxirene\", \"mammal\", \"active_ingredient\", \"norway_rat\", \"unmeasured\", \"mammals;_standard_test_species\", \"kg_org\", \"no_substrate\", \"gavage\", \"1-naphthalenol_methylcarbamate\", \"kobayashi\", \"che_pesticides_in_mice\", \"j._med._soc._toho_univ.25(4):_635\", \"synergism_in_pesticide_toxicity_(2)__acute_oral_toxicity_of_anti\", \"63252\", \"fickentscher\", \"stereochemical_properties_and_teratogenic_activity_of_some_tetrahydrophthalimides\", \"gestation\", \"14583449\", \"91811\", \"mol._pharmacol.13(1):_133\", \"mus_musculus\", \"house_mouse\", \"oral_via_capsule\", \"total\", \"62737\", \"t.j.,_j.h._farmer,_j.r._harmon,_and_k.l._dooley\", \"35203\", \"estimation_of_the_ld1_and_extrapolation_of_the_ld0.1_for_five_organophosphate_pesticides\", \"arch._toxicol.34:103\", \"phosphoric_acid_2,2-dichloroethenyl_dimethyl_ester\", \"haley\", \"bedford\", \"week(s\", \"the_acute_toxicity_of_endrin_and_its_metabolites_to_rats\", \"35034\", \"c.t.,_d.h._hutson,_and_i.l._natoff\", \"toxicol._appl._pharmacol.33:115\", \"114.69\", \"107.30\", \"125.39\", \"1,1,1,3,3,3-hexabutyldistannoxane\", \"mutat._res.188:65\", \"a.,_r._barale,_g._brun,_r._forster,_t._gunther,_h._hautefeuille,_c.a._van_der_heijden,_a.g.a.c._knaap,_r._krowke\", \"61037\", \"56359\", \"spectrum_pesticide,_in_multiple_in_vivo_and_in_vitro_short\", \"butyltin)_oxide_(tbto),_a_broad\", \"evaluation_of_the_genetic_and_embryotoxic_effects_of_bis(tri\", \"term_tests\", \"davis\", \"not_reported\", \"gavage\", \"mortality\", \"mammal\", \"day(s\", \"unmeasured\", \"no_substrate\", \"kg_org\", \"active_ingredient\", \"norway_rat\", \"mammals;_standard_test_species\", \"rattus_norvegicus\", \"not_coded\", \"study_of_the_chemical_and_behavioral_toxicology_of_substitute_chemicals_in_microtine_rodents\", \"70756\", \"kg_bdwt\", \"1,2,3,4,5-pentachloro-6-nitrobenzene\", \"cholakis\", \"epa-600/3\", \"montane_vole\", \"082,_u.s.epa,_corvallis,_or:54_p\", \"17110\", \"microtus_montanus\", \"j.m.,_l.c.k._wong,_and_c.c._lee\", \"82688\", \"blesbok\", \"wiese\", \"39380\", \"the_toxicology_and_pathology_of_dieldrin_and_photodieldrin_poisoning_in_two_antelope_species\", \"i.h.,_n.c.j._basson,_p.a._basson,_t.w._naude,_and_b.p._maartens\", \"field_artificial\", \"month(s\", \"onderstepoort_j._vet._res.40(1):_31\", \"damaliscus_pygargus\", \"110891\", \"1-methylethyl)phosphoramidic_acid_ethyl-3-methyl-4-(methylthio)phenyl_ester\", \"methylcarbamate\", \"environ._res.20(1):_148\", \"2-(1-methylethoxy)phenol,_1-(n\", \"22224926\", \"neskovic\", \"effects_of_subacute_feeding_of_carbaryl_on_mixed_function_oxidase_and_on_acute_toxicity_of_parathion_and_propoxur_in_rats\", \"114261\", \"70304\", \"united_states_pharmacopeia_grade\", \"t.b.,_r.d._kimbrough,_and_r.e._linder\", \"2,2'-methylenebis[3,4,6-trichlorophenol\", \"toxicol._appl._pharmacol.25:332\", \"intravenous\", \"the_oral_and_dermal_toxicity_of_hexachlorophene_in_rats\", \"35171\", \"108.2\", \".0076\", \"gain\", \"116063\", \"141.2\", \"2-methyl-2-(methylthio)propanol_o-[(methylamino)carbonyl]oxime\", \"not_reported\", \"mortality\", \"not_coded\", \"intraperitoneal\", \"day(s\", \"60571\", \"formulation\", \"octahydro-2,7:3,6-dimethanonaphth[2,3-b]oxirene\", \"1ar,2r,2as,3s,6r,6ar,7s,7as)-rel-3,4,5,6,9,9-hexachloro-1a,2,2a,3,6,6a,7,7a\", \"mammal\", \"rattus_norvegicus\", \"active_ingredient\", \"norway_rat\", \"mammals;_standard_test_species\", \"unmeasured\", \"gavage\", \"kg_org\", \"no_substrate\", \"kobayashi\", \"1-naphthalenol_methylcarbamate\", \"che_pesticides_in_mice\", \"synergism_in_pesticide_toxicity_(2)__acute_oral_toxicity_of_anti\", \"63252\", \"j._med._soc._toho_univ.25(4):_635\", \"14583449\", \"fickentscher\", \"6-(2,6-dioxo-3-piperidinyl)-2,3-dihydro-5h-1,4-dithiino[2,3-c]pyrrole-5,7(6h)-dione\", \"k.,_a._kirfel,_g._will,_and_f._kohler\", \"mol._pharmacol.13(1):_133\", \"gestation\", \"study_of_the_chemical_and_behavioral_toxicology_of_substitute_chemicals_in_microtine_rodents\", \"epa-600/3\", \"1,2,3,4,5-pentachloro-6-nitrobenzene\", \"17110\", \"70756\", \"kg_bdwt\", \"cholakis\", \"082,_u.s.epa,_corvallis,_or:54_p\", \"j.m.,_l.c.k._wong,_and_c.c._lee\", \"82688\", \"microtus_montanus\", \"montane_vole\", \"wiese\", \"blesbok\", \"the_toxicology_and_pathology_of_dieldrin_and_photodieldrin_poisoning_in_two_antelope_species\", \"39380\", \"field_artificial\", \"i.h.,_n.c.j._basson,_p.a._basson,_t.w._naude,_and_b.p._maartens\", \"damaliscus_pygargus\", \"month(s\", \"onderstepoort_j._vet._res.40(1):_31\", \"110891\", \"1-methylethyl)phosphoramidic_acid_ethyl-3-methyl-4-(methylthio)phenyl_ester\", \"environ._res.20(1):_148\", \"methylcarbamate\", \"2-(1-methylethoxy)phenol,_1-(n\", \"22224926\", \"neskovic\", \"effects_of_subacute_feeding_of_carbaryl_on_mixed_function_oxidase_and_on_acute_toxicity_of_parathion_and_propoxur_in_rats\", \"114261\", \"70304\", \".0076\", \"2,2'-methylenebis[3,4,6-trichlorophenol\", \"united_states_pharmacopeia_grade\", \"intravenous\", \"the_oral_and_dermal_toxicity_of_hexachlorophene_in_rats\", \"gain\", \"108.2\", \"toxicol._appl._pharmacol.25:332\", \"t.b.,_r.d._kimbrough,_and_r.e._linder\", \"116063\", \"141.2\", \"2-methyl-2-(methylthio)propanol_o-[(methylamino)carbonyl]oxime\", \"35171\", \"not_reported\", \"mortality\", \"not_coded\", \"intraperitoneal\", \"day(s\", \"formulation\", \"octahydro-2,7:3,6-dimethanonaphth[2,3-b]oxirene\", \"60571\", \"1ar,2r,2as,3s,6r,6ar,7s,7as)-rel-3,4,5,6,9,9-hexachloro-1a,2,2a,3,6,6a,7,7a\", \"rattus_norvegicus\", \"mammal\", \"gavage\", \"active_ingredient\", \"norway_rat\", \"no_substrate\", \"mammals;_standard_test_species\", \"unmeasured\", \"kg_org\", \"kobayashi\", \"synergism_in_pesticide_toxicity_(2)__acute_oral_toxicity_of_anti\", \"63252\", \"che_pesticides_in_mice\", \"j._med._soc._toho_univ.25(4):_635\", \"1-naphthalenol_methylcarbamate\", \"fickentscher\", \"91811\", \"gestation\", \"stereochemical_properties_and_teratogenic_activity_of_some_tetrahydrophthalimides\", \"14583449\", \"6-(2,6-dioxo-3-piperidinyl)-2,3-dihydro-5h-1,4-dithiino[2,3-c]pyrrole-5,7(6h)-dione\", \"adult\", \"black_rat\", \"u.s._environmental_protection_agency\", \"rattus_rattus\", \"pesticide_ecotoxicity_database_(formerly:__environmental_effects_database_(eedb\", \"environmental_fate_and_effects_division,_u.s.epa,_washington,_d.c.\", \"82688\", \"cholakis\", \"j.m.,_l.c.k._wong,_and_c.c._lee\", \"kg_bdwt\", \"microtus_montanus\", \"montane_vole\", \"17110\", \"epa-600/3\", \"082,_u.s.epa,_corvallis,_or:54_p\", \"1,2,3,4,5-pentachloro-6-nitrobenzene\", \"70756\", \"study_of_the_chemical_and_behavioral_toxicology_of_substitute_chemicals_in_microtine_rodents\", \"blesbok\", \"wiese\", \"39380\", \"field_artificial\", \"the_toxicology_and_pathology_of_dieldrin_and_photodieldrin_poisoning_in_two_antelope_species\", \"i.h.,_n.c.j._basson,_p.a._basson,_t.w._naude,_and_b.p._maartens\", \"damaliscus_pygargus\", \"month(s\", \"onderstepoort_j._vet._res.40(1):_31\", \"110891\", \"methylcarbamate\", \"2-(1-methylethoxy)phenol,_1-(n\", \"not_coded\", \"active_ingredient\", \"mortality\", \"day(s\", \"not_reported\", \"mammal\", \"unmeasured\", \"rattus_norvegicus\", \"mammals;_standard_test_species\", \"norway_rat\", \"no_substrate\", \"60571\", \"1ar,2r,2as,3s,6r,6ar,7s,7as)-rel-3,4,5,6,9,9-hexachloro-1a,2,2a,3,6,6a,7,7a\", \"octahydro-2,7:3,6-dimethanonaphth[2,3-b]oxirene\", \"formulation\"], \"Total\": [11.0, 4.0, 4.0, 3.0, 6.0, 4.0, 7.0, 2.0, 4.0, 9.0, 3.0, 3.0, 3.0, 2.0, 13.0, 2.0, 2.0, 2.0, 2.0, 2.0, 2.0, 2.0, 2.0, 2.0, 2.0, 2.0, 2.0, 2.0, 2.0, 2.0, 1.1988118886947632, 1.1988122463226318, 1.1988122463226318, 1.1988122463226318, 1.198812484741211, 1.1988122463226318, 1.198812484741211, 1.1988123655319214, 1.1988126039505005, 1.1988126039505005, 1.1988123655319214, 1.1988126039505005, 1.198818564414978, 1.1988180875778198, 1.1988192796707153, 1.198819637298584, 1.1988195180892944, 1.1988203525543213, 1.198822021484375, 1.1988215446472168, 1.1988228559494019, 1.1988325119018555, 1.1988329887390137, 1.1988438367843628, 1.1988446712493896, 1.1988335847854614, 1.19883394241333, 1.1988357305526733, 1.198839545249939, 1.198840856552124, 1.1988472938537598, 1.1988426446914673, 1.1988435983657837, 1.1988441944122314, 1.1988452672958374, 1.1988481283187866, 1.198844075202942, 1.198850154876709, 1.198845624923706, 1.1988502740859985, 1.1989152431488037, 1.1989340782165527, 1.198940396308899, 1.1989558935165405, 48.35287094116211, 25.430904388427734, 11.004477500915527, 2.053267002105713, 13.717214584350586, 2.053227424621582, 2.0532350540161133, 2.0532398223876953, 3.712357997894287, 2.053238868713379, 9.594374656677246, 6.98099422454834, 3.712388277053833, 7.080582141876221, 3.7123799324035645, 2.907773494720459, 4.566925048828125, 4.616795063018799, 1.2486587762832642, 1.2486584186553955, 1.2486586570739746, 1.2486588954925537, 1.248658537864685, 1.2486587762832642, 1.2486598491668701, 1.2486602067947388, 1.2486600875854492, 1.2486602067947388, 1.2486603260040283, 1.2486603260040283, 4.666680812835693, 4.666682243347168, 3.8121352195739746, 2.1031737327575684, 2.1031737327575684, 2.1031737327575684, 2.1031742095947266, 2.1031723022460938, 2.103172540664673, 2.1031720638275146, 2.1031720638275146, 2.1031413078308105, 2.103139638900757, 2.1031391620635986, 2.1031334400177, 2.103130578994751, 2.1031253337860107, 1.248665690422058, 1.2486655712127686, 1.2486655712127686, 1.2486648559570312, 1.2486646175384521, 1.2486648559570312, 1.2486647367477417, 1.2486648559570312, 1.2486649751663208, 1.2486642599105835, 1.248664140701294, 1.2486642599105835, 1.2486639022827148, 48.35287094116211, 4.616795063018799, 25.430904388427734, 9.594374656677246, 13.717214584350586, 7.080582141876221, 4.566925048828125, 2.907773494720459, 6.98099422454834, 3.712388277053833, 3.7123799324035645, 3.712357997894287, 11.004477500915527, 1.1988118886947632, 1.1988122463226318, 1.1988122463226318, 1.1988122463226318, 1.1988122463226318, 1.1988123655319214, 1.1988126039505005, 1.198812484741211, 1.1988123655319214, 1.1988126039505005, 1.1988126039505005, 1.198812484741211, 1.1988180875778198, 1.198818564414978, 1.1988192796707153, 1.198819637298584, 1.1988203525543213, 1.1988195180892944, 1.198822021484375, 1.1988228559494019, 1.1988215446472168, 1.1988325119018555, 1.1988438367843628, 1.1988329887390137, 1.19883394241333, 1.1988335847854614, 1.1988446712493896, 1.1988357305526733, 1.198839545249939, 1.198840856552124, 1.1988426446914673, 1.1988452672958374, 1.1988481283187866, 1.1988472938537598, 1.198844075202942, 1.198850154876709, 1.198845624923706, 1.1988502740859985, 1.1989152431488037, 1.1988435983657837, 1.1988441944122314, 1.1989558935165405, 1.1989340782165527, 1.198940396308899, 48.35287094116211, 25.430904388427734, 11.004477500915527, 2.053267002105713, 13.717214584350586, 2.053227424621582, 2.0532398223876953, 2.053238868713379, 2.0532350540161133, 9.594374656677246, 3.712357997894287, 6.98099422454834, 3.712388277053833, 3.7123799324035645, 7.080582141876221, 4.616795063018799, 2.907773494720459, 4.566925048828125, 1.2486584186553955, 1.2486587762832642, 1.2486586570739746, 1.248658537864685, 1.2486587762832642, 1.2486588954925537, 1.2486602067947388, 1.2486598491668701, 1.2486604452133179, 1.2486600875854492, 1.2486603260040283, 1.2486600875854492, 1.1988118886947632, 1.1988123655319214, 1.1988122463226318, 1.1988123655319214, 1.1988122463226318, 1.1988122463226318, 1.1988122463226318, 1.198812484741211, 1.1988126039505005, 1.198812484741211, 1.1988126039505005, 1.1988126039505005, 1.198818564414978, 1.1988180875778198, 1.198819637298584, 1.1988192796707153, 1.1988195180892944, 1.1988203525543213, 1.1988215446472168, 1.198822021484375, 1.1988228559494019, 1.1988325119018555, 1.1988438367843628, 1.19883394241333, 1.1988329887390137, 1.1988335847854614, 1.1988446712493896, 1.1988357305526733, 1.198839545249939, 1.198840856552124, 1.1988426446914673, 1.1988435983657837, 1.1988472938537598, 1.1988452672958374, 1.198850154876709, 1.198845624923706, 1.1988441944122314, 1.1989152431488037, 1.198844075202942, 1.1988481283187866, 1.1989558935165405, 1.1989340782165527, 1.198940396308899, 1.1988502740859985, 48.35287094116211, 25.430904388427734, 11.004477500915527, 2.053267002105713, 13.717214584350586, 2.0532398223876953, 2.053238868713379, 2.053227424621582, 2.0532350540161133, 3.712357997894287, 9.594374656677246, 4.616795063018799, 6.98099422454834, 3.712388277053833, 4.566925048828125, 3.7123799324035645, 7.080582141876221, 2.907773494720459, 1.2486584186553955, 1.248658537864685, 1.2486587762832642, 1.2486586570739746, 1.2486588954925537, 1.2486587762832642, 1.2486598491668701, 1.2486603260040283, 1.2486600875854492, 1.2486602067947388, 1.2486602067947388, 1.2486604452133179, 2.808224678039551, 2.003563642501831, 2.0035765171051025, 2.0035836696624756, 2.003586769104004, 2.003610849380493, 1.198812484741211, 1.1988122463226318, 1.1988126039505005, 1.1988122463226318, 1.1988126039505005, 1.1988126039505005, 1.1988123655319214, 1.1988123655319214, 1.198812484741211, 1.1988122463226318, 1.1988122463226318, 1.1988118886947632, 1.1988180875778198, 1.198818564414978, 1.1988192796707153, 1.1988195180892944, 1.198819637298584, 1.1988203525543213, 1.1988215446472168, 1.198822021484375, 1.1988228559494019, 1.1988325119018555, 1.1988329887390137, 1.1988335847854614, 11.004477500915527, 6.98099422454834, 25.430904388427734, 13.717214584350586, 48.35287094116211, 9.594374656677246, 7.080582141876221, 3.712357997894287, 3.7123799324035645, 3.712388277053833, 4.566925048828125, 2.053227424621582, 2.0532350540161133, 2.053238868713379, 2.0532398223876953], \"loglift\": [30.0, 29.0, 28.0, 27.0, 26.0, 25.0, 24.0, 23.0, 22.0, 21.0, 20.0, 19.0, 18.0, 17.0, 16.0, 15.0, 14.0, 13.0, 12.0, 11.0, 10.0, 9.0, 8.0, 7.0, 6.0, 5.0, 4.0, 3.0, 2.0, 1.0, 0.690500020980835, 0.690500020980835, 0.690500020980835, 0.690500020980835, 0.690500020980835, 0.690500020980835, 0.690500020980835, 0.690500020980835, 0.690500020980835, 0.690500020980835, 0.690500020980835, 0.690500020980835, 0.690500020980835, 0.690500020980835, 0.690500020980835, 0.690500020980835, 0.690500020980835, 0.690500020980835, 0.690500020980835, 0.690500020980835, 0.690500020980835, 0.690500020980835, 0.690500020980835, 0.690500020980835, 0.690500020980835, 0.690500020980835, 0.690500020980835, 0.690500020980835, 0.690500020980835, 0.690500020980835, 0.690500020980835, 0.690500020980835, 0.690500020980835, 0.690500020980835, 0.690500020980835, 0.690500020980835, 0.690500020980835, 0.690500020980835, 0.690500020980835, 0.690500020980835, 0.6904000043869019, 0.6904000043869019, 0.6904000043869019, 0.6904000043869019, -3.0065999031066895, -2.364000082015991, -1.5263999700546265, 0.1525000035762787, -1.7467999458312988, 0.1525000035762787, 0.1525000035762787, 0.1525000035762787, -0.4397999942302704, 0.1525000035762787, -1.389299988746643, -1.0713000297546387, -0.4397999942302704, -1.0855000019073486, -0.4397999942302704, -0.19550000131130219, -0.6470000147819519, -0.657800018787384, 0.6498000025749207, 0.6498000025749207, 0.6498000025749207, 0.6498000025749207, 0.6498000025749207, 0.6498000025749207, 0.6498000025749207, 0.6498000025749207, 0.6498000025749207, 0.6498000025749207, 0.6498000025749207, 0.6498000025749207, 0.4706999957561493, 0.4706999957561493, 0.459199994802475, 0.4074999988079071, 0.4074999988079071, 0.4074999988079071, 0.4074999988079071, 0.4074999988079071, 0.4074999988079071, 0.4074999988079071, 0.4074999988079071, 0.40720000863075256, 0.40720000863075256, 0.40720000863075256, 0.40709999203681946, 0.40709999203681946, 0.40709999203681946, 0.32269999384880066, 0.32269999384880066, 0.32269999384880066, 0.32269999384880066, 0.32269999384880066, 0.32269999384880066, 0.32269999384880066, 0.32269999384880066, 0.32269999384880066, 0.32269999384880066, 0.32269999384880066, 0.32269999384880066, 0.32269999384880066, 0.226500004529953, 0.2680000066757202, 0.028200000524520874, 0.07599999755620956, -0.03660000115633011, 0.05400000140070915, 0.006899999920278788, 0.0835999995470047, -0.4162999987602234, -0.1607999950647354, -0.16089999675750732, -0.16110000014305115, -0.8691999912261963, 0.690500020980835, 0.690500020980835, 0.690500020980835, 0.690500020980835, 0.690500020980835, 0.690500020980835, 0.690500020980835, 0.690500020980835, 0.690500020980835, 0.690500020980835, 0.690500020980835, 0.690500020980835, 0.690500020980835, 0.690500020980835, 0.690500020980835, 0.690500020980835, 0.690500020980835, 0.690500020980835, 0.690500020980835, 0.690500020980835, 0.690500020980835, 0.690500020980835, 0.690500020980835, 0.690500020980835, 0.690500020980835, 0.690500020980835, 0.690500020980835, 0.690500020980835, 0.690500020980835, 0.690500020980835, 0.690500020980835, 0.690500020980835, 0.690500020980835, 0.690500020980835, 0.690500020980835, 0.690500020980835, 0.690500020980835, 0.690500020980835, 0.6904000043869019, 0.690500020980835, 0.690500020980835, 0.6904000043869019, 0.6904000043869019, 0.6904000043869019, -3.0065999031066895, -2.364000082015991, -1.5263999700546265, 0.1525000035762787, -1.7467999458312988, 0.1525000035762787, 0.1525000035762787, 0.1525000035762787, 0.1525000035762787, -1.389299988746643, -0.4397999942302704, -1.0713000297546387, -0.4397999942302704, -0.4397999942302704, -1.0855000019073486, -0.657800018787384, -0.19550000131130219, -0.6470000147819519, 0.6498000025749207, 0.6498000025749207, 0.6498000025749207, 0.6498000025749207, 0.6498000025749207, 0.6498000025749207, 0.6498000025749207, 0.6498000025749207, 0.6498000025749207, 0.6498000025749207, 0.6498000025749207, 0.6498000025749207, 0.690500020980835, 0.690500020980835, 0.690500020980835, 0.690500020980835, 0.690500020980835, 0.690500020980835, 0.690500020980835, 0.690500020980835, 0.690500020980835, 0.690500020980835, 0.690500020980835, 0.690500020980835, 0.690500020980835, 0.690500020980835, 0.690500020980835, 0.690500020980835, 0.690500020980835, 0.690500020980835, 0.690500020980835, 0.690500020980835, 0.690500020980835, 0.690500020980835, 0.690500020980835, 0.690500020980835, 0.690500020980835, 0.690500020980835, 0.690500020980835, 0.690500020980835, 0.690500020980835, 0.690500020980835, 0.690500020980835, 0.690500020980835, 0.690500020980835, 0.690500020980835, 0.690500020980835, 0.690500020980835, 0.690500020980835, 0.6904000043869019, 0.690500020980835, 0.690500020980835, 0.6904000043869019, 0.6904000043869019, 0.6904000043869019, 0.690500020980835, -3.006500005722046, -2.364000082015991, -1.5263999700546265, 0.1525000035762787, -1.7467999458312988, 0.1525000035762787, 0.1525000035762787, 0.1525000035762787, 0.1525000035762787, -0.4397999942302704, -1.389299988746643, -0.657800018787384, -1.0713000297546387, -0.4397999942302704, -0.6470000147819519, -0.4397999942302704, -1.0855000019073486, -0.19550000131130219, 0.6498000025749207, 0.6498000025749207, 0.6498000025749207, 0.6498000025749207, 0.6498000025749207, 0.6498000025749207, 0.6498000025749207, 0.6498000025749207, 0.6498000025749207, 0.6498000025749207, 0.6498000025749207, 0.6498000025749207, 0.8819000124931335, 0.8446000218391418, 0.8445000052452087, 0.8443999886512756, 0.8443999886512756, 0.8442000150680542, 0.7531999945640564, 0.7531999945640564, 0.7531999945640564, 0.7531999945640564, 0.7531999945640564, 0.7531999945640564, 0.7531999945640564, 0.7531999945640564, 0.7531999945640564, 0.7531999945640564, 0.7531999945640564, 0.7531999945640564, 0.7530999779701233, 0.7530999779701233, 0.7530999779701233, 0.7530999779701233, 0.753000020980835, 0.753000020980835, 0.753000020980835, 0.753000020980835, 0.753000020980835, 0.7527999877929688, 0.7527999877929688, 0.7527999877929688, 0.6751999855041504, 0.4569000005722046, 0.017400000244379044, 0.10719999670982361, -0.40529999136924744, -0.07479999959468842, -0.04230000078678131, 0.22930000722408295, 0.22910000383853912, 0.2290000021457672, 0.02160000056028366, 0.21549999713897705, 0.21539999544620514, 0.21529999375343323, 0.21529999375343323], \"logprob\": [30.0, 29.0, 28.0, 27.0, 26.0, 25.0, 24.0, 23.0, 22.0, 21.0, 20.0, 19.0, 18.0, 17.0, 16.0, 15.0, 14.0, 13.0, 12.0, 11.0, 10.0, 9.0, 8.0, 7.0, 6.0, 5.0, 4.0, 3.0, 2.0, 1.0, -4.927299976348877, -4.927299976348877, -4.927299976348877, -4.927299976348877, -4.927299976348877, -4.927299976348877, -4.927299976348877, -4.927299976348877, -4.927299976348877, -4.927299976348877, -4.927299976348877, -4.927299976348877, -4.927299976348877, -4.927299976348877, -4.927299976348877, -4.927299976348877, -4.927299976348877, -4.927299976348877, -4.927299976348877, -4.927299976348877, -4.927299976348877, -4.927299976348877, -4.927299976348877, -4.927299976348877, -4.927299976348877, -4.927299976348877, -4.927299976348877, -4.927299976348877, -4.927299976348877, -4.927299976348877, -4.927299976348877, -4.927299976348877, -4.927299976348877, -4.927299976348877, -4.927299976348877, -4.927299976348877, -4.927299976348877, -4.927299976348877, -4.927299976348877, -4.927299976348877, -4.927299976348877, -4.927299976348877, -4.927299976348877, -4.927299976348877, -4.927199840545654, -4.927199840545654, -4.927199840545654, -4.927199840545654, -4.927199840545654, -4.927199840545654, -4.927199840545654, -4.927199840545654, -4.927199840545654, -4.927199840545654, -4.927199840545654, -4.927199840545654, -4.927199840545654, -4.927199840545654, -4.927199840545654, -4.927199840545654, -4.927199840545654, -4.927199840545654, -4.927199840545654, -4.927199840545654, -4.927199840545654, -4.927199840545654, -4.927199840545654, -4.927199840545654, -4.927199840545654, -4.927199840545654, -4.927199840545654, -4.927199840545654, -4.927199840545654, -4.927199840545654, -3.7880001068115234, -3.7880001068115234, -4.001699924468994, -4.648200035095215, -4.648200035095215, -4.648200035095215, -4.648200035095215, -4.648200035095215, -4.648200035095215, -4.648200035095215, -4.648200035095215, -4.648399829864502, -4.648499965667725, -4.648499965667725, -4.648499965667725, -4.648499965667725, -4.648600101470947, -5.254300117492676, -5.254300117492676, -5.254300117492676, -5.254300117492676, -5.254300117492676, -5.254300117492676, -5.254300117492676, -5.254300117492676, -5.254300117492676, -5.254300117492676, -5.254300117492676, -5.254300117492676, -5.254300117492676, -1.694100022315979, -4.001399993896484, -2.5350000858306885, -3.4619998931884766, -3.217099905014038, -3.7878000736236572, -4.2733001708984375, -4.648099899291992, -4.272200107574463, -4.648200035095215, -4.6483001708984375, -4.648499965667725, -4.269999980926514, -4.927299976348877, -4.927299976348877, -4.927299976348877, -4.927299976348877, -4.927299976348877, -4.927299976348877, -4.927299976348877, -4.927299976348877, -4.927299976348877, -4.927299976348877, -4.927299976348877, -4.927299976348877, -4.927299976348877, -4.927299976348877, -4.927299976348877, -4.927299976348877, -4.927299976348877, -4.927299976348877, -4.927299976348877, -4.927299976348877, -4.927299976348877, -4.927299976348877, -4.927299976348877, -4.927299976348877, -4.927299976348877, -4.927299976348877, -4.927299976348877, -4.927299976348877, -4.927299976348877, -4.927299976348877, -4.927299976348877, -4.927299976348877, -4.927299976348877, -4.927299976348877, -4.927299976348877, -4.927299976348877, -4.927299976348877, -4.927299976348877, -4.927299976348877, -4.927299976348877, -4.927299976348877, -4.927299976348877, -4.927299976348877, -4.927299976348877, -4.92710018157959, -4.927199840545654, -4.927199840545654, -4.927199840545654, -4.927199840545654, -4.927199840545654, -4.927199840545654, -4.927199840545654, -4.927199840545654, -4.927199840545654, -4.927199840545654, -4.927199840545654, -4.927199840545654, -4.927199840545654, -4.927199840545654, -4.927199840545654, -4.927199840545654, -4.927199840545654, -4.927199840545654, -4.927199840545654, -4.927199840545654, -4.927199840545654, -4.927199840545654, -4.927199840545654, -4.927199840545654, -4.927199840545654, -4.927199840545654, -4.927199840545654, -4.927199840545654, -4.927199840545654, -4.927299976348877, -4.927299976348877, -4.927299976348877, -4.927299976348877, -4.927299976348877, -4.927299976348877, -4.927299976348877, -4.927299976348877, -4.927299976348877, -4.927299976348877, -4.927299976348877, -4.927299976348877, -4.927299976348877, -4.927299976348877, -4.927299976348877, -4.927299976348877, -4.927299976348877, -4.927299976348877, -4.927299976348877, -4.927299976348877, -4.927299976348877, -4.927299976348877, -4.927299976348877, -4.927299976348877, -4.927299976348877, -4.927299976348877, -4.927299976348877, -4.927299976348877, -4.927299976348877, -4.927299976348877, -4.927299976348877, -4.927299976348877, -4.927299976348877, -4.927299976348877, -4.927299976348877, -4.927299976348877, -4.927299976348877, -4.927299976348877, -4.927299976348877, -4.927299976348877, -4.927299976348877, -4.927299976348877, -4.927299976348877, -4.927299976348877, -4.92710018157959, -4.927199840545654, -4.927199840545654, -4.927199840545654, -4.927199840545654, -4.927199840545654, -4.927199840545654, -4.927199840545654, -4.927199840545654, -4.927199840545654, -4.927199840545654, -4.927199840545654, -4.927199840545654, -4.927199840545654, -4.927199840545654, -4.927199840545654, -4.927199840545654, -4.927199840545654, -4.927199840545654, -4.927199840545654, -4.927199840545654, -4.927199840545654, -4.927199840545654, -4.927199840545654, -4.927199840545654, -4.927199840545654, -4.927199840545654, -4.927199840545654, -4.927199840545654, -4.927199840545654, -3.884700059890747, -4.259500026702881, -4.259699821472168, -4.259699821472168, -4.259799957275391, -4.260000228881836, -4.86460018157959, -4.86460018157959, -4.86460018157959, -4.86460018157959, -4.86460018157959, -4.86460018157959, -4.86460018157959, -4.86460018157959, -4.86460018157959, -4.86460018157959, -4.86460018157959, -4.86460018157959, -4.864699840545654, -4.864699840545654, -4.864699840545654, -4.864699840545654, -4.864699840545654, -4.864699840545654, -4.864699840545654, -4.864699840545654, -4.864799976348877, -4.864999771118164, -4.864999771118164, -4.864999771118164, -2.725600004196167, -3.3989999294281006, -2.5457000732421875, -3.073199987411499, -2.3257999420166016, -3.612799882888794, -3.884000062942505, -4.2581000328063965, -4.258299827575684, -4.258399963378906, -4.258600234985352, -4.864200115203857, -4.864299774169922, -4.8643999099731445, -4.8643999099731445]}, \"token.table\": {\"Topic\": [5, 5, 2, 5, 5, 2, 2, 5, 5, 2, 5, 5, 2, 5, 2, 5, 2, 5, 5, 5, 5, 5, 2, 5, 2, 5, 2, 2, 2, 5, 2, 2, 2, 5, 5, 5, 2, 2, 2, 5, 5, 2, 2, 5, 5, 2, 2, 2, 5, 5, 2, 2, 5, 5, 5, 5, 5, 2, 2, 2, 5, 2, 5, 5, 2, 5, 2, 2, 2, 5, 2, 5, 5, 2, 5, 2, 5, 2, 5, 2, 2, 5, 2, 5, 5, 5, 2, 5, 5, 2, 5, 2, 2, 5, 2, 5, 2, 5, 2, 5, 2, 5, 2, 5, 5, 2, 5, 2, 2, 5, 5, 2, 2, 5, 2, 5, 2, 2, 2, 5, 5, 2, 5, 2, 5, 5, 2, 5, 2, 5], \"Freq\": [0.8341371417045593, 0.8341588377952576, 0.8008553981781006, 0.8341589570045471, 0.8341370224952698, 0.8008593320846558, 0.8008549213409424, 0.8340873122215271, 0.8341448903083801, 0.8008548617362976, 0.8341390490531921, 0.8340590596199036, 0.8008549213409424, 0.8340741991996765, 0.8008583784103394, 0.8341588973999023, 0.4870362877845764, 0.4870362877845764, 0.834134578704834, 0.834144115447998, 0.8340698480606079, 0.834136426448822, 0.9509620070457458, 0.8341324925422668, 0.9509435892105103, 0.8341540694236755, 0.8008553981781006, 0.8008582592010498, 0.48703810572624207, 0.48703810572624207, 0.8008554577827454, 0.9509437680244446, 0.8008593320846558, 0.8341378569602966, 0.8341589570045471, 0.8341588377952576, 0.8008583188056946, 0.8008553981781006, 0.42973822355270386, 0.5729842782020569, 1.0682905912399292, 0.9509443044662476, 0.9509584307670593, 0.9982213377952576, 0.8341549038887024, 0.800855815410614, 0.9509633183479309, 0.8008593916893005, 0.8341589570045471, 0.8341525197029114, 0.8008559942245483, 0.5832087993621826, 0.43740659952163696, 0.8341400027275085, 0.834143877029419, 0.9981978535652161, 0.8341588973999023, 0.9509444236755371, 0.8008558750152588, 0.8008586168289185, 0.8341538906097412, 0.4870351552963257, 0.4870351552963257, 0.8341367244720459, 0.8664019107818604, 0.2166004776954651, 0.8008584380149841, 0.9509445428848267, 0.8571400046348572, 0.8341533541679382, 0.48702871799468994, 0.48702871799468994, 0.8341326117515564, 0.8008592128753662, 0.834158718585968, 0.8008584380149841, 0.8341589570045471, 0.6878114938735962, 0.3439057469367981, 0.8008595108985901, 0.6253664493560791, 0.31268322467803955, 0.538737952709198, 0.538737952709198, 0.8341445326805115, 0.834158718585968, 0.8008583188056946, 0.834158718585968, 0.8341521620750427, 0.6291557550430298, 0.3932223618030548, 0.8571402430534363, 0.8008555769920349, 0.8341426253318787, 0.6568971276283264, 0.4379314184188843, 0.5387367606163025, 0.5387367606163025, 0.27261629700660706, 0.7269768118858337, 0.7445266246795654, 0.24817554652690887, 0.4870353937149048, 0.4870353937149048, 0.8341516256332397, 1.0492807626724243, 0.9982098340988159, 0.9509445428848267, 0.5387411713600159, 0.5387411713600159, 0.9982113838195801, 0.8008553385734558, 0.8008583784103394, 0.834159255027771, 0.8008594512939453, 0.834134042263031, 0.9509437680244446, 0.800855815410614, 0.9509594440460205, 0.8341357707977295, 0.8341538310050964, 0.9509437680244446, 0.8341368436813354, 0.9509657025337219, 0.9982149600982666, 0.8341360092163086, 0.5649253129959106, 0.423693984746933, 0.9509592056274414, 0.8341546058654785], \"Term\": [\".0076\", \"082,_u.s.epa,_corvallis,_or:54_p\", \"1,1,1,3,3,3-hexabutyldistannoxane\", \"1,2,3,4,5-pentachloro-6-nitrobenzene\", \"1-methylethyl)phosphoramidic_acid_ethyl-3-methyl-4-(methylthio)phenyl_ester\", \"1-naphthalenol_methylcarbamate\", \"107.30\", \"108.2\", \"110891\", \"114.69\", \"114261\", \"116063\", \"125.39\", \"141.2\", \"14583449\", \"17110\", \"1ar,2r,2as,3s,6r,6ar,7s,7as)-rel-3,4,5,6,9,9-hexachloro-1a,2,2a,3,6,6a,7,7a\", \"1ar,2r,2as,3s,6r,6ar,7s,7as)-rel-3,4,5,6,9,9-hexachloro-1a,2,2a,3,6,6a,7,7a\", \"2,2'-methylenebis[3,4,6-trichlorophenol\", \"2-(1-methylethoxy)phenol,_1-(n\", \"2-methyl-2-(methylthio)propanol_o-[(methylamino)carbonyl]oxime\", \"22224926\", \"35034\", \"35171\", \"35203\", \"39380\", \"56359\", \"6-(2,6-dioxo-3-piperidinyl)-2,3-dihydro-5h-1,4-dithiino[2,3-c]pyrrole-5,7(6h)-dione\", \"60571\", \"60571\", \"61037\", \"62737\", \"63252\", \"70304\", \"70756\", \"82688\", \"91811\", \"a.,_r._barale,_g._brun,_r._forster,_t._gunther,_h._hautefeuille,_c.a._van_der_heijden,_a.g.a.c._knaap,_r._krowke\", \"active_ingredient\", \"active_ingredient\", \"adult\", \"arch._toxicol.34:103\", \"bedford\", \"black_rat\", \"blesbok\", \"butyltin)_oxide_(tbto),_a_broad\", \"c.t.,_d.h._hutson,_and_i.l._natoff\", \"che_pesticides_in_mice\", \"cholakis\", \"damaliscus_pygargus\", \"davis\", \"day(s\", \"day(s\", \"effects_of_subacute_feeding_of_carbaryl_on_mixed_function_oxidase_and_on_acute_toxicity_of_parathion_and_propoxur_in_rats\", \"environ._res.20(1):_148\", \"environmental_fate_and_effects_division,_u.s.epa,_washington,_d.c.\", \"epa-600/3\", \"estimation_of_the_ld1_and_extrapolation_of_the_ld0.1_for_five_organophosphate_pesticides\", \"evaluation_of_the_genetic_and_embryotoxic_effects_of_bis(tri\", \"fickentscher\", \"field_artificial\", \"formulation\", \"formulation\", \"gain\", \"gavage\", \"gavage\", \"gestation\", \"haley\", \"house_mouse\", \"i.h.,_n.c.j._basson,_p.a._basson,_t.w._naude,_and_b.p._maartens\", \"intraperitoneal\", \"intraperitoneal\", \"intravenous\", \"j._med._soc._toho_univ.25(4):_635\", \"j.m.,_l.c.k._wong,_and_c.c._lee\", \"k.,_a._kirfel,_g._will,_and_f._kohler\", \"kg_bdwt\", \"kg_org\", \"kg_org\", \"kobayashi\", \"mammal\", \"mammal\", \"mammals;_standard_test_species\", \"mammals;_standard_test_species\", \"methylcarbamate\", \"microtus_montanus\", \"mol._pharmacol.13(1):_133\", \"montane_vole\", \"month(s\", \"mortality\", \"mortality\", \"mus_musculus\", \"mutat._res.188:65\", \"neskovic\", \"no_substrate\", \"no_substrate\", \"norway_rat\", \"norway_rat\", \"not_coded\", \"not_coded\", \"not_reported\", \"not_reported\", \"octahydro-2,7:3,6-dimethanonaphth[2,3-b]oxirene\", \"octahydro-2,7:3,6-dimethanonaphth[2,3-b]oxirene\", \"onderstepoort_j._vet._res.40(1):_31\", \"oral_via_capsule\", \"pesticide_ecotoxicity_database_(formerly:__environmental_effects_database_(eedb\", \"phosphoric_acid_2,2-dichloroethenyl_dimethyl_ester\", \"rattus_norvegicus\", \"rattus_norvegicus\", \"rattus_rattus\", \"spectrum_pesticide,_in_multiple_in_vivo_and_in_vitro_short\", \"stereochemical_properties_and_teratogenic_activity_of_some_tetrahydrophthalimides\", \"study_of_the_chemical_and_behavioral_toxicology_of_substitute_chemicals_in_microtine_rodents\", \"synergism_in_pesticide_toxicity_(2)__acute_oral_toxicity_of_anti\", \"t.b.,_r.d._kimbrough,_and_r.e._linder\", \"t.j.,_j.h._farmer,_j.r._harmon,_and_k.l._dooley\", \"term_tests\", \"the_acute_toxicity_of_endrin_and_its_metabolites_to_rats\", \"the_oral_and_dermal_toxicity_of_hexachlorophene_in_rats\", \"the_toxicology_and_pathology_of_dieldrin_and_photodieldrin_poisoning_in_two_antelope_species\", \"total\", \"toxicol._appl._pharmacol.25:332\", \"toxicol._appl._pharmacol.33:115\", \"u.s._environmental_protection_agency\", \"united_states_pharmacopeia_grade\", \"unmeasured\", \"unmeasured\", \"week(s\", \"wiese\"]}, \"R\": 30, \"lambda.step\": 0.01, \"plot.opts\": {\"xlab\": \"PC1\", \"ylab\": \"PC2\"}, \"topic.order\": [1, 2, 3, 4, 5]};\n",
       "\n",
       "function LDAvis_load_lib(url, callback){\n",
       "  var s = document.createElement('script');\n",
       "  s.src = url;\n",
       "  s.async = true;\n",
       "  s.onreadystatechange = s.onload = callback;\n",
       "  s.onerror = function(){console.warn(\"failed to load library \" + url);};\n",
       "  document.getElementsByTagName(\"head\")[0].appendChild(s);\n",
       "}\n",
       "\n",
       "if(typeof(LDAvis) !== \"undefined\"){\n",
       "   // already loaded: just create the visualization\n",
       "   !function(LDAvis){\n",
       "       new LDAvis(\"#\" + \"ldavis_el1135501439012831194826\", ldavis_el1135501439012831194826_data);\n",
       "   }(LDAvis);\n",
       "}else if(typeof define === \"function\" && define.amd){\n",
       "   // require.js is available: use it to load d3/LDAvis\n",
       "   require.config({paths: {d3: \"https://cdnjs.cloudflare.com/ajax/libs/d3/3.5.5/d3.min\"}});\n",
       "   require([\"d3\"], function(d3){\n",
       "      window.d3 = d3;\n",
       "      LDAvis_load_lib(\"https://cdn.rawgit.com/bmabey/pyLDAvis/files/ldavis.v1.0.0.js\", function(){\n",
       "        new LDAvis(\"#\" + \"ldavis_el1135501439012831194826\", ldavis_el1135501439012831194826_data);\n",
       "      });\n",
       "    });\n",
       "}else{\n",
       "    // require.js not available: dynamically load d3 & LDAvis\n",
       "    LDAvis_load_lib(\"https://cdnjs.cloudflare.com/ajax/libs/d3/3.5.5/d3.min.js\", function(){\n",
       "         LDAvis_load_lib(\"https://cdn.rawgit.com/bmabey/pyLDAvis/files/ldavis.v1.0.0.js\", function(){\n",
       "                 new LDAvis(\"#\" + \"ldavis_el1135501439012831194826\", ldavis_el1135501439012831194826_data);\n",
       "            })\n",
       "         });\n",
       "}\n",
       "</script>"
      ],
      "text/plain": [
       "<IPython.core.display.HTML object>"
      ]
     },
     "execution_count": 47,
     "metadata": {},
     "output_type": "execute_result"
    }
   ],
   "source": [
    "dictionary = gensim.corpora.Dictionary.load('dictionary.gensim')\n",
    "corpus = pickle.load(open('corpus.pkl', 'rb'))\n",
    "lda = gensim.models.ldamodel.LdaModel.load('model5.gensim')\n",
    "\n",
    "import pyLDAvis.gensim\n",
    "\n",
    "lda_display = pyLDAvis.gensim.prepare(lda, corpus, dictionary, sort_topics=False)\n",
    "pyLDAvis.display(lda_display)"
   ]
  },
  {
   "cell_type": "code",
   "execution_count": null,
   "metadata": {},
   "outputs": [],
   "source": []
  }
 ],
 "metadata": {
  "kernelspec": {
   "display_name": "Python 3",
   "language": "python",
   "name": "python3"
  },
  "language_info": {
   "codemirror_mode": {
    "name": "ipython",
    "version": 3
   },
   "file_extension": ".py",
   "mimetype": "text/x-python",
   "name": "python",
   "nbconvert_exporter": "python",
   "pygments_lexer": "ipython3",
   "version": "3.7.3"
  }
 },
 "nbformat": 4,
 "nbformat_minor": 2
}
