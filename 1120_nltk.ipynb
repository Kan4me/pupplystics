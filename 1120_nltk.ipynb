{
 "cells": [
  {
   "cell_type": "markdown",
   "metadata": {},
   "source": [
    "# NLTK\n",
    "\n",
    "Fist, install some packs\n",
    "\n",
    "```\n",
    "pip3 install -U spacy  \n",
    "```\n",
    "\n",
    "```\n",
    "python3 -m spacy download en\n",
    "```\n",
    "\n",
    "```\n",
    "pip install pyldavis\n",
    "```\n",
    "\n",
    "ref: https://datascienceplus.com/topic-modeling-in-python-with-nltk-and-gensim/"
   ]
  },
  {
   "cell_type": "code",
   "execution_count": 1,
   "metadata": {},
   "outputs": [],
   "source": [
    "import spacy\n",
    "spacy.load('en')\n",
    "from spacy.lang.en import English\n",
    "parser = English()\n",
    "def tokenize(text):\n",
    "    lda_tokens = []\n",
    "    tokens = parser(text)\n",
    "    for token in tokens:\n",
    "        if token.orth_.isspace():\n",
    "            continue\n",
    "        elif token.like_url:\n",
    "            lda_tokens.append('URL')\n",
    "        elif token.orth_.startswith('@'):\n",
    "            lda_tokens.append('SCREEN_NAME')\n",
    "        else:\n",
    "            lda_tokens.append(token.lower_)\n",
    "    return lda_tokens"
   ]
  },
  {
   "cell_type": "code",
   "execution_count": 2,
   "metadata": {},
   "outputs": [
    {
     "name": "stderr",
     "output_type": "stream",
     "text": [
      "[nltk_data] Downloading package wordnet to /Users/zireael/nltk_data...\n",
      "[nltk_data]   Package wordnet is already up-to-date!\n"
     ]
    }
   ],
   "source": [
    "import nltk\n",
    "nltk.download('wordnet')\n",
    "from nltk.corpus import wordnet as wn\n",
    "def get_lemma(word):\n",
    "    lemma = wn.morphy(word)\n",
    "    if lemma is None:\n",
    "        return word\n",
    "    else:\n",
    "        return lemma\n",
    "    \n",
    "from nltk.stem.wordnet import WordNetLemmatizer\n",
    "def get_lemma2(word):\n",
    "    return WordNetLemmatizer().lemmatize(word)"
   ]
  },
  {
   "cell_type": "code",
   "execution_count": 3,
   "metadata": {},
   "outputs": [
    {
     "name": "stdout",
     "output_type": "stream",
     "text": [
      "{'d', 'does', \"wasn't\", 'most', 'no', 'aren', \"she's\", 'wouldn', 'and', 'what', 'the', \"isn't\", 'yourself', 'we', 'did', 'won', 'under', 'more', 'over', 'has', 'from', \"doesn't\", 'that', 'these', 'shouldn', 'who', 'if', 'be', 'to', 'for', 'y', 'didn', 'hasn', 'off', 'how', 'ours', 'haven', \"won't\", 'him', 'while', 'can', 'those', 'our', 'above', 'with', 'few', 'are', 'such', \"didn't\", \"aren't\", 'too', 'i', 'up', 'them', 'hadn', 'further', 'isn', 'its', 'so', 'an', 'she', 'some', 'itself', 'you', 'll', \"that'll\", 'hers', 'below', 're', 'or', \"shan't\", 'ma', 'they', 'being', \"hadn't\", 'against', 'on', 'themselves', \"wouldn't\", 'once', 'shan', 'weren', 'whom', 'into', 'a', 'until', 'ain', 'by', 's', 'out', 'myself', 'needn', 'ourselves', \"mustn't\", \"you're\", 'this', 'but', 'doesn', 'were', 'mightn', 'all', 'was', 'is', 'as', \"weren't\", 'her', 'because', 'own', 'just', \"you'll\", 'should', 'after', 'very', \"you've\", 'theirs', \"shouldn't\", 'he', 'their', 'at', '|', 'then', 'have', 'don', 'when', 'both', \"it's\", \"don't\", 'between', 'which', 'it', 'in', 'his', \"should've\", \"mightn't\", 'same', 'of', 'couldn', 'will', 'than', 've', \"hasn't\", \"needn't\", 'about', 'o', 'am', 'your', 'not', 'through', 'my', 'me', 'had', 'yours', 'been', 'where', 'wasn', 'there', 't', 'now', \"haven't\", 'any', 'having', \"you'd\", 'doing', 'here', 'each', 'mustn', 'why', 'other', 'before', 'do', 'again', 'herself', 'down', 'during', 'yourselves', 'nor', 'm', 'only', 'himself', \"couldn't\"}\n"
     ]
    }
   ],
   "source": [
    "# nltk.download('stopwords')\n",
    "# en_stop = set(nltk.corpus.stopwords.words('english'))\n",
    "\n",
    "from nltk.corpus import stopwords\n",
    "stop_words = set(stopwords.words(\"english\"))\n",
    "\n",
    "\n",
    "new_stopwords = ['|'] #no neet since the file was updated. more info to came\n",
    "new_stopwords_list = stop_words.union(new_stopwords)\n",
    "\n",
    "print(new_stopwords_list)"
   ]
  },
  {
   "cell_type": "code",
   "execution_count": 4,
   "metadata": {},
   "outputs": [],
   "source": [
    "def prepare_text_for_lda(text):\n",
    "    tokens = tokenize(text)\n",
    "    tokens = [token for token in tokens if len(token) > 4]\n",
    "    tokens = [token for token in tokens if token not in new_stopwords]\n",
    "    tokens = [get_lemma(token) for token in tokens]\n",
    "    return tokens"
   ]
  },
  {
   "cell_type": "markdown",
   "metadata": {},
   "source": [
    "Topic model file is the database only replacing some values so it will have a aproximate behaviour as a textual document, as having space between values(representing words) and replacing every space with a underscore so the 'palavara composta?' dont be lost without its context"
   ]
  },
  {
   "cell_type": "code",
   "execution_count": 5,
   "metadata": {},
   "outputs": [
    {
     "name": "stdout",
     "output_type": "stream",
     "text": [
      "['52686', 'p-(2,2,2-trichloro-1-hydroxyethyl)phosphonic_acid_dimethyl_ester', 'not_reported', 'mammal', 'mus_musculus', 'house_mouse', 'not_reported', 'not_reported', 'not_reported', 'gavage', 'mortality', 'mortality', 'not_reported', 'not_reported', 'active_ingredient', 'kg_org', 'day(s', 'haley', 't.j.,_j.h._farmer,_j.r._harmon,_and_k.l._dooley', '35203', 'estimation_of_the_ld1_and_extrapolation_of_the_ld0.1_for_five_organophosphate_pesticides', 'arch._toxicol.34:103']\n",
      "['56531', \"4,4'-[(1e)-1,2-diethyl-1,2-ethenediyl]bisphenol\", 'technical_grade,_technical_product,_technical_formulation', 'mammal', 'peromyscus_maniculatus', 'deer_mouse', 'not_reported', 'not_reported', 'not_reported', 'oral_via_capsule', 'mortality', 'mortality', 'not_reported', 'not_reported', 'active_ingredient', 'day(s', 'schafer', 'e.w.,jr', ',_and_w.a.,jr._bowles', '35426', 'acute_oral_toxicity_and_repellency_of_933_chemicals_to_house_and_deer_mice', 'arch._environ._contam._toxicol.14(1):_111']\n",
      "['60571', '1ar,2r,2as,3s,6r,6ar,7s,7as)-rel-3,4,5,6,9,9-hexachloro-1a,2,2a,3,6,6a,7,7a', 'octahydro-2,7:3,6-dimethanonaphth[2,3-b]oxirene', 'not_reported', 'mammals;_standard_test_species', 'rattus_norvegicus', 'norway_rat', 'juvenile', 'day(s', 'not_reported', 'mortality', 'survival', 'not_reported', 'measure', 'not_coded', 'day(s', 'j.r.,_r.r._claeys,_j.f._bone,_and_t.w._mccorcle', '37008', 'dieldrin_toxicosis:_rat_reproduction', 'am._j._vet._res.31(1):_181']\n",
      "['62737', 'phosphoric_acid_2,2-dichloroethenyl_dimethyl_ester', 'not_reported', 'mammal', 'mus_musculus', 'house_mouse', 'not_reported', 'not_reported', 'not_reported', 'gavage', 'mortality', 'mortality', 'not_reported', 'not_reported', 'active_ingredient', '128.7', '150.1', 'kg_org', 'day(s', 'haley', 't.j.,_j.h._farmer,_j.r._harmon,_and_k.l._dooley', '35203', 'estimation_of_the_ld1_and_extrapolation_of_the_ld0.1_for_five_organophosphate_pesticides', 'arch._toxicol.34:103']\n",
      "['72004', 'phosphoric_acid_2,2-dichlororethenyl_diethyl_ester', 'technical_grade,_technical_product,_technical_formulation', 'mammal', 'peromyscus_maniculatus', 'deer_mouse', 'not_reported', 'not_reported', 'not_reported', 'oral_via_capsule', 'mortality', 'mortality', 'not_reported', 'not_reported', 'active_ingredient', 'day(s', 'schafer', 'e.w.,jr', ',_and_w.a.,jr._bowles', '35426', 'acute_oral_toxicity_and_repellency_of_933_chemicals_to_house_and_deer_mice', 'arch._environ._contam._toxicol.14(1):_111']\n",
      "['77805', 'hexaphenyldistannathiane', 'technical_grade,_technical_product,_technical_formulation', 'mammal', 'peromyscus_maniculatus', 'deer_mouse', 'not_reported', 'not_reported', 'not_reported', 'oral_via_capsule', 'mortality', 'mortality', 'not_reported', 'not_reported', 'not_coded', 'day(s', 'schafer', 'e.w.,jr', ',_and_w.a.,jr._bowles', '35426', 'acute_oral_toxicity_and_repellency_of_933_chemicals_to_house_and_deer_mice', 'arch._environ._contam._toxicol.14(1):_111']\n",
      "['82666', '2-(diphenylacetyl)-1h', 'indene-1,3(2h)-dione', 'not_reported', 'mammal', 'microtus_pennsylvanicus', 'meadow_vole', 'adult', 'not_reported', 'no_substrate', 'gavage', 'mortality', 'mortality', 'not_reported', 'unmeasured', 'formulation', 'kg_bdwt', 'day(s', 'byers', '69367', 'performance_of_rodenticides_for_the_control_of_pine_voles_in_orchards', 'j._am._soc._hortic._sci.103(1):_65']\n",
      "['110714', '1,2-dimethoxyethane', 'not_reported', 'mammal', 'mus_musculus', 'house_mouse', 'adult', 'day(s', 'no_substrate', 'gavage', 'mortality', 'mortality', 'not_reported', 'unmeasured', 'formulation', '2525.8', '1986.9', '3266.7', 'kg_bdwt', 'day(s', 'plasterer', 'm.r.,_w.s._bradshaw,_g.m._booth,_m.w._carter,_r.l._schuler,_and_b.d._hardin', '38350', 'developmental_toxicity_of_nine_selected_compounds_following_prenatal_exposure_in_the_mouse:__naphthalene,_p', 'nitrophenol,_sodium_selenite,_dimethyl_phthalate,_ethylenethiourea,_and_four_glycol_ether_derivatives', 'j._toxicol._environ._health15(1):_25']\n",
      "['115297', '6,7,8,9,10,10-hexachloro-1,5,5a,6,9,9a', 'hexahydro-6,9-methano-2,4,3-benzodioxathiepin_3-oxide', 'not_reported', 'mammals;_standard_test_species', 'rattus_norvegicus', 'norway_rat', 'adult', 'not_reported', 'not_reported', 'intraperitoneal', 'mortality', 'mortality', 'not_reported', 'unmeasured', 'formulation', 'day(s', 'gupta', '103467', 'endosulfan', 'induced_neurotoxicity_in_rats_and_mice', 'bull._environ._contam._toxicol.15(6):_708']\n",
      "['121755', 'dimethoxyphosphinothioyl)thio]butanedioic_acid,_diethyl_ester', 'not_reported', 'mammal', 'mus_musculus', 'house_mouse', 'not_reported', 'not_reported', 'no_substrate', 'intraperitoneal', 'mortality', 'mortality', 'not_reported', 'unmeasured', 'active_ingredient', 'day(s', 'ramakrishna', 'n.,_and_b.v._ramachandran', '38431', 'malathion_a_and_b_esterases_of_mouse_liver', 'iii:_in_vivo_effect_of_parathion_and_related_pnp', 'containing_insecticides_on_esterase_inhibition_and_potentiation_of_malathion_toxicity', 'biochem._pharmacol.27(16):_2049']\n",
      "['349951', '4-(trifluoromethyl)benzenemethanol', 'not_reported', 'mammals;_standard_test_species', 'rattus_norvegicus', 'norway_rat', 'not_reported', 'week(s', 'no_substrate', 'gavage', 'mortality', 'mortality', 'not_reported', 'unmeasured', 'active_ingredient', 'day(s', 't.,_m._yamashita,_m._takeda,_and_h._naito', '173998', 'the_toxicity_and_structure_of_various_aromatic_fluorides', 'fluoride19(3):_117']\n",
      "['709988', 'n-(3,4-dichlorophenyl)propanamide', 'not_reported', 'mammal', 'microtus_canicaudus', 'tailed_vole', 'not_reported', 'day(s', 'no_substrate', 'gavage', 'mortality', 'mortality', 'not_reported', 'unmeasured', 'formulation', 'kg_bdwt', 'day(s', 'cholakis', 'j.m.,_l.c.k._wong,_and_c.c._lee', '70756', 'study_of_the_chemical_and_behavioral_toxicology_of_substitute_chemicals_in_microtine_rodents', 'epa-600/3', '082,_u.s.epa,_corvallis,_or:54_p']\n",
      "['1746016', '2,3,7,8-tetrachlorodibenzo[b', 'e][1,4]dioxin', 'not_reported', 'mammal', 'neovison_vison', 'american_mink', 'not_reported', 'not_reported', 'not_reported', 'oral_via_capsule', 'mortality', 'mortality', 'not_reported', 'not_reported', 'not_coded', 'day(s', 'hochstein', 'j.r.,_r.j._aulerich,_and_s.j._bursian', '35244', 'acute_toxicity_of_2,3,7,8-tetrachlorodibenzo', 'dioxin_to_mink', 'arch._environ._contam._toxicol.17:33']\n",
      "['2074502', \"1,1'-dimethyl-4,4'-bipyridinium_bis(methyl_sulfate\", 'not_reported', 'mammals;_standard_test_species', 'rattus_norvegicus', 'norway_rat', 'adult', 'month(s', 'no_substrate', 'mortality', 'mortality', 'not_reported', 'unmeasured', 'formulation', 'kg_bdwt', 'day(s', 'kimbrough', 'r.d.,_and_t.b._gaines', '37479', 'toxicity_of_paraquat_to_rats_and_its_effect_on_rat_lungs', 'toxicol._appl._pharmacol.17:679']\n",
      "['2921882', 'phosphorothioic_acid,_o', 'diethyl_o-(3,5,6-trichloro-2-pyridinyl)_ester', 'not_reported', 'mammals;_standard_test_species', 'rattus_norvegicus', 'norway_rat', 'juvenile', 'day(s', 'no_substrate', 'gavage', 'mortality', 'mortality', 'not_reported', 'unmeasured', 'active_ingredient', 'day(s', 'zheng', 'q.,_k._olivier,_y.k._won,_and_c.n._pope', '101287', 'comparative_cholinergic_neurotoxicity_of_oral_chlorpyrifos_exposures_in_preweanling_and_adult_rats', 'toxicol._sci.55(1):_124']\n",
      "['3691358', '2-[2-(4-chlorophenyl)-2-phenylacetyl]-1h', 'indene-1,3(2h)-dione', 'not_reported', 'mammal', 'microtus_pinetorum', 'pine_vole', 'adult', 'not_reported', 'no_substrate', 'gavage', 'mortality', 'mortality', 'not_reported', 'unmeasured', 'formulation', 'day(s', 'byers', '69367', 'performance_of_rodenticides_for_the_control_of_pine_voles_in_orchards', 'j._am._soc._hortic._sci.103(1):_65']\n",
      "['3825261', '2,2,3,3,4,4,5,5,6,6,7,7,8,8,8-pentadecafluorooctanoic_acid,_ammonium_salt_(1:1', 'not_reported', 'mammals;_standard_test_species', 'rattus_norvegicus', 'norway_rat', 'young_adult', 'not_reported', 'not_reported', 'gavage', 'mortality', 'mortality', 'not_reported', 'unmeasured', 'formulation', 'kg_bdwt', 'day(s', 'dupont_haskell_laboratory', '151364', 'summaries_of_studies_conducted_at__dupont_haskell_laboratory_with_ammonium_perfluorooctanoate_and_perfluorononanoate,_(with_cover_letter_dated_052500', 'ots_doc_#fyi', 'ots-0600', '1378:54_p']\n",
      "['6923224', 'phosphoric_acid_dimethyl_(1e)-1-methyl-3-(methylamino)-3-oxo-1-propen-1-yl_ester', 'technical_or_analytical_or_reagent_grade', 'mammal', 'odocoileus_hemionus', 'mule_deer', 'not_reported', 'month(s', 'not_reported', 'not_reported', 'oral_via_capsule', 'mortality', 'mortality', 'not_reported', 'unmeasured', 'active_ingredient', 'kg_bdwt', 'day(s', 'hudson', 'r.h.,_r.k._tucker,_and_m.a._haegele', '50386', 'handbook_of_toxicity_of_pesticides_to_wildlife', 'resource_publication_153,_fish_and_wildlife_service,_u.s._department_of_the_interior:90_p']\n"
     ]
    },
    {
     "name": "stdout",
     "output_type": "stream",
     "text": [
      "['7778394', 'arsenic_acid__(h3aso4', 'not_coded', 'mammal', 'rattus_rattus', 'black_rat', 'not_coded', 'not_coded', 'not_coded', 'mortality', 'mortality', 'not_coded', 'not_coded', 'not_coded', 'day(s', 'u.s._environmental_protection_agency', 'pesticide_ecotoxicity_database_(formerly:__environmental_effects_database_(eedb', 'environmental_fate_and_effects_division,_u.s.epa,_washington,_d.c.']\n",
      "['14769734', 's)-2,3,5,6-tetrahydro-6-phenyl', 'imidazo[2,1-b]thiazole', 'not_reported', 'mammal', 'mus_musculus', 'house_mouse', 'young', 'not_reported', 'no_substrate', 'mortality', 'mortality', 'not_reported', 'unmeasured', 'formulation', 'kg_bdwt', 'day(s', 'brody', 'g.,_and_t.e._elward', '101241', 'comparative_activity_of_29_known_anthelmintics_under_standarized_drug', 'diet_and_gavage_medication_regimens_against_four_helminth_species_in_mice', 'j._parasitol.57(5):_1068']\n",
      "['52918635', '1r,3r)-3-(2,2-dibromoethenyl)-2,2-dimethylcyclopropanecarboxylic_acid_(s)cyano(3-phenoxyphenyl)methyl_ester', 'technical_grade,_technical_product,_technical_formulation', 'mammal', 'mus_musculus', 'house_mouse', 'not_reported', 'not_reported', 'no_substrate', 'gavage', 'mortality', 'mortality', 'not_reported', 'unmeasured', 'active_ingredient', '12.33', '10.95', '13.71', 'day(s', 'gupta', 'p.k.,_and_s._kumar', '109685', 'cumulative_toxicity_of_deltamethrin_in_mice', 'j._environ._biol.12(1):_45']\n",
      "['54593838', 'phosphorothioic_acid_o', 'diethyl', 'o-(1,2,2,2-tetrachloroethyl)_ester', 'technical_grade,_technical_product,_technical_formulation', 'mammal', 'mus_musculus', 'house_mouse', 'not_reported', 'week(s', 'no_substrate', 'gavage', 'mortality', 'mortality', 'not_reported', 'unmeasured', 'active_ingredient', 'day(s', 'shell_oil_co', '161078', 'initial_submission:__acute_oral_toxicity_of_sd-208304_technical_in_the_mouse_(final_report)_with_attachments_and_cover_letter_dated_040292', 'ots_doc.#88', '920001976:56_p']\n",
      "['54774457', '1r,3r)-3-(2,2-dichloroethenyl)-2,2-dimethylcyclopropanecarboxylic_acid_(3-phenoxyphenyl)methyl_ester', 'not_reported', 'mammal', 'mus_musculus', 'house_mouse', 'not_reported', 'not_reported', 'no_substrate', 'intracranial', 'mortality', 'mortality', 'not_reported', 'unmeasured', 'formulation', 'day(s', 'gammon', 'd.w.,_l.j._lawrence,_and_j.e._casida', '109199', 'pyrethroid_toxicology:__protective_effects_of_diazepam_and_phenobarbital_in_the_mouse_and_the_cockroach', 'toxicol._appl._pharmacol.66(2):_290']\n",
      "['56073100', \"3-[3-(4'-bromo-[1,1'-biphenyl]-4-yl)-1,2,3,4-tetrahydro-1-naphthalenyl]-4-hydroxy-2h-1-benzopyran-2-one\", 'technical_grade,_technical_product,_technical_formulation', 'mammal', 'meriones_hurrianae', 'indian_desert_jird', 'not_reported', 'not_reported', 'no_substrate', 'diet,_unspecified', 'mortality', 'mortality', 'not_reported', 'unmeasured', 'active_ingredient', '0.083', 'day(s', 'mathur', 'r.p.,_and_i._prakash', '153521', 'evaluation_of_brodifacoum_against_t._indica,_m._hurrianae_and_r._rattus', 'j._hyg.87(2):_179']\n",
      "['61949777', '1r,3s)-rel-3-(2,2-dichloroethenyl)-2,2-dimethylcyclopropanecarboxylic_acid_(3-phenoxyphenyl)methyl_ester', 'technical_grade,_technical_product,_technical_formulation', 'mammal', 'mus_musculus', 'house_mouse', 'not_reported', 'not_reported', 'not_reported', 'intravenous', 'mortality', 'mortality', 'not_reported', 'unmeasured', 'active_ingredient', 'day(s', 'glickman', 'a.h.,_s.d._weitman,_and_j.j._lech', '10813', 'differential_toxicity_of_trans', 'permethrin_in_rainbow_trout_and_mice__i.__role_of_biotransformation', 'toxicol._appl._pharmacol.66(2):_153']\n",
      "['63333357', 'methyl-2,4-dinitro', 'n-(2,4,6-tribromophenyl)-6-(trifluoromethyl)benzenamine', 'not_reported', 'mammal', 'felis_catus', 'domestic_cat', 'not_reported', 'not_reported', 'no_substrate', 'gavage', 'mortality', 'mortality', 'not_reported', 'unmeasured', 'formulation', 'day(s', 'eli_lilly_and_co', '150765', 'initial_submission:__letter_from_eli_lilly_&_company_to_usepa_submitting_results_on_compound_#126714_acute_cat_nasogastric_study_with_attachments', 'ots_doc.#88', '920006221:33_p']\n"
     ]
    }
   ],
   "source": [
    "import random\n",
    "text_data = []\n",
    "\n",
    "with open('data/treated_data/topic-model.csv') as f:\n",
    "    for line in f:\n",
    "        tokens = prepare_text_for_lda(line)\n",
    "        if random.random() > .99:\n",
    "            print(tokens)\n",
    "            text_data.append(tokens)"
   ]
  },
  {
   "cell_type": "code",
   "execution_count": 6,
   "metadata": {
    "scrolled": true
   },
   "outputs": [],
   "source": [
    "from gensim import corpora\n",
    "\n",
    "dictionary = corpora.Dictionary(text_data)\n",
    "corpus = [dictionary.doc2bow(text) for text in text_data]\n",
    "import pickle\n",
    "pickle.dump(corpus, open('corpus.pkl', 'wb'))\n",
    "dictionary.save('dictionary.gensim')"
   ]
  },
  {
   "cell_type": "code",
   "execution_count": 7,
   "metadata": {},
   "outputs": [
    {
     "name": "stdout",
     "output_type": "stream",
     "text": [
      "(0, '0.113*\"not_reported\" + 0.073*\"mortality\" + 0.045*\"day(s\" + 0.037*\"unmeasured\"')\n",
      "(1, '0.112*\"not_coded\" + 0.034*\"mortality\" + 0.019*\"rattus_rattus\" + 0.019*\"environmental_fate_and_effects_division,_u.s.epa,_washington,_d.c.\"')\n",
      "(2, '0.167*\"not_reported\" + 0.077*\"mortality\" + 0.046*\"day(s\" + 0.026*\"mammal\"')\n",
      "(3, '0.004*\"not_reported\" + 0.004*\"mortality\" + 0.004*\"day(s\" + 0.004*\"mammal\"')\n",
      "(4, '0.067*\"not_reported\" + 0.045*\"mortality\" + 0.024*\"no_substrate\" + 0.024*\"active_ingredient\"')\n"
     ]
    }
   ],
   "source": [
    "import gensim\n",
    "NUM_TOPICS = 5\n",
    "ldamodel = gensim.models.ldamodel.LdaModel(corpus, num_topics = NUM_TOPICS, id2word=dictionary, passes=15)\n",
    "ldamodel.save('model5.gensim')\n",
    "topics = ldamodel.print_topics(num_words=4)\n",
    "for topic in topics:\n",
    "    print(topic)"
   ]
  },
  {
   "cell_type": "code",
   "execution_count": 8,
   "metadata": {},
   "outputs": [
    {
     "name": "stderr",
     "output_type": "stream",
     "text": [
      "/usr/local/lib/python3.7/site-packages/pyLDAvis/_prepare.py:257: FutureWarning: Sorting because non-concatenation axis is not aligned. A future version\n",
      "of pandas will change to not sort by default.\n",
      "\n",
      "To accept the future behavior, pass 'sort=False'.\n",
      "\n",
      "To retain the current behavior and silence the warning, pass 'sort=True'.\n",
      "\n",
      "  return pd.concat([default_term_info] + list(topic_dfs))\n"
     ]
    },
    {
     "data": {
      "text/html": [
       "\n",
       "<link rel=\"stylesheet\" type=\"text/css\" href=\"https://cdn.rawgit.com/bmabey/pyLDAvis/files/ldavis.v1.0.0.css\">\n",
       "\n",
       "\n",
       "<div id=\"ldavis_el276949743264324878375456\"></div>\n",
       "<script type=\"text/javascript\">\n",
       "\n",
       "var ldavis_el276949743264324878375456_data = {\"mdsDat\": {\"x\": [-0.08861846114721626, 0.0996752362765423, -0.07811642742545069, 0.08104734191036572, -0.01398768961424107], \"y\": [0.07555727245263305, -0.00828306195385545, -0.09223019776103743, 0.007005505379467293, 0.017950481882792513], \"topics\": [1, 2, 3, 4, 5], \"cluster\": [1, 1, 1, 1, 1], \"Freq\": [34.61198425292969, 3.8261752128601074, 52.177303314208984, 0.8640355467796326, 8.520496368408203]}, \"tinfo\": {\"Category\": [\"Default\", \"Default\", \"Default\", \"Default\", \"Default\", \"Default\", \"Default\", \"Default\", \"Default\", \"Default\", \"Default\", \"Default\", \"Default\", \"Default\", \"Default\", \"Default\", \"Default\", \"Default\", \"Default\", \"Default\", \"Default\", \"Default\", \"Default\", \"Default\", \"Default\", \"Default\", \"Default\", \"Default\", \"Default\", \"Default\", \"Topic1\", \"Topic1\", \"Topic1\", \"Topic1\", \"Topic1\", \"Topic1\", \"Topic1\", \"Topic1\", \"Topic1\", \"Topic1\", \"Topic1\", \"Topic1\", \"Topic1\", \"Topic1\", \"Topic1\", \"Topic1\", \"Topic1\", \"Topic1\", \"Topic1\", \"Topic1\", \"Topic1\", \"Topic1\", \"Topic1\", \"Topic1\", \"Topic1\", \"Topic1\", \"Topic1\", \"Topic1\", \"Topic1\", \"Topic1\", \"Topic1\", \"Topic1\", \"Topic1\", \"Topic1\", \"Topic1\", \"Topic1\", \"Topic1\", \"Topic1\", \"Topic1\", \"Topic1\", \"Topic1\", \"Topic1\", \"Topic1\", \"Topic1\", \"Topic1\", \"Topic2\", \"Topic2\", \"Topic2\", \"Topic2\", \"Topic2\", \"Topic2\", \"Topic2\", \"Topic2\", \"Topic2\", \"Topic2\", \"Topic2\", \"Topic2\", \"Topic2\", \"Topic2\", \"Topic2\", \"Topic2\", \"Topic2\", \"Topic2\", \"Topic2\", \"Topic2\", \"Topic2\", \"Topic2\", \"Topic2\", \"Topic2\", \"Topic2\", \"Topic2\", \"Topic2\", \"Topic2\", \"Topic2\", \"Topic2\", \"Topic2\", \"Topic2\", \"Topic2\", \"Topic2\", \"Topic2\", \"Topic2\", \"Topic2\", \"Topic2\", \"Topic2\", \"Topic2\", \"Topic2\", \"Topic2\", \"Topic2\", \"Topic2\", \"Topic2\", \"Topic2\", \"Topic2\", \"Topic2\", \"Topic2\", \"Topic2\", \"Topic2\", \"Topic2\", \"Topic2\", \"Topic2\", \"Topic2\", \"Topic3\", \"Topic3\", \"Topic3\", \"Topic3\", \"Topic3\", \"Topic3\", \"Topic3\", \"Topic3\", \"Topic3\", \"Topic3\", \"Topic3\", \"Topic3\", \"Topic3\", \"Topic3\", \"Topic3\", \"Topic3\", \"Topic3\", \"Topic3\", \"Topic3\", \"Topic3\", \"Topic3\", \"Topic3\", \"Topic3\", \"Topic3\", \"Topic3\", \"Topic3\", \"Topic3\", \"Topic3\", \"Topic3\", \"Topic3\", \"Topic3\", \"Topic3\", \"Topic3\", \"Topic3\", \"Topic3\", \"Topic3\", \"Topic3\", \"Topic3\", \"Topic3\", \"Topic3\", \"Topic3\", \"Topic3\", \"Topic3\", \"Topic3\", \"Topic4\", \"Topic4\", \"Topic4\", \"Topic4\", \"Topic4\", \"Topic4\", \"Topic4\", \"Topic4\", \"Topic4\", \"Topic4\", \"Topic4\", \"Topic4\", \"Topic4\", \"Topic4\", \"Topic4\", \"Topic4\", \"Topic4\", \"Topic4\", \"Topic4\", \"Topic4\", \"Topic4\", \"Topic4\", \"Topic4\", \"Topic4\", \"Topic4\", \"Topic4\", \"Topic4\", \"Topic4\", \"Topic4\", \"Topic4\", \"Topic4\", \"Topic4\", \"Topic4\", \"Topic4\", \"Topic4\", \"Topic4\", \"Topic4\", \"Topic4\", \"Topic4\", \"Topic4\", \"Topic4\", \"Topic4\", \"Topic4\", \"Topic4\", \"Topic4\", \"Topic4\", \"Topic4\", \"Topic4\", \"Topic4\", \"Topic4\", \"Topic4\", \"Topic4\", \"Topic4\", \"Topic4\", \"Topic4\", \"Topic4\", \"Topic4\", \"Topic4\", \"Topic4\", \"Topic4\", \"Topic4\", \"Topic4\", \"Topic4\", \"Topic4\", \"Topic4\", \"Topic4\", \"Topic5\", \"Topic5\", \"Topic5\", \"Topic5\", \"Topic5\", \"Topic5\", \"Topic5\", \"Topic5\", \"Topic5\", \"Topic5\", \"Topic5\", \"Topic5\", \"Topic5\", \"Topic5\", \"Topic5\", \"Topic5\", \"Topic5\", \"Topic5\", \"Topic5\", \"Topic5\", \"Topic5\", \"Topic5\", \"Topic5\", \"Topic5\", \"Topic5\", \"Topic5\", \"Topic5\", \"Topic5\", \"Topic5\", \"Topic5\", \"Topic5\", \"Topic5\", \"Topic5\", \"Topic5\", \"Topic5\", \"Topic5\", \"Topic5\", \"Topic5\"], \"Freq\": [5.0, 40.0, 15.0, 75.0, 11.0, 7.0, 7.0, 9.0, 14.0, 24.0, 4.0, 6.0, 1.0, 1.0, 10.0, 3.0, 3.0, 3.0, 3.0, 3.0, 3.0, 3.0, 3.0, 1.0, 8.0, 2.0, 2.0, 2.0, 2.0, 2.0, 1.7581002712249756, 1.7579903602600098, 1.7579537630081177, 1.7579528093338013, 1.7578479051589966, 0.9595515131950378, 0.9595518112182617, 0.9595518112182617, 0.9595518112182617, 0.9595519304275513, 0.9595518112182617, 0.9595515131950378, 0.9595513343811035, 0.9595512747764587, 0.9595510363578796, 0.9595500230789185, 0.9595500230789185, 0.9595499634742737, 0.9595498442649841, 0.9595496654510498, 0.9595494866371155, 0.9595490097999573, 0.9595491290092468, 0.9590461254119873, 0.9591559767723083, 0.95904541015625, 0.9591405391693115, 0.9590141773223877, 0.9590279459953308, 0.959019124507904, 6.556737422943115, 4.957469463348389, 4.158809661865234, 4.158412933349609, 7.355740547180176, 4.957034587860107, 14.544756889343262, 2.557904005050659, 22.538043975830078, 6.556652069091797, 8.952925682067871, 2.5581769943237305, 2.556992769241333, 1.7591220140457153, 0.9601987600326538, 0.4105340838432312, 0.41051286458969116, 0.41050034761428833, 0.4104887843132019, 0.4104863107204437, 0.4104785919189453, 0.4104699194431305, 2.4662444591522217, 0.0684409812092781, 0.0684409961104393, 0.0684410110116005, 0.0684409886598587, 0.0684409812092781, 0.06844102591276169, 0.0684409961104393, 0.06844110786914825, 0.06844101846218109, 0.06844102591276169, 0.06844104826450348, 0.06844101846218109, 0.0684409812092781, 0.06844102591276169, 0.06844107806682587, 0.06844101846218109, 0.0684409961104393, 0.06844241172075272, 0.06844234466552734, 0.06844232976436615, 0.06844235211610794, 0.06844237446784973, 0.410503089427948, 0.7525020837783813, 0.410137802362442, 0.0684424415230751, 0.06844258308410645, 0.06844254583120346, 0.06845500320196152, 0.06844846159219742, 0.0684470385313034, 0.0684465691447258, 0.06844646483659744, 0.06844624876976013, 0.06844621151685715, 0.06844614446163177, 0.06844605505466461, 0.06844606250524521, 0.06844602525234222, 0.06844598799943924, 0.06844550371170044, 0.06844545155763626, 0.06844541430473328, 0.06844532489776611, 0.06844452768564224, 0.06844417750835419, 0.06844401359558105, 4.396625518798828, 2.70559024810791, 2.7055890560150146, 2.7055890560150146, 2.7055890560150146, 2.7055890560150146, 2.7055883407592773, 2.705587863922119, 2.7055866718292236, 1.8600720167160034, 1.8600707054138184, 1.8600701093673706, 1.8600703477859497, 1.8600698709487915, 1.8600695133209229, 1.8591169118881226, 4.396290302276611, 4.396251201629639, 4.396139144897461, 1.0145468711853027, 1.0145466327667236, 1.014546275138855, 1.014546275138855, 1.014546275138855, 1.0145466327667236, 1.014546275138855, 1.0145467519760132, 1.014546275138855, 1.014546275138855, 1.0145461559295654, 50.0689811706543, 23.005624771118164, 13.701351165771484, 6.088274955749512, 3.5520951747894287, 7.780420780181885, 3.551326036453247, 6.087812423706055, 4.398619651794434, 2.6965484619140625, 3.5511574745178223, 3.549736738204956, 1.8607159852981567, 1.860089898109436, 0.021451029926538467, 0.02145102620124817, 0.021451039239764214, 0.02145104482769966, 0.02145102247595787, 0.021451039239764214, 0.02145104482769966, 0.02145104482769966, 0.0214510690420866, 0.021451063454151154, 0.021451054140925407, 0.02145104855298996, 0.021451080217957497, 0.02145107090473175, 0.02145107090473175, 0.021451063454151154, 0.021451063454151154, 0.021451054140925407, 0.021451080217957497, 0.02145107090473175, 0.021451061591506004, 0.021451067179441452, 0.02145109698176384, 0.021451063454151154, 0.0214516744017601, 0.021451670676469803, 0.02145165577530861, 0.021451637148857117, 0.021451648324728012, 0.02145165577530861, 0.02145165205001831, 0.02145172283053398, 0.021451717242598534, 0.02145172283053398, 0.021451707929372787, 0.021451707929372787, 0.02145584300160408, 0.0214553065598011, 0.021454473957419395, 0.02145407162606716, 0.021453671157360077, 0.02145339548587799, 0.021453358232975006, 0.02145320363342762, 0.021453190594911575, 0.021453186869621277, 0.02145315520465374, 0.021453136578202248, 0.021453069522976875, 0.02145303599536419, 0.02145295962691307, 0.02145290933549404, 0.021452851593494415, 0.021452829241752625, 0.02145276963710785, 0.021452566608786583, 0.0214524082839489, 0.021452367305755615, 0.021452218294143677, 0.02145220898091793, 0.021452201530337334, 0.021452192217111588, 0.021452192217111588, 0.02145218290388584, 0.02145218849182129, 0.02145218849182129, 0.6369433999061584, 0.6369248032569885, 0.6369234919548035, 0.636902928352356, 0.6368799209594727, 0.6368797421455383, 0.6368700861930847, 0.6368495225906372, 0.636819064617157, 0.6368189454078674, 0.6367859244346619, 0.636775016784668, 0.636758029460907, 0.6366435289382935, 0.636638343334198, 0.6365919709205627, 0.6365461349487305, 0.636527419090271, 0.6377397775650024, 0.6372848749160767, 1.1681936979293823, 1.1681348085403442, 0.10646259039640427, 0.10644924640655518, 0.10643721371889114, 0.10643324255943298, 0.10641544312238693, 0.10639619082212448, 0.10636313259601593, 1.169143557548523, 1.1694560050964355, 0.6366823315620422, 1.1689373254776, 1.1677836179733276, 2.232149839401245, 3.291646718978882, 0.6365556716918945, 1.168713092803955], \"Term\": [\"not_coded\", \"mortality\", \"mammal\", \"not_reported\", \"no_substrate\", \"house_mouse\", \"mus_musculus\", \"active_ingredient\", \"unmeasured\", \"day(s\", \"oral_via_capsule\", \"technical_grade,_technical_product,_technical_formulation\", \"intraperitoneal\", \"week(s\", \"gavage\", \"peromyscus_maniculatus\", \"arch._environ._contam._toxicol.14(1):_111\", \"schafer\", \"deer_mouse\", \"35426\", \"e.w.,jr\", \",_and_w.a.,jr._bowles\", \"acute_oral_toxicity_and_repellency_of_933_chemicals_to_house_and_deer_mice\", \"ots_doc.#88\", \"formulation\", \"byers\", \"j._am._soc._hortic._sci.103(1):_65\", \"performance_of_rodenticides_for_the_control_of_pine_voles_in_orchards\", \"indene-1,3(2h)-dione\", \"69367\", \"byers\", \"j._am._soc._hortic._sci.103(1):_65\", \"indene-1,3(2h)-dione\", \"performance_of_rodenticides_for_the_control_of_pine_voles_in_orchards\", \"69367\", \"brody\", \"imidazo[2,1-b]thiazole\", \"g.,_and_t.e._elward\", \"diet_and_gavage_medication_regimens_against_four_helminth_species_in_mice\", \"101241\", \"14769734\", \"j._parasitol.57(5):_1068\", \"young\", \"s)-2,3,5,6-tetrahydro-6-phenyl\", \"comparative_activity_of_29_known_anthelmintics_under_standarized_drug\", \"toxicol._appl._pharmacol.66(2):_290\", \"pyrethroid_toxicology:__protective_effects_of_diazepam_and_phenobarbital_in_the_mouse_and_the_cockroach\", \"54774457\", \"intracranial\", \"d.w.,_l.j._lawrence,_and_j.e._casida\", \"1r,3r)-3-(2,2-dichloroethenyl)-2,2-dimethylcyclopropanecarboxylic_acid_(3-phenoxyphenyl)methyl_ester\", \"gammon\", \"109199\", \"diethyl_o-(3,5,6-trichloro-2-pyridinyl)_ester\", \"initial_submission:__letter_from_eli_lilly_&_company_to_usepa_submitting_results_on_compound_#126714_acute_cat_nasogastric_study_with_attachments\", \"101287\", \"methyl-2,4-dinitro\", \"q.,_k._olivier,_y.k._won,_and_c.n._pope\", \"phosphorothioic_acid,_o\", \"toxicol._sci.55(1):_124\", \"no_substrate\", \"formulation\", \"house_mouse\", \"mus_musculus\", \"unmeasured\", \"gavage\", \"mortality\", \"adult\", \"not_reported\", \"mammal\", \"day(s\", \"kg_bdwt\", \"active_ingredient\", \"technical_grade,_technical_product,_technical_formulation\", \"ots_doc.#88\", \"rattus_rattus\", \"environmental_fate_and_effects_division,_u.s.epa,_washington,_d.c.\", \"arsenic_acid__(h3aso4\", \"u.s._environmental_protection_agency\", \"7778394\", \"pesticide_ecotoxicity_database_(formerly:__environmental_effects_database_(eedb\", \"black_rat\", \"not_coded\", \"121755\", \"dimethoxyphosphinothioyl)thio]butanedioic_acid,_diethyl_ester\", \"38431\", \"phosphorothioic_acid_o\", \"n.,_and_b.v._ramachandran\", \"biochem._pharmacol.27(16):_2049\", \"iii:_in_vivo_effect_of_parathion_and_related_pnp\", \"ramakrishna\", \"920001976:56_p\", \"o-(1,2,2,2-tetrachloroethyl)_ester\", \"54593838\", \"containing_insecticides_on_esterase_inhibition_and_potentiation_of_malathion_toxicity\", \"malathion_a_and_b_esterases_of_mouse_liver\", \"shell_oil_co\", \"initial_submission:__acute_oral_toxicity_of_sd-208304_technical_in_the_mouse_(final_report)_with_attachments_and_cover_letter_dated_040292\", \"diethyl\", \"161078\", \"comparative_cholinergic_neurotoxicity_of_oral_chlorpyrifos_exposures_in_preweanling_and_adult_rats\", \"zheng\", \"2921882\", \"diethyl_o-(3,5,6-trichloro-2-pyridinyl)_ester\", \"q.,_k._olivier,_y.k._won,_and_c.n._pope\", \"mammal\", \"mortality\", \"day(s\", \"phosphorothioic_acid,_o\", \"gammon\", \"109199\", \"not_reported\", \"unmeasured\", \"no_substrate\", \"active_ingredient\", \"technical_grade,_technical_product,_technical_formulation\", \"juvenile\", \"gavage\", \"house_mouse\", \"rattus_norvegicus\", \"norway_rat\", \"mammals;_standard_test_species\", \"mus_musculus\", \"formulation\", \"kg_bdwt\", \"adult\", \"gupta\", \"week(s\", \"intraperitoneal\", \"dieldrin_toxicosis:_rat_reproduction\", \"oral_via_capsule\", \"35426\", \",_and_w.a.,jr._bowles\", \"deer_mouse\", \"acute_oral_toxicity_and_repellency_of_933_chemicals_to_house_and_deer_mice\", \"e.w.,jr\", \"schafer\", \"arch._environ._contam._toxicol.14(1):_111\", \"peromyscus_maniculatus\", \"estimation_of_the_ld1_and_extrapolation_of_the_ld0.1_for_five_organophosphate_pesticides\", \"arch._toxicol.34:103\", \"t.j.,_j.h._farmer,_j.r._harmon,_and_k.l._dooley\", \"35203\", \"kg_org\", \"haley\", \"month(s\", \"rattus_norvegicus\", \"mammals;_standard_test_species\", \"norway_rat\", \"128.7\", \"phosphoric_acid_2,2-dichloroethenyl_dimethyl_ester\", \"odocoileus_hemionus\", \"ots_doc_#fyi\", \"3825261\", \"62737\", \"082,_u.s.epa,_corvallis,_or:54_p\", \"150.1\", \"young_adult\", \"dupont_haskell_laboratory\", \"709988\", \"not_reported\", \"mortality\", \"day(s\", \"active_ingredient\", \"technical_grade,_technical_product,_technical_formulation\", \"mammal\", \"kg_bdwt\", \"unmeasured\", \"gavage\", \"not_coded\", \"formulation\", \"no_substrate\", \"adult\", \"mus_musculus\", \"rattus_rattus\", \"environmental_fate_and_effects_division,_u.s.epa,_washington,_d.c.\", \"arsenic_acid__(h3aso4\", \"u.s._environmental_protection_agency\", \"7778394\", \"pesticide_ecotoxicity_database_(formerly:__environmental_effects_database_(eedb\", \"black_rat\", \"121755\", \"dimethoxyphosphinothioyl)thio]butanedioic_acid,_diethyl_ester\", \"38431\", \"phosphorothioic_acid_o\", \"n.,_and_b.v._ramachandran\", \"biochem._pharmacol.27(16):_2049\", \"iii:_in_vivo_effect_of_parathion_and_related_pnp\", \"ramakrishna\", \"920001976:56_p\", \"o-(1,2,2,2-tetrachloroethyl)_ester\", \"54593838\", \"malathion_a_and_b_esterases_of_mouse_liver\", \"containing_insecticides_on_esterase_inhibition_and_potentiation_of_malathion_toxicity\", \"shell_oil_co\", \"initial_submission:__acute_oral_toxicity_of_sd-208304_technical_in_the_mouse_(final_report)_with_attachments_and_cover_letter_dated_040292\", \"diethyl\", \"161078\", \"comparative_cholinergic_neurotoxicity_of_oral_chlorpyrifos_exposures_in_preweanling_and_adult_rats\", \"2921882\", \"zheng\", \"diethyl_o-(3,5,6-trichloro-2-pyridinyl)_ester\", \"q.,_k._olivier,_y.k._won,_and_c.n._pope\", \"101287\", \"toxicol._sci.55(1):_124\", \"gammon\", \"2-[2-(4-chlorophenyl)-2-phenylacetyl]-1h\", \"3691358\", \"109199\", \"1r,3r)-3-(2,2-dichloroethenyl)-2,2-dimethylcyclopropanecarboxylic_acid_(3-phenoxyphenyl)methyl_ester\", \"not_reported\", \"mortality\", \"day(s\", \"mammal\", \"unmeasured\", \"active_ingredient\", \"no_substrate\", \"house_mouse\", \"gavage\", \"technical_grade,_technical_product,_technical_formulation\", \"juvenile\", \"mus_musculus\", \"norway_rat\", \"mammals;_standard_test_species\", \"rattus_norvegicus\", \"gupta\", \"adult\", \"formulation\", \"kg_bdwt\", \"week(s\", \"not_coded\", \"intraperitoneal\", \"173998\", \"am._j._vet._res.31(1):_181\", \"measure\", \"4-(trifluoromethyl)benzenemethanol\", \"37008\", \"349951\", \"1ar,2r,2as,3s,6r,6ar,7s,7as)-rel-3,4,5,6,9,9-hexachloro-1a,2,2a,3,6,6a,7,7a\", \"fluoride19(3):_117\", \"121755\", \"dimethoxyphosphinothioyl)thio]butanedioic_acid,_diethyl_ester\", \"38431\", \"n.,_and_b.v._ramachandran\", \"iii:_in_vivo_effect_of_parathion_and_related_pnp\", \"biochem._pharmacol.27(16):_2049\", \"ramakrishna\", \"phosphorothioic_acid_o\", \"malathion_a_and_b_esterases_of_mouse_liver\", \"containing_insecticides_on_esterase_inhibition_and_potentiation_of_malathion_toxicity\", \"920001976:56_p\", \"o-(1,2,2,2-tetrachloroethyl)_ester\", \"54593838\", \"shell_oil_co\", \"initial_submission:__acute_oral_toxicity_of_sd-208304_technical_in_the_mouse_(final_report)_with_attachments_and_cover_letter_dated_040292\", \"diethyl\", \"161078\", \"ots_doc.#88\", \"week(s\", \"intraperitoneal\", \"house_mouse\", \"mus_musculus\", \"black_rat\", \"pesticide_ecotoxicity_database_(formerly:__environmental_effects_database_(eedb\", \"7778394\", \"u.s._environmental_protection_agency\", \"arsenic_acid__(h3aso4\", \"environmental_fate_and_effects_division,_u.s.epa,_washington,_d.c.\", \"rattus_rattus\", \"active_ingredient\", \"no_substrate\", \"technical_grade,_technical_product,_technical_formulation\", \"unmeasured\", \"mammal\", \"mortality\", \"not_reported\", \"gavage\", \"day(s\"], \"Total\": [5.0, 40.0, 15.0, 75.0, 11.0, 7.0, 7.0, 9.0, 14.0, 24.0, 4.0, 6.0, 1.0, 1.0, 10.0, 3.0, 3.0, 3.0, 3.0, 3.0, 3.0, 3.0, 3.0, 1.0, 8.0, 2.0, 2.0, 2.0, 2.0, 2.0, 2.124495267868042, 2.1245012283325195, 2.1245033740997314, 2.1245033740997314, 2.1245086193084717, 1.3247590065002441, 1.3247592449188232, 1.3247592449188232, 1.3247593641281128, 1.3247594833374023, 1.3247594833374023, 1.3247591257095337, 1.3247590065002441, 1.3247590065002441, 1.3247588872909546, 1.3247580528259277, 1.3247582912445068, 1.3247582912445068, 1.3247581720352173, 1.3247580528259277, 1.3247579336166382, 1.3247575759887695, 1.3247579336166382, 1.324625015258789, 1.3247809410095215, 1.3246454000473022, 1.324781894683838, 1.3246285915374756, 1.3246532678604126, 1.324653148651123, 11.365829467773438, 8.704992294311523, 7.276478290557861, 7.276536464691162, 14.702392578125, 10.082109451293945, 40.556488037109375, 4.614983558654785, 75.98857879638672, 15.936813354492188, 24.254581451416016, 6.305954456329346, 9.904312133789062, 6.03779935836792, 1.8561596870422363, 0.8673869967460632, 0.8673986196517944, 0.8674055933952332, 0.8674119710922241, 0.867413341999054, 0.867417573928833, 0.8674222826957703, 5.452341079711914, 1.0563244819641113, 1.056335210800171, 1.0563360452651978, 1.056347370147705, 1.056348443031311, 1.0563619136810303, 1.0563619136810303, 1.0563673973083496, 1.0563795566558838, 1.0563850402832031, 1.0563936233520508, 1.0563979148864746, 1.056397795677185, 1.056451439857483, 1.056454062461853, 1.0564773082733154, 1.056500792503357, 1.3245726823806763, 1.3246046304702759, 1.3246045112609863, 1.324625015258789, 1.3246285915374756, 15.936813354492188, 40.556488037109375, 24.254581451416016, 1.3246532678604126, 1.3247575759887695, 1.3247579336166382, 75.98857879638672, 14.702392578125, 11.365829467773438, 9.904312133789062, 6.03779935836792, 2.1701128482818604, 10.082109451293945, 7.276478290557861, 5.551854610443115, 5.551720142364502, 5.551852703094482, 7.276536464691162, 8.704992294311523, 6.305954456329346, 4.614983558654785, 2.1702373027801514, 1.9012688398361206, 1.9015766382217407, 1.370583415031433, 4.75266695022583, 3.0616307258605957, 3.0616300106048584, 3.0616300106048584, 3.0616302490234375, 3.0616304874420166, 3.0616297721862793, 3.0616295337677, 3.061628818511963, 2.2161121368408203, 2.216111660003662, 2.216111421585083, 2.216111660003662, 2.216111183166504, 2.216110944747925, 2.215857982635498, 5.551854610443115, 5.551852703094482, 5.551720142364502, 1.3705873489379883, 1.3705871105194092, 1.3705867528915405, 1.3705867528915405, 1.37058687210083, 1.3705872297286987, 1.37058687210083, 1.3705873489379883, 1.37058687210083, 1.37058687210083, 1.37058687210083, 75.98857879638672, 40.556488037109375, 24.254581451416016, 9.904312133789062, 6.03779935836792, 15.936813354492188, 6.305954456329346, 14.702392578125, 10.082109451293945, 5.452341079711914, 8.704992294311523, 11.365829467773438, 4.614983558654785, 7.276536464691162, 0.8673869967460632, 0.8673986196517944, 0.8674055933952332, 0.8674119710922241, 0.867413341999054, 0.867417573928833, 0.8674222826957703, 1.0563244819641113, 1.056335210800171, 1.0563360452651978, 1.056347370147705, 1.056348443031311, 1.0563619136810303, 1.0563619136810303, 1.0563673973083496, 1.0563795566558838, 1.0563850402832031, 1.0563936233520508, 1.056397795677185, 1.0563979148864746, 1.056451439857483, 1.056454062461853, 1.0564773082733154, 1.056500792503357, 1.3245726823806763, 1.3246045112609863, 1.3246046304702759, 1.324625015258789, 1.3246285915374756, 1.3246454000473022, 1.324653148651123, 1.3247575759887695, 1.3247967958450317, 1.3248013257980347, 1.3247579336166382, 1.3247579336166382, 75.98857879638672, 40.556488037109375, 24.254581451416016, 15.936813354492188, 14.702392578125, 9.904312133789062, 11.365829467773438, 7.276478290557861, 10.082109451293945, 6.03779935836792, 2.1701128482818604, 7.276536464691162, 5.551720142364502, 5.551852703094482, 5.551854610443115, 2.1702373027801514, 4.614983558654785, 8.704992294311523, 6.305954456329346, 1.9012688398361206, 5.452341079711914, 1.9015766382217407, 1.3703583478927612, 1.370583415031433, 1.370583415031433, 1.3704601526260376, 1.3705835342407227, 1.370457649230957, 1.370583415031433, 1.3704057931900024, 1.0563244819641113, 1.056335210800171, 1.0563360452651978, 1.056348443031311, 1.0563619136810303, 1.0563619136810303, 1.0563673973083496, 1.056347370147705, 1.056397795677185, 1.0563979148864746, 1.0563795566558838, 1.0563850402832031, 1.0563936233520508, 1.056451439857483, 1.056454062461853, 1.0564773082733154, 1.056500792503357, 1.8561596870422363, 1.9012688398361206, 1.9015766382217407, 7.276478290557861, 7.276536464691162, 0.8674222826957703, 0.867417573928833, 0.867413341999054, 0.8674119710922241, 0.8674055933952332, 0.8673986196517944, 0.8673869967460632, 9.904312133789062, 11.365829467773438, 6.03779935836792, 14.702392578125, 15.936813354492188, 40.556488037109375, 75.98857879638672, 10.082109451293945, 24.254581451416016], \"loglift\": [30.0, 29.0, 28.0, 27.0, 26.0, 25.0, 24.0, 23.0, 22.0, 21.0, 20.0, 19.0, 18.0, 17.0, 16.0, 15.0, 14.0, 13.0, 12.0, 11.0, 10.0, 9.0, 8.0, 7.0, 6.0, 5.0, 4.0, 3.0, 2.0, 1.0, 0.8716999888420105, 0.8715999722480774, 0.8715999722480774, 0.8715999722480774, 0.8715000152587891, 0.7384999990463257, 0.7384999990463257, 0.7384999990463257, 0.7384999990463257, 0.7384999990463257, 0.7384999990463257, 0.7384999990463257, 0.7384999990463257, 0.7383999824523926, 0.7383999824523926, 0.7383999824523926, 0.7383999824523926, 0.7383999824523926, 0.7383999824523926, 0.7383999824523926, 0.7383999824523926, 0.7383999824523926, 0.7383999824523926, 0.7379999756813049, 0.7379999756813049, 0.7379999756813049, 0.7379999756813049, 0.7379999756813049, 0.7379999756813049, 0.7379999756813049, 0.5109000205993652, 0.49799999594688416, 0.5016000270843506, 0.5013999938964844, 0.3684000074863434, 0.35100001096725464, 0.03550000116229057, 0.4708000123500824, -0.15440000593662262, 0.1728000044822693, 0.06430000066757202, 0.15880000591278076, -0.29319998621940613, -0.17229999601840973, 0.4018000066280365, 2.5153000354766846, 2.515199899673462, 2.515199899673462, 2.5151000022888184, 2.5151000022888184, 2.5151000022888184, 2.5151000022888184, 2.4700000286102295, 0.5267000198364258, 0.5267000198364258, 0.5267000198364258, 0.5267000198364258, 0.5267000198364258, 0.5267000198364258, 0.5267000198364258, 0.5267000198364258, 0.5267000198364258, 0.5267000198364258, 0.5267000198364258, 0.5267000198364258, 0.5267000198364258, 0.5266000032424927, 0.5266000032424927, 0.5266000032424927, 0.5266000032424927, 0.3005000054836273, 0.3003999888896942, 0.3003999888896942, 0.3003999888896942, 0.3003999888896942, -0.39570000767707825, -0.7236999869346619, -0.8166000247001648, 0.3003999888896942, 0.3003000020980835, 0.3003000020980835, -3.7488999366760254, -2.1064000129699707, -1.8489999771118164, -1.711400032043457, -1.2164000272750854, -0.1932000070810318, -1.729200005531311, -1.4031000137329102, -1.1325000524520874, -1.1325000524520874, -1.1325000524520874, -1.4031000137329102, -1.5822999477386475, -1.2598999738693237, -0.947700023651123, -0.19329999387264252, -0.0608999989926815, -0.06109999865293503, 0.2662999927997589, 0.572700023651123, 0.5268999934196472, 0.5268999934196472, 0.5268999934196472, 0.5268999934196472, 0.5268999934196472, 0.5268999934196472, 0.5268999934196472, 0.5268999934196472, 0.47540000081062317, 0.47540000081062317, 0.47540000081062317, 0.47540000081062317, 0.47540000081062317, 0.47540000081062317, 0.4749999940395355, 0.4171999990940094, 0.4171000123023987, 0.4171000123023987, 0.349700003862381, 0.349700003862381, 0.349700003862381, 0.349700003862381, 0.349700003862381, 0.349700003862381, 0.349700003862381, 0.349700003862381, 0.349700003862381, 0.349700003862381, 0.349700003862381, 0.23330000042915344, 0.0835999995470047, 0.07940000295639038, 0.1639000028371811, 0.11999999731779099, -0.06650000065565109, 0.0763000026345253, -0.23119999468326569, -0.17890000343322754, -0.05350000038743019, -0.24609999358654022, -0.5131999850273132, -0.25780001282691956, -0.7135000228881836, 1.0515999794006348, 1.0515999794006348, 1.0515999794006348, 1.0515999794006348, 1.0515999794006348, 1.0515999794006348, 1.0515999794006348, 0.8544999957084656, 0.8544999957084656, 0.8544999957084656, 0.8544999957084656, 0.8544999957084656, 0.8544999957084656, 0.8544999957084656, 0.8544999957084656, 0.8544999957084656, 0.8544999957084656, 0.8544999957084656, 0.8544999957084656, 0.8544999957084656, 0.8543999791145325, 0.8543999791145325, 0.8543999791145325, 0.8543999791145325, 0.6283000111579895, 0.6281999945640564, 0.6281999945640564, 0.6281999945640564, 0.6281999945640564, 0.6281999945640564, 0.6281999945640564, 0.6280999779701233, 0.6280999779701233, 0.6280999779701233, 0.6280999779701233, 0.6280999779701233, -3.4210000038146973, -2.7932000160217285, -2.279099941253662, -1.8592000007629395, -1.7785999774932861, -1.3834999799728394, -1.5211999416351318, -1.0751999616622925, -1.4012999534606934, -0.8885999917984009, 0.13459999859333038, -1.0751999616622925, -0.8047000169754028, -0.8047000169754028, -0.8047000169754028, 0.13459999859333038, -0.6198999881744385, -1.2545000314712524, -0.9320999979972839, 0.2669000029563904, -0.7867000102996826, 0.26669999957084656, 0.5942999720573425, 0.5940999984741211, 0.5940999984741211, 0.5942000150680542, 0.5940999984741211, 0.5942000150680542, 0.5940999984741211, 0.5942999720573425, 1.9567999839782715, 1.9567999839782715, 1.9567999839782715, 1.9566999673843384, 1.9566999673843384, 1.9566999673843384, 1.9566999673843384, 1.9566999673843384, 1.9565999507904053, 1.9565999507904053, 1.9565000534057617, 1.9565000534057617, 1.9565000534057617, 1.9562000036239624, 1.9562000036239624, 1.9560999870300293, 1.9559999704360962, 1.3925000429153442, 1.370300054550171, 1.3695000410079956, 0.6334999799728394, 0.633400022983551, 0.36500000953674316, 0.36480000615119934, 0.36469998955726624, 0.36469998955726624, 0.3644999861717224, 0.3643999993801117, 0.36410000920295715, 0.32600000500679016, 0.18860000371932983, 0.21320000290870667, -0.06920000165700912, -0.15080000460147858, -0.43700000643730164, -0.6765000224113464, -0.29980000853538513, -0.5699999928474426], \"logprob\": [30.0, 29.0, 28.0, 27.0, 26.0, 25.0, 24.0, 23.0, 22.0, 21.0, 20.0, 19.0, 18.0, 17.0, 16.0, 15.0, 14.0, 13.0, 12.0, 11.0, 10.0, 9.0, 8.0, 7.0, 6.0, 5.0, 4.0, 3.0, 2.0, 1.0, -4.730899810791016, -4.730999946594238, -4.730999946594238, -4.730999946594238, -4.730999946594238, -5.336400032043457, -5.336400032043457, -5.336400032043457, -5.336400032043457, -5.336400032043457, -5.336400032043457, -5.336400032043457, -5.336400032043457, -5.336400032043457, -5.336400032043457, -5.336400032043457, -5.336400032043457, -5.336400032043457, -5.336400032043457, -5.336400032043457, -5.336400032043457, -5.336400032043457, -5.336400032043457, -5.336999893188477, -5.3368000984191895, -5.336999893188477, -5.336900234222412, -5.336999893188477, -5.336999893188477, -5.336999893188477, -3.414599895477295, -3.694200038909912, -3.8698999881744385, -3.869999885559082, -3.2997000217437744, -3.6942999362945557, -2.6178998947143555, -4.355899810791016, -2.1798999309539795, -3.4147000312805176, -3.1031999588012695, -4.355800151824951, -4.356299877166748, -4.730299949645996, -5.3358001708984375, -3.983099937438965, -3.9832000732421875, -3.9832000732421875, -3.9832000732421875, -3.9832000732421875, -3.9832000732421875, -3.983299970626831, -2.1900999546051025, -5.774600028991699, -5.774600028991699, -5.774600028991699, -5.774600028991699, -5.774600028991699, -5.774600028991699, -5.774600028991699, -5.774600028991699, -5.774600028991699, -5.774600028991699, -5.774600028991699, -5.774600028991699, -5.774600028991699, -5.774600028991699, -5.774600028991699, -5.774600028991699, -5.774600028991699, -5.774600028991699, -5.774600028991699, -5.774600028991699, -5.774600028991699, -5.774600028991699, -3.9832000732421875, -3.37719988822937, -3.984100103378296, -5.774600028991699, -5.774600028991699, -5.774600028991699, -5.774400234222412, -5.774499893188477, -5.774499893188477, -5.774499893188477, -5.774499893188477, -5.774499893188477, -5.774499893188477, -5.774499893188477, -5.774499893188477, -5.774499893188477, -5.774499893188477, -5.774499893188477, -5.774499893188477, -5.774499893188477, -5.774499893188477, -5.774499893188477, -5.774499893188477, -5.774499893188477, -5.774499893188477, -4.224699974060059, -4.710299968719482, -4.710299968719482, -4.710299968719482, -4.710299968719482, -4.710299968719482, -4.710299968719482, -4.710299968719482, -4.710299968719482, -5.085000038146973, -5.085000038146973, -5.085000038146973, -5.085000038146973, -5.085000038146973, -5.085000038146973, -5.0854997634887695, -4.224800109863281, -4.224800109863281, -4.224899768829346, -5.691100120544434, -5.691100120544434, -5.691100120544434, -5.691100120544434, -5.691100120544434, -5.691100120544434, -5.691100120544434, -5.691100120544434, -5.691100120544434, -5.691100120544434, -5.691100120544434, -1.792199969291687, -2.5697999000549316, -3.088099956512451, -3.899199962615967, -4.438000202178955, -3.6540000438690186, -4.438300132751465, -3.8993000984191895, -4.224299907684326, -4.713600158691406, -4.438300132751465, -4.438700199127197, -5.08459997177124, -5.085000038146973, -5.446800231933594, -5.446800231933594, -5.446800231933594, -5.446800231933594, -5.446800231933594, -5.446800231933594, -5.446800231933594, -5.446800231933594, -5.446800231933594, -5.446800231933594, -5.446800231933594, -5.446800231933594, -5.446800231933594, -5.446800231933594, -5.446800231933594, -5.446800231933594, -5.446800231933594, -5.446800231933594, -5.446800231933594, -5.446800231933594, -5.446800231933594, -5.446800231933594, -5.446800231933594, -5.446800231933594, -5.446700096130371, -5.446700096130371, -5.446700096130371, -5.446800231933594, -5.446800231933594, -5.446700096130371, -5.446700096130371, -5.446700096130371, -5.446700096130371, -5.446700096130371, -5.446700096130371, -5.446700096130371, -5.446599960327148, -5.446599960327148, -5.446599960327148, -5.446599960327148, -5.446700096130371, -5.446700096130371, -5.446700096130371, -5.446700096130371, -5.446700096130371, -5.446700096130371, -5.446700096130371, -5.446700096130371, -5.446700096130371, -5.446700096130371, -5.446700096130371, -5.446700096130371, -5.446700096130371, -5.446700096130371, -5.446700096130371, -5.446700096130371, -5.446700096130371, -5.446700096130371, -5.446700096130371, -5.446700096130371, -5.446700096130371, -5.446700096130371, -5.446700096130371, -5.446700096130371, -5.446700096130371, -5.446700096130371, -4.3445000648498535, -4.3445000648498535, -4.3445000648498535, -4.344600200653076, -4.344600200653076, -4.344600200653076, -4.344600200653076, -4.344600200653076, -4.344699859619141, -4.344699859619141, -4.344699859619141, -4.344799995422363, -4.344799995422363, -4.34499979019165, -4.34499979019165, -4.34499979019165, -4.345099925994873, -4.345099925994873, -4.343200206756592, -4.343999862670898, -3.73799991607666, -3.73799991607666, -6.133399963378906, -6.133500099182129, -6.133600234985352, -6.133600234985352, -6.133800029754639, -6.133999824523926, -6.134300231933594, -3.7370998859405518, -3.7369000911712646, -4.344900131225586, -3.737299919128418, -3.738300085067749, -3.090399980545044, -2.7019999027252197, -4.345099925994873, -3.737499952316284]}, \"token.table\": {\"Topic\": [3, 3, 1, 1, 1, 5, 3, 1, 3, 5, 3, 3, 1, 1, 1, 3, 3, 3, 1, 3, 3, 5, 3, 5, 1, 3, 1, 3, 5, 1, 3, 5, 3, 1, 3, 3, 3, 3, 5, 1, 1, 1, 1, 5, 1, 1, 3, 5, 3, 3, 1, 5, 1, 5, 3, 3, 3, 3, 1, 3, 1, 1, 1, 3, 5, 1, 3, 3, 1, 3, 5, 5, 1, 1, 5, 1, 1, 3, 5, 1, 1, 1, 3, 1, 3, 3, 5, 1, 3, 5, 1, 3, 3, 1, 3, 1, 2, 3, 5, 1, 3, 5, 5, 1, 3, 5, 1, 3, 2, 3, 1, 3, 5, 5, 3, 3, 1, 5, 3, 1, 3, 3, 1, 5, 1, 1, 5, 1, 3, 1, 3, 5, 3, 1, 3, 5, 1, 1, 1, 3, 5, 3, 5, 1, 3, 1], \"Freq\": [0.9798702001571655, 0.7296144366264343, 0.7548540234565735, 0.7549189925193787, 0.7548548579216003, 0.9466788172721863, 0.7296141982078552, 0.7548540234565735, 0.7296141982078552, 0.9465208053588867, 0.7297361493110657, 0.7296162843704224, 0.7548548579216003, 0.7548327445983887, 0.7549422979354858, 0.7296832799911499, 0.9024816155433655, 0.9798699617385864, 0.7548301815986633, 0.7296162247657776, 0.7296144366264343, 0.9466684460639954, 0.7296819090843201, 0.9466168284416199, 0.754854679107666, 0.7296142578125, 0.9413941502571106, 0.7296144366264343, 0.9466294646263123, 0.3028983771800995, 0.605796754360199, 0.10096612572669983, 0.9798701405525208, 0.6500564813613892, 0.433370977640152, 0.7296162843704224, 0.9798703193664551, 0.9024816155433655, 0.9466452598571777, 0.7548542618751526, 0.9414000511169434, 0.7548543214797974, 0.7549604773521423, 0.9466130137443542, 0.7548547983169556, 0.3710639178752899, 0.577210545539856, 0.04122932255268097, 0.9798702001571655, 0.7296162843704224, 0.7548540830612183, 0.9465418457984924, 0.7549306154251099, 0.9466692209243774, 0.7296144366264343, 0.9798700213432312, 0.9024814367294312, 0.7297108769416809, 0.574383020401001, 0.45950645208358765, 0.754854142665863, 0.7548550963401794, 0.49592795968055725, 0.3967423737049103, 0.09918559342622757, 0.4607791006565094, 0.4607791006565094, 0.9024819135665894, 0.5497164726257324, 0.2748582363128662, 0.1374291181564331, 0.9466452598571777, 0.754854142665863, 0.9413964748382568, 0.9465627074241638, 0.7548418045043945, 0.7548547387123108, 0.5258793830871582, 0.5258793830871582, 0.9413974285125732, 0.7548542022705078, 0.4608055353164673, 0.4608055353164673, 0.47574082016944885, 0.6343210935592651, 0.9024817943572998, 0.9466131329536438, 0.4392346143722534, 0.5019823908805847, 0.06274779886007309, 0.180120050907135, 0.72048020362854, 0.7296162843704224, 0.7548412084579468, 0.9025849103927612, 0.36985450983047485, 0.02465696819126606, 0.5671102404594421, 0.04931393638253212, 0.549712061882019, 0.2748560309410095, 0.13742801547050476, 0.9466573596000671, 0.6158811450004578, 0.3519320785999298, 0.08798301964998245, 0.18012435734272003, 0.7204974293708801, 0.36681491136550903, 0.5502223372459412, 0.30267706513404846, 0.6579936146736145, 0.03947961702942848, 0.9466245174407959, 0.7296144962310791, 0.8416327238082886, 0.5387467741966248, 0.5387467741966248, 0.7296144962310791, 0.9413964748382568, 0.9798705577850342, 0.7296143174171448, 0.7549145221710205, 0.9466583132743835, 0.754854679107666, 0.7549285888671875, 0.9466403722763062, 0.18011999130249023, 0.7204799652099609, 0.7548542618751526, 0.9798702597618103, 0.9465650320053101, 0.9024816751480103, 0.3312465250492096, 0.6624930500984192, 0.1656232625246048, 0.7548547983169556, 0.7549145817756653, 0.4761129915714264, 0.4080968499183655, 0.06801614165306091, 0.5259645581245422, 0.5259645581245422, 0.7548542618751526, 0.7296144366264343, 0.7549422383308411], \"Term\": [\",_and_w.a.,jr._bowles\", \"082,_u.s.epa,_corvallis,_or:54_p\", \"101241\", \"101287\", \"109199\", \"121755\", \"128.7\", \"14769734\", \"150.1\", \"161078\", \"173998\", \"1ar,2r,2as,3s,6r,6ar,7s,7as)-rel-3,4,5,6,9,9-hexachloro-1a,2,2a,3,6,6a,7,7a\", \"1r,3r)-3-(2,2-dichloroethenyl)-2,2-dimethylcyclopropanecarboxylic_acid_(3-phenoxyphenyl)methyl_ester\", \"2-[2-(4-chlorophenyl)-2-phenylacetyl]-1h\", \"2921882\", \"349951\", \"35203\", \"35426\", \"3691358\", \"37008\", \"3825261\", \"38431\", \"4-(trifluoromethyl)benzenemethanol\", \"54593838\", \"54774457\", \"62737\", \"69367\", \"709988\", \"920001976:56_p\", \"active_ingredient\", \"active_ingredient\", \"active_ingredient\", \"acute_oral_toxicity_and_repellency_of_933_chemicals_to_house_and_deer_mice\", \"adult\", \"adult\", \"am._j._vet._res.31(1):_181\", \"arch._environ._contam._toxicol.14(1):_111\", \"arch._toxicol.34:103\", \"biochem._pharmacol.27(16):_2049\", \"brody\", \"byers\", \"comparative_activity_of_29_known_anthelmintics_under_standarized_drug\", \"comparative_cholinergic_neurotoxicity_of_oral_chlorpyrifos_exposures_in_preweanling_and_adult_rats\", \"containing_insecticides_on_esterase_inhibition_and_potentiation_of_malathion_toxicity\", \"d.w.,_l.j._lawrence,_and_j.e._casida\", \"day(s\", \"day(s\", \"day(s\", \"deer_mouse\", \"dieldrin_toxicosis:_rat_reproduction\", \"diet_and_gavage_medication_regimens_against_four_helminth_species_in_mice\", \"diethyl\", \"diethyl_o-(3,5,6-trichloro-2-pyridinyl)_ester\", \"dimethoxyphosphinothioyl)thio]butanedioic_acid,_diethyl_ester\", \"dupont_haskell_laboratory\", \"e.w.,jr\", \"estimation_of_the_ld1_and_extrapolation_of_the_ld0.1_for_five_organophosphate_pesticides\", \"fluoride19(3):_117\", \"formulation\", \"formulation\", \"g.,_and_t.e._elward\", \"gammon\", \"gavage\", \"gavage\", \"gavage\", \"gupta\", \"gupta\", \"haley\", \"house_mouse\", \"house_mouse\", \"house_mouse\", \"iii:_in_vivo_effect_of_parathion_and_related_pnp\", \"imidazo[2,1-b]thiazole\", \"indene-1,3(2h)-dione\", \"initial_submission:__acute_oral_toxicity_of_sd-208304_technical_in_the_mouse_(final_report)_with_attachments_and_cover_letter_dated_040292\", \"initial_submission:__letter_from_eli_lilly_&_company_to_usepa_submitting_results_on_compound_#126714_acute_cat_nasogastric_study_with_attachments\", \"intracranial\", \"intraperitoneal\", \"intraperitoneal\", \"j._am._soc._hortic._sci.103(1):_65\", \"j._parasitol.57(5):_1068\", \"juvenile\", \"juvenile\", \"kg_bdwt\", \"kg_bdwt\", \"kg_org\", \"malathion_a_and_b_esterases_of_mouse_liver\", \"mammal\", \"mammal\", \"mammal\", \"mammals;_standard_test_species\", \"mammals;_standard_test_species\", \"measure\", \"methyl-2,4-dinitro\", \"month(s\", \"mortality\", \"mortality\", \"mortality\", \"mortality\", \"mus_musculus\", \"mus_musculus\", \"mus_musculus\", \"n.,_and_b.v._ramachandran\", \"no_substrate\", \"no_substrate\", \"no_substrate\", \"norway_rat\", \"norway_rat\", \"not_coded\", \"not_coded\", \"not_reported\", \"not_reported\", \"not_reported\", \"o-(1,2,2,2-tetrachloroethyl)_ester\", \"odocoileus_hemionus\", \"oral_via_capsule\", \"ots_doc.#88\", \"ots_doc.#88\", \"ots_doc_#fyi\", \"performance_of_rodenticides_for_the_control_of_pine_voles_in_orchards\", \"peromyscus_maniculatus\", \"phosphoric_acid_2,2-dichloroethenyl_dimethyl_ester\", \"phosphorothioic_acid,_o\", \"phosphorothioic_acid_o\", \"pyrethroid_toxicology:__protective_effects_of_diazepam_and_phenobarbital_in_the_mouse_and_the_cockroach\", \"q.,_k._olivier,_y.k._won,_and_c.n._pope\", \"ramakrishna\", \"rattus_norvegicus\", \"rattus_norvegicus\", \"s)-2,3,5,6-tetrahydro-6-phenyl\", \"schafer\", \"shell_oil_co\", \"t.j.,_j.h._farmer,_j.r._harmon,_and_k.l._dooley\", \"technical_grade,_technical_product,_technical_formulation\", \"technical_grade,_technical_product,_technical_formulation\", \"technical_grade,_technical_product,_technical_formulation\", \"toxicol._appl._pharmacol.66(2):_290\", \"toxicol._sci.55(1):_124\", \"unmeasured\", \"unmeasured\", \"unmeasured\", \"week(s\", \"week(s\", \"young\", \"young_adult\", \"zheng\"]}, \"R\": 30, \"lambda.step\": 0.01, \"plot.opts\": {\"xlab\": \"PC1\", \"ylab\": \"PC2\"}, \"topic.order\": [1, 2, 3, 4, 5]};\n",
       "\n",
       "function LDAvis_load_lib(url, callback){\n",
       "  var s = document.createElement('script');\n",
       "  s.src = url;\n",
       "  s.async = true;\n",
       "  s.onreadystatechange = s.onload = callback;\n",
       "  s.onerror = function(){console.warn(\"failed to load library \" + url);};\n",
       "  document.getElementsByTagName(\"head\")[0].appendChild(s);\n",
       "}\n",
       "\n",
       "if(typeof(LDAvis) !== \"undefined\"){\n",
       "   // already loaded: just create the visualization\n",
       "   !function(LDAvis){\n",
       "       new LDAvis(\"#\" + \"ldavis_el276949743264324878375456\", ldavis_el276949743264324878375456_data);\n",
       "   }(LDAvis);\n",
       "}else if(typeof define === \"function\" && define.amd){\n",
       "   // require.js is available: use it to load d3/LDAvis\n",
       "   require.config({paths: {d3: \"https://cdnjs.cloudflare.com/ajax/libs/d3/3.5.5/d3.min\"}});\n",
       "   require([\"d3\"], function(d3){\n",
       "      window.d3 = d3;\n",
       "      LDAvis_load_lib(\"https://cdn.rawgit.com/bmabey/pyLDAvis/files/ldavis.v1.0.0.js\", function(){\n",
       "        new LDAvis(\"#\" + \"ldavis_el276949743264324878375456\", ldavis_el276949743264324878375456_data);\n",
       "      });\n",
       "    });\n",
       "}else{\n",
       "    // require.js not available: dynamically load d3 & LDAvis\n",
       "    LDAvis_load_lib(\"https://cdnjs.cloudflare.com/ajax/libs/d3/3.5.5/d3.min.js\", function(){\n",
       "         LDAvis_load_lib(\"https://cdn.rawgit.com/bmabey/pyLDAvis/files/ldavis.v1.0.0.js\", function(){\n",
       "                 new LDAvis(\"#\" + \"ldavis_el276949743264324878375456\", ldavis_el276949743264324878375456_data);\n",
       "            })\n",
       "         });\n",
       "}\n",
       "</script>"
      ],
      "text/plain": [
       "<IPython.core.display.HTML object>"
      ]
     },
     "execution_count": 8,
     "metadata": {},
     "output_type": "execute_result"
    }
   ],
   "source": [
    "dictionary = gensim.corpora.Dictionary.load('dictionary.gensim')\n",
    "corpus = pickle.load(open('corpus.pkl', 'rb'))\n",
    "lda = gensim.models.ldamodel.LdaModel.load('model5.gensim')\n",
    "\n",
    "import pyLDAvis.gensim\n",
    "\n",
    "lda_display = pyLDAvis.gensim.prepare(lda, corpus, dictionary, sort_topics=False)\n",
    "pyLDAvis.display(lda_display)"
   ]
  }
 ],
 "metadata": {
  "kernelspec": {
   "display_name": "Python 3",
   "language": "python",
   "name": "python3"
  },
  "language_info": {
   "codemirror_mode": {
    "name": "ipython",
    "version": 3
   },
   "file_extension": ".py",
   "mimetype": "text/x-python",
   "name": "python",
   "nbconvert_exporter": "python",
   "pygments_lexer": "ipython3",
   "version": "3.7.3"
  }
 },
 "nbformat": 4,
 "nbformat_minor": 2
}
