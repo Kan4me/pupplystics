{
 "cells": [
  {
   "cell_type": "markdown",
   "metadata": {},
   "source": [
    "# Ecotox Data Documentation"
   ]
  },
  {
   "cell_type": "markdown",
   "metadata": {},
   "source": [
    "Essa é uma documentação inicial sobre a base de dados Ecotox.\n",
    "\n",
    "Com sua manipulação, é esperado entender mais sobre:\n",
    "\n",
    "- Quais combinações usadas em testes causam malefícios a determinadas famílias (ou outro ranking taxonomico)\n",
    "- Prever os efeitos com base nos materias e procedimentos\n",
    "\n",
    "O objetivo deste estudo é evitar ou minimizar a necessidade de teste em animais."
   ]
  },
  {
   "cell_type": "markdown",
   "metadata": {},
   "source": [
    "Fonte dos dados:\n",
    "\n",
    "https://cfpub.epa.gov/ecotox/\n",
    "\n",
    "\n",
    "ECOTOX Support\n",
    "\n",
    "U.S. Environmental Protection Agency\n",
    "\n",
    "Office of Research and Development\n",
    "\n",
    "National Health and Environmental Effects Research Laboratory Mid-Continent Ecology Division (MED)\n",
    "\n",
    "6201 Congdon Boulevard\n",
    "\n",
    "Duluth, Minnesota 55804\n",
    "\n",
    "Telephone: 218-529-5225\n",
    "\n",
    "Fax: 218-529-5003\n",
    "\n",
    "E-mail: ecotox.support@epa.gov"
   ]
  },
  {
   "cell_type": "markdown",
   "metadata": {},
   "source": [
    "## Tabela de dados\n",
    "\n",
    "- TESTS\n",
    "\n",
    "o Information pertaining to the experimental design.\n",
    "\n",
    "- CHEMICAL_CARRIERS\n",
    "\n",
    "o Information pertaining to the carrier and/or positive control chemicals\n",
    "reported for the test. \n",
    "\n",
    "- RESULTS\n",
    "\n",
    "o Information pertaining to the endpoint or non-endpoint result or dose- response summary (also NR endpoint).\n",
    "\n",
    "- MEDIA_CHARACTERISTICS\n",
    "\n",
    "o Water chemistry and media characteristics parameters. 1-1 relation with\n",
    "RESULTS table. \n",
    "\n",
    "- DOSES\n",
    "\n",
    "o Information pertaining to the dose-response dose. \n",
    "\n",
    "- DOSE_RESPONSES\n",
    "\n",
    "o Parent dose response record containing sample size, effect measurement, response site, observation duration, etc.\n",
    "\n",
    "- DOSE_RESPONSE_DETAILS\n",
    "\n",
    "o Detail dose response record, one for each response value by dose.\n",
    "\n",
    "- DOSE_RESPONSE_LINKS\n",
    "\n",
    "o Ties dose response to its NR endpoint result summary record.\n"
   ]
  },
  {
   "cell_type": "code",
   "execution_count": null,
   "metadata": {},
   "outputs": [],
   "source": [
    "import pandas as pd\n",
    "import numpy as np"
   ]
  },
  {
   "cell_type": "markdown",
   "metadata": {},
   "source": [
    "A tabela ```doses``` é ligada à de testes pelo ```test_id```"
   ]
  },
  {
   "cell_type": "code",
   "execution_count": null,
   "metadata": {},
   "outputs": [],
   "source": [
    "df_dose = pd.read_csv(\"ecotox_ascii_12_13_2018/doses.txt\",sep=\"|\", dtype='unicode')\n",
    "df_dose.loc[:5, ['test_id', 'dose_id', 'dose_conc_unit', 'dose1_mean', 'dose2_mean', 'dose3_mean']]"
   ]
  },
  {
   "cell_type": "markdown",
   "metadata": {},
   "source": [
    "A tabela de ```dose_respose``` apresenta os efeitos dos testes e os códigos são explicados por ```effect_codes```"
   ]
  },
  {
   "cell_type": "code",
   "execution_count": null,
   "metadata": {
    "scrolled": true
   },
   "outputs": [],
   "source": [
    "df_dose_responses = pd.read_csv(\"ecotox_ascii_12_13_2018/dose_responses.txt\",sep=\"|\",dtype='unicode')\n",
    "df_dose_responses.loc[:5, ['test_id', 'effect_code']]"
   ]
  },
  {
   "cell_type": "code",
   "execution_count": null,
   "metadata": {},
   "outputs": [],
   "source": [
    "df_effect_codes = pd.read_csv(\"ecotox_ascii_12_13_2018/validation/effect_codes.txt\",sep=\"|\",dtype='unicode')\n",
    "df_effect_codes.loc[:5]"
   ]
  },
  {
   "cell_type": "markdown",
   "metadata": {},
   "source": [
    "A tabela de ```results``` apresenta os efeitos dos testes de acordo com o ```test_id```, que é a chave principal da base de dados e é ligada a família dos animais por ```tests```"
   ]
  },
  {
   "cell_type": "code",
   "execution_count": null,
   "metadata": {},
   "outputs": [],
   "source": [
    "df_results = pd.read_csv(\"ecotox_ascii_12_13_2018/results.txt\",sep=\"|\", dtype='unicode')\n",
    "df_results.loc[:5, ['test_id', 'effect']]"
   ]
  },
  {
   "cell_type": "code",
   "execution_count": null,
   "metadata": {},
   "outputs": [],
   "source": [
    "df_tests = pd.read_csv(\"ecotox_ascii_12_13_2018/tests.txt\",sep=\"|\", dtype='unicode')\n",
    "df_tests.loc[:5, ['test_id', 'species_number']]"
   ]
  },
  {
   "cell_type": "markdown",
   "metadata": {},
   "source": [
    "Um exemplo de manipulação simples feita para gerar os dados de forma mais consistente e consica é dado abaixo:"
   ]
  },
  {
   "cell_type": "code",
   "execution_count": null,
   "metadata": {},
   "outputs": [],
   "source": [
    "df_ds = pd.read_csv(\"dataset_dose.csv\")\n",
    "df_ds.loc[:20]"
   ]
  },
  {
   "cell_type": "code",
   "execution_count": null,
   "metadata": {},
   "outputs": [],
   "source": []
  }
 ],
 "metadata": {
  "kernelspec": {
   "display_name": "Python 3",
   "language": "python",
   "name": "python3"
  },
  "language_info": {
   "codemirror_mode": {
    "name": "ipython",
    "version": 3
   },
   "file_extension": ".py",
   "mimetype": "text/x-python",
   "name": "python",
   "nbconvert_exporter": "python",
   "pygments_lexer": "ipython3",
   "version": "3.7.3"
  }
 },
 "nbformat": 4,
 "nbformat_minor": 2
}
