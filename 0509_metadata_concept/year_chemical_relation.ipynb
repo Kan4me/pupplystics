{
 "cells": [
  {
   "cell_type": "markdown",
   "metadata": {},
   "source": [
    "# Chemical-Year relation"
   ]
  },
  {
   "cell_type": "code",
   "execution_count": 1,
   "metadata": {},
   "outputs": [],
   "source": [
    "import pandas as pd\n",
    "import numpy as np\n",
    "from matplotlib import rc\n",
    "import numpy as np\n",
    "from matplotlib import pyplot as plt\n",
    "%matplotlib inline"
   ]
  },
  {
   "cell_type": "markdown",
   "metadata": {},
   "source": [
    "Read all files to use"
   ]
  },
  {
   "cell_type": "code",
   "execution_count": 5,
   "metadata": {},
   "outputs": [
    {
     "name": "stdout",
     "output_type": "stream",
     "text": [
      "(163246, 5)\n",
      "(15844, 2)\n",
      "(121581, 2)\n",
      "(441971, 5)\n",
      "(926108, 9)\n",
      "(25225, 7)\n",
      "(657735, 13)\n"
     ]
    }
   ],
   "source": [
    "df_chemical_carriers = pd.read_csv(\"../data/ecotox_ascii_12_13_2018/chemical_carriers.txt\",sep=\"|\", dtype='unicode')\n",
    "df_chemical_carriers = df_chemical_carriers[['carrier_id', 'test_id', 'cas_number', 'chem_name', 'formulation']]\n",
    "print(df_chemical_carriers.shape)\n",
    "df_chemical_carriers = df_chemical_carriers.drop_duplicates()\n",
    "df_chemical_carriers.shape\n",
    "\n",
    "df_chemical_formulation_codes = pd.read_csv(\"../data/ecotox_ascii_12_13_2018/validation/chemical_formulation_codes.txt\",sep=\"|\", dtype='unicode')\n",
    "df_chemical_grade_codes = pd.read_csv(\"../data/ecotox_ascii_12_13_2018/validation/chemical_grade_codes.txt\",sep=\"|\", dtype='unicode')\n",
    "df_effect_codes = pd.read_csv(\"../data/ecotox_ascii_12_13_2018/validation/effect_codes.txt\",sep=\"|\", dtype='unicode')\n",
    "\n",
    "df_chemicals = pd.read_csv(\"../data/ecotox_ascii_12_13_2018/validation/chemicals.txt\",sep=\"|\", dtype='unicode')\n",
    "df_chemicals = df_chemicals[['cas_number','chemical_name']]\n",
    "\n",
    "print(df_chemicals.shape)\n",
    "df_chemicals = df_chemicals.drop_duplicates()\n",
    "df_chemicals.shape\n",
    "\n",
    "df_dose_response_details = pd.read_csv(\"../data/ecotox_ascii_12_13_2018/dose_response_details.txt\",sep=\"|\", dtype='unicode')\n",
    "df_dose_response_details = df_dose_response_details[['dose_resp_detail_id','dose_id']]\n",
    "\n",
    "df_dose_response_details.iloc[:5]\n",
    "\n",
    "df_dose_response_links = pd.read_csv(\"../data/ecotox_ascii_12_13_2018/dose_response_links.txt\",sep=\"|\", dtype='unicode')\n",
    "df_dose_response_links = df_dose_response_links[['result_id', 'dose_resp_id']]\n",
    "\n",
    "print(df_dose_response_links.shape)\n",
    "df_dose_response_links = df_dose_response_links.drop_duplicates()\n",
    "df_dose_response_links.shape\n",
    "\n",
    "df_doses = pd.read_csv(\"../data/ecotox_ascii_12_13_2018/doses.txt\",sep=\"|\", dtype='unicode')\n",
    "df_doses = df_doses[['dose_id','test_id','dose1_mean','dose2_mean','dose3_mean']]\n",
    "\n",
    "print(df_doses.shape)\n",
    "df_doses = df_doses.drop_duplicates()\n",
    "df_doses.shape\n",
    "\n",
    "df_results = pd.read_csv(\"../data/ecotox_ascii_12_13_2018/results.txt\",sep=\"|\", dtype='unicode')\n",
    "df_results = df_results[['result_id','test_id','effect','measurement','conc1_mean','conc2_mean','conc3_mean', 'endpoint','endpoint_comments']]\n",
    "\n",
    "print(df_results.shape)\n",
    "df_results = df_results.drop_duplicates(subset=['result_id','effect'])\n",
    "df_results.shape\n",
    "\n",
    "df_species = pd.read_csv(\"../data/ecotox_ascii_12_13_2018/validation/species.txt\",sep=\"|\", dtype='unicode')\n",
    "df_species = df_species[['species_number','common_name','kingdom','class','tax_order','family','species']]\n",
    "\n",
    "print(df_species.shape)\n",
    "df_species = df_species.drop_duplicates()\n",
    "df_species.shape\n",
    "\n",
    "df_tests = pd.read_csv(\"../data/ecotox_ascii_12_13_2018/tests.txt\",sep=\"|\", dtype='unicode')\n",
    "df_tests = df_tests[['test_id','test_cas','organism_lifestage','species_number','organism_age_mean','organism_gender','study_duration_mean','exposure_duration_mean','test_type','num_doses_mean','application_freq_mean','halflife_mean', 'reference_number']]\n",
    "\n",
    "print(df_tests.shape)\n",
    "df_tests = df_tests.drop_duplicates(subset=['test_id', 'test_cas'])\n",
    "df_tests.shape\n",
    "\n",
    "df_references = pd.read_csv(\"../data/ecotox_ascii_12_13_2018/validation/references.txt\",sep=\"|\", dtype='unicode')\n",
    "df_references = df_references[['reference_number', 'publication_year']]"
   ]
  },
  {
   "cell_type": "markdown",
   "metadata": {},
   "source": [
    "Merge files\n",
    "\n"
   ]
  },
  {
   "cell_type": "code",
   "execution_count": 6,
   "metadata": {},
   "outputs": [
    {
     "data": {
      "text/html": [
       "<div>\n",
       "<style scoped>\n",
       "    .dataframe tbody tr th:only-of-type {\n",
       "        vertical-align: middle;\n",
       "    }\n",
       "\n",
       "    .dataframe tbody tr th {\n",
       "        vertical-align: top;\n",
       "    }\n",
       "\n",
       "    .dataframe thead th {\n",
       "        text-align: right;\n",
       "    }\n",
       "</style>\n",
       "<table border=\"1\" class=\"dataframe\">\n",
       "  <thead>\n",
       "    <tr style=\"text-align: right;\">\n",
       "      <th></th>\n",
       "      <th>test_id</th>\n",
       "      <th>test_cas</th>\n",
       "      <th>organism_lifestage</th>\n",
       "      <th>species_number</th>\n",
       "      <th>organism_age_mean</th>\n",
       "      <th>organism_gender</th>\n",
       "      <th>study_duration_mean</th>\n",
       "      <th>exposure_duration_mean</th>\n",
       "      <th>test_type</th>\n",
       "      <th>num_doses_mean</th>\n",
       "      <th>...</th>\n",
       "      <th>chem_name</th>\n",
       "      <th>formulation</th>\n",
       "      <th>chemical_name</th>\n",
       "      <th>common_name</th>\n",
       "      <th>kingdom</th>\n",
       "      <th>class</th>\n",
       "      <th>tax_order</th>\n",
       "      <th>family</th>\n",
       "      <th>species</th>\n",
       "      <th>publication_year</th>\n",
       "    </tr>\n",
       "  </thead>\n",
       "  <tbody>\n",
       "    <tr>\n",
       "      <th>0</th>\n",
       "      <td>13</td>\n",
       "      <td>50293</td>\n",
       "      <td>NR</td>\n",
       "      <td>5022</td>\n",
       "      <td>NR</td>\n",
       "      <td>NR</td>\n",
       "      <td>8</td>\n",
       "      <td>8</td>\n",
       "      <td>NC</td>\n",
       "      <td>1</td>\n",
       "      <td>...</td>\n",
       "      <td>2-Propanone</td>\n",
       "      <td>NR</td>\n",
       "      <td>2-Propanone</td>\n",
       "      <td>Indian Earthworm</td>\n",
       "      <td>Animalia</td>\n",
       "      <td>Oligochaeta</td>\n",
       "      <td>Haplotaxida</td>\n",
       "      <td>Megascolecidae</td>\n",
       "      <td>posthuma</td>\n",
       "      <td>1978</td>\n",
       "    </tr>\n",
       "    <tr>\n",
       "      <th>1</th>\n",
       "      <td>13</td>\n",
       "      <td>50293</td>\n",
       "      <td>NR</td>\n",
       "      <td>5022</td>\n",
       "      <td>NR</td>\n",
       "      <td>NR</td>\n",
       "      <td>8</td>\n",
       "      <td>8</td>\n",
       "      <td>NC</td>\n",
       "      <td>1</td>\n",
       "      <td>...</td>\n",
       "      <td>2-Propanone</td>\n",
       "      <td>NR</td>\n",
       "      <td>2-Propanone</td>\n",
       "      <td>Indian Earthworm</td>\n",
       "      <td>Animalia</td>\n",
       "      <td>Oligochaeta</td>\n",
       "      <td>Haplotaxida</td>\n",
       "      <td>Megascolecidae</td>\n",
       "      <td>posthuma</td>\n",
       "      <td>1978</td>\n",
       "    </tr>\n",
       "    <tr>\n",
       "      <th>2</th>\n",
       "      <td>13</td>\n",
       "      <td>50293</td>\n",
       "      <td>NR</td>\n",
       "      <td>5022</td>\n",
       "      <td>NR</td>\n",
       "      <td>NR</td>\n",
       "      <td>8</td>\n",
       "      <td>8</td>\n",
       "      <td>NC</td>\n",
       "      <td>1</td>\n",
       "      <td>...</td>\n",
       "      <td>2-Propanone</td>\n",
       "      <td>NR</td>\n",
       "      <td>2-Propanone</td>\n",
       "      <td>Indian Earthworm</td>\n",
       "      <td>Animalia</td>\n",
       "      <td>Oligochaeta</td>\n",
       "      <td>Haplotaxida</td>\n",
       "      <td>Megascolecidae</td>\n",
       "      <td>posthuma</td>\n",
       "      <td>1978</td>\n",
       "    </tr>\n",
       "    <tr>\n",
       "      <th>3</th>\n",
       "      <td>13</td>\n",
       "      <td>50293</td>\n",
       "      <td>NR</td>\n",
       "      <td>5022</td>\n",
       "      <td>NR</td>\n",
       "      <td>NR</td>\n",
       "      <td>8</td>\n",
       "      <td>8</td>\n",
       "      <td>NC</td>\n",
       "      <td>1</td>\n",
       "      <td>...</td>\n",
       "      <td>2-Propanone</td>\n",
       "      <td>NR</td>\n",
       "      <td>2-Propanone</td>\n",
       "      <td>Indian Earthworm</td>\n",
       "      <td>Animalia</td>\n",
       "      <td>Oligochaeta</td>\n",
       "      <td>Haplotaxida</td>\n",
       "      <td>Megascolecidae</td>\n",
       "      <td>posthuma</td>\n",
       "      <td>1978</td>\n",
       "    </tr>\n",
       "    <tr>\n",
       "      <th>4</th>\n",
       "      <td>13</td>\n",
       "      <td>50293</td>\n",
       "      <td>NR</td>\n",
       "      <td>5022</td>\n",
       "      <td>NR</td>\n",
       "      <td>NR</td>\n",
       "      <td>8</td>\n",
       "      <td>8</td>\n",
       "      <td>NC</td>\n",
       "      <td>1</td>\n",
       "      <td>...</td>\n",
       "      <td>2-Propanone</td>\n",
       "      <td>NR</td>\n",
       "      <td>2-Propanone</td>\n",
       "      <td>Indian Earthworm</td>\n",
       "      <td>Animalia</td>\n",
       "      <td>Oligochaeta</td>\n",
       "      <td>Haplotaxida</td>\n",
       "      <td>Megascolecidae</td>\n",
       "      <td>posthuma</td>\n",
       "      <td>1978</td>\n",
       "    </tr>\n",
       "  </tbody>\n",
       "</table>\n",
       "<p>5 rows × 39 columns</p>\n",
       "</div>"
      ],
      "text/plain": [
       "  test_id test_cas organism_lifestage species_number organism_age_mean  \\\n",
       "0      13    50293                 NR           5022                NR   \n",
       "1      13    50293                 NR           5022                NR   \n",
       "2      13    50293                 NR           5022                NR   \n",
       "3      13    50293                 NR           5022                NR   \n",
       "4      13    50293                 NR           5022                NR   \n",
       "\n",
       "  organism_gender study_duration_mean exposure_duration_mean test_type  \\\n",
       "0              NR                   8                      8        NC   \n",
       "1              NR                   8                      8        NC   \n",
       "2              NR                   8                      8        NC   \n",
       "3              NR                   8                      8        NC   \n",
       "4              NR                   8                      8        NC   \n",
       "\n",
       "  num_doses_mean  ...    chem_name formulation chemical_name  \\\n",
       "0              1  ...  2-Propanone          NR   2-Propanone   \n",
       "1              1  ...  2-Propanone          NR   2-Propanone   \n",
       "2              1  ...  2-Propanone          NR   2-Propanone   \n",
       "3              1  ...  2-Propanone          NR   2-Propanone   \n",
       "4              1  ...  2-Propanone          NR   2-Propanone   \n",
       "\n",
       "        common_name   kingdom        class    tax_order          family  \\\n",
       "0  Indian Earthworm  Animalia  Oligochaeta  Haplotaxida  Megascolecidae   \n",
       "1  Indian Earthworm  Animalia  Oligochaeta  Haplotaxida  Megascolecidae   \n",
       "2  Indian Earthworm  Animalia  Oligochaeta  Haplotaxida  Megascolecidae   \n",
       "3  Indian Earthworm  Animalia  Oligochaeta  Haplotaxida  Megascolecidae   \n",
       "4  Indian Earthworm  Animalia  Oligochaeta  Haplotaxida  Megascolecidae   \n",
       "\n",
       "    species publication_year  \n",
       "0  posthuma             1978  \n",
       "1  posthuma             1978  \n",
       "2  posthuma             1978  \n",
       "3  posthuma             1978  \n",
       "4  posthuma             1978  \n",
       "\n",
       "[5 rows x 39 columns]"
      ]
     },
     "execution_count": 6,
     "metadata": {},
     "output_type": "execute_result"
    }
   ],
   "source": [
    "df = df_tests.merge(df_results, on=['test_id'])\n",
    "df = df.merge(df_doses, on=['test_id'])\n",
    "df = df.merge(df_dose_response_links, on=['result_id'])\n",
    "df = df.merge(df_dose_response_details, on=['dose_id'])\n",
    "df = df.merge(df_chemical_carriers, on=['test_id'])\n",
    "df = df.merge(df_chemicals, on=['cas_number'])\n",
    "df = df.merge(df_species, on=['species_number'])\n",
    "df = df.merge(df_references, on=['reference_number'])\n",
    "df.iloc[:5]"
   ]
  },
  {
   "cell_type": "markdown",
   "metadata": {},
   "source": [
    "Create final table"
   ]
  },
  {
   "cell_type": "code",
   "execution_count": 7,
   "metadata": {},
   "outputs": [],
   "source": [
    "df.to_csv('../data/treated_data/table_reference_date_info.csv')"
   ]
  },
  {
   "cell_type": "markdown",
   "metadata": {},
   "source": [
    "## chem_name vs publication_year – relation"
   ]
  },
  {
   "cell_type": "code",
   "execution_count": 8,
   "metadata": {},
   "outputs": [
    {
     "data": {
      "text/plain": [
       "Ethanol                                                                                 309832\n",
       "Water                                                                                   239187\n",
       "Sodium chloride (NaCl)                                                                  228767\n",
       "Corn oil                                                                                196874\n",
       "2-Propanone                                                                             157920\n",
       "Carbamic acid, Ethyl ester                                                               97133\n",
       "Cottonseed oil                                                                           67758\n",
       "Peanut oil                                                                               52652\n",
       "Gum arabic                                                                               47286\n",
       "1,2-Propanediol                                                                          31040\n",
       "Dimethylbenzene                                                                          27867\n",
       "alpha-(4-(1,1,3,3-Tetramethylbutyl)phenyl)-omega-hydroxypoly(oxy-1,2-ethanediyl)         25996\n",
       "Methanol                                                                                 20639\n",
       "Acetic acid                                                                              19536\n",
       "4-O-beta-D-Galactopyranosyl-D-glucose                                                    15252\n",
       "Nitric acid                                                                              12212\n",
       "Sodium hydroxide                                                                         10215\n",
       "alpha-D-Glucopyranoside, beta-D-Fructofuranosyl                                           9111\n",
       "1,2,3,4,5,6-Hexachlorobenzene                                                             7700\n",
       "Paraffin oils                                                                             6460\n",
       "Hexane                                                                                    6134\n",
       "Olive oil                                                                                 5287\n",
       "N,N-Bis(2-chloroethyl)tetrahydro-2H-1,3,2-oxazaphosphorin-2-amine 2-oxide                 3770\n",
       "Sulfinyl bis(methane)                                                                     3764\n",
       "Acetic acid, Sodium salt (1:1)                                                            3496\n",
       "Hydrochloric acid                                                                         3332\n",
       "Cellulose, Methyl ether                                                                   2041\n",
       "Acetonitrile                                                                              1935\n",
       "Polypropylene glycol                                                                      1806\n",
       "Sorbitan, Monododecanoate, Poly(oxy-1,2-ethanediyl)derivs.                                1751\n",
       "                                                                                         ...  \n",
       "2-Propanol                                                                                   6\n",
       "Gum tragacanth                                                                               5\n",
       "2-Butanone                                                                                   4\n",
       "Phosphoric acid, Tris(2-methylphenyl) ester                                                  4\n",
       "Ascorbic acid                                                                                4\n",
       "Sulfurous acid, Ammonium salt (1:2)                                                          4\n",
       "Rape oil                                                                                     4\n",
       "Methocel                                                                                     4\n",
       "Corexit 7664                                                                                 4\n",
       "Methanesulfonic acid, Ethyl ester                                                            4\n",
       "Kaolin                                                                                       3\n",
       "Soybean oil                                                                                  3\n",
       "Fuel gases, Crude oil distillates                                                            3\n",
       "2,2'-Methylenebis[4-chlorophenol]                                                            3\n",
       "1,2-Benzenedicarboxylic acid, 1,2-Dimethyl ester                                             2\n",
       "Mannitol                                                                                     2\n",
       "1,2-Ethanediol                                                                               2\n",
       "Cellulose, 2-Hydroxypropyl methyl ether                                                      2\n",
       "2-Methylcyclohexanone                                                                        2\n",
       "Orthophosphate                                                                               2\n",
       "Calcium hydroxide (Ca(OH)2)                                                                  1\n",
       "Aluminum hydroxide (Al(OH)3)                                                                 1\n",
       "Hydrocarbon oils, Arom.                                                                      1\n",
       "Dibromomethane                                                                               1\n",
       "2-(2,4-Dichlorophenoxy)acetic acid                                                           1\n",
       "Saponins                                                                                     1\n",
       "(S)-N-(5,6,7,9-Tetrahydro-1,2,3,10-tetramethoxy-9-oxobenzo[1]heptalen-7-yl)acetamide         1\n",
       "(Z)-alpha-9-octadecenyl-omega-hydroxypoly(oxy-1,2-ethanediyl)                                1\n",
       "Albumins                                                                                     1\n",
       "3 beta-Cholest-5-en-3-ol                                                                     1\n",
       "Name: chem_name, Length: 126, dtype: int64"
      ]
     },
     "execution_count": 8,
     "metadata": {},
     "output_type": "execute_result"
    }
   ],
   "source": [
    "df['chem_name'].value_counts()"
   ]
  },
  {
   "cell_type": "code",
   "execution_count": 9,
   "metadata": {},
   "outputs": [
    {
     "data": {
      "text/plain": [
       "1951    289424\n",
       "1973    198716\n",
       "1974    169281\n",
       "1988    167012\n",
       "1992     92579\n",
       "1970     71092\n",
       "1972     56654\n",
       "1995     45786\n",
       "1976     41380\n",
       "1969     38221\n",
       "1989     36804\n",
       "1986     36659\n",
       "1979     35604\n",
       "1985     35392\n",
       "1978     29364\n",
       "1990     28509\n",
       "1982     23631\n",
       "1984     20676\n",
       "1991     20155\n",
       "1996     20146\n",
       "1977     17534\n",
       "1954     15899\n",
       "1993     14935\n",
       "1987     14265\n",
       "1998     14014\n",
       "1999     10186\n",
       "1980      8636\n",
       "2000      8488\n",
       "1983      7526\n",
       "1964      7343\n",
       "         ...  \n",
       "1994      4841\n",
       "1939      3718\n",
       "2002      3483\n",
       "1955      3236\n",
       "1965      2833\n",
       "1966      2691\n",
       "1967      2281\n",
       "1947      1346\n",
       "1933       629\n",
       "1958       456\n",
       "1950       392\n",
       "1968       305\n",
       "2008       138\n",
       "1945       128\n",
       "1949       124\n",
       "2006       120\n",
       "2001       111\n",
       "2009       100\n",
       "2004        89\n",
       "1946        68\n",
       "2003        68\n",
       "2005        52\n",
       "1962        40\n",
       "2007        28\n",
       "2010        17\n",
       "1937         8\n",
       "1952         8\n",
       "1961         3\n",
       "2011         2\n",
       "1944         1\n",
       "Name: publication_year, Length: 65, dtype: int64"
      ]
     },
     "execution_count": 9,
     "metadata": {},
     "output_type": "execute_result"
    }
   ],
   "source": [
    "df['publication_year'].value_counts()"
   ]
  },
  {
   "cell_type": "code",
   "execution_count": 16,
   "metadata": {},
   "outputs": [
    {
     "name": "stdout",
     "output_type": "stream",
     "text": [
      "1951\n",
      "Ethanol    283154\n",
      "Water        6270\n",
      "Name: chem_name, dtype: int64\n",
      "\n",
      "1973\n",
      "\n",
      "2-Propanone                       97141\n",
      "Carbamic acid, Ethyl ester        97133\n",
      "Ethanol                            2705\n",
      "Sodium chloride (NaCl)             1015\n",
      "Corn oil                            560\n",
      "Peanut oil                           78\n",
      "Chloroformic acid, Hexyl ester       32\n",
      "Methylene chloride                   30\n",
      "1,2-Propanediol                       8\n",
      "Methanol                              8\n",
      "Sodium hydroxide                      6\n",
      "Name: chem_name, dtype: int64\n",
      "\n",
      "2000\n",
      "\n",
      "Corn oil                                                    5504\n",
      "Acetonitrile                                                1451\n",
      "Water                                                        846\n",
      "Ethanol                                                      436\n",
      "Cellulose, Methyl ether                                      151\n",
      "Hexane                                                        25\n",
      "Methanol                                                      23\n",
      "Sodium chloride (NaCl)                                        12\n",
      "Fats and glyceridic oils, Sesame                              12\n",
      "Olive oil                                                      5\n",
      "Methocel                                                       4\n",
      "2-Propanone                                                    4\n",
      "Cellulose, Carboxymethyl ether, Sodium salt                    4\n",
      "2,2'-Methylenebis[4-chlorophenol]                              3\n",
      "Sulfinyl bis(methane)                                          3\n",
      "1,2-Benzenedicarboxylic acid, 1,2-Dimethyl ester               2\n",
      "Peanut oil                                                     2\n",
      "2-Hydroxy-1,2,3-propanetricarboxylic acid,Trisodium salt       1\n",
      "Name: chem_name, dtype: int64\n",
      "\n",
      "1988\n",
      "\n",
      "Sodium chloride (NaCl)         102683\n",
      "Water                           35470\n",
      "Methanol                        20074\n",
      "2-Propanone                      8294\n",
      "Sodium hydroxide                  233\n",
      "Ethanol                           164\n",
      "Cottonseed oil                     49\n",
      "Corn oil                           23\n",
      "Sulfinyl bis(methane)               9\n",
      "Dimethylbenzene                     6\n",
      "Olive oil                           4\n",
      "Calcium hydroxide (Ca(OH)2)         1\n",
      "Benzene                             1\n",
      "Mannitol                            1\n",
      "Name: chem_name, dtype: int64\n",
      "\n",
      "2008\n",
      "\n",
      "2-Propanone                                                   29\n",
      "Sodium chloride (NaCl)                                        23\n",
      "Sulfinyl bis(methane)                                         19\n",
      "Cellulose, Methyl ether                                       16\n",
      "Fats and glyceridic oils, Sesame                              14\n",
      "Ethanol                                                        7\n",
      "Corn oil                                                       7\n",
      "Methanol                                                       6\n",
      "Peanut oil                                                     6\n",
      "Canola oil                                                     3\n",
      "Cellulose, 2-Hydroxypropyl methyl ether                        2\n",
      "Ascorbic acid                                                  2\n",
      "Sorbitan, Monododecanoate, Poly(oxy-1,2-ethanediyl)derivs.     1\n",
      "Water                                                          1\n",
      "alpha-Hydro-omega-hydroxypoly(oxy-1,2-ethanediyl)              1\n",
      "Methylene chloride                                             1\n",
      "Name: chem_name, dtype: int64\n"
     ]
    }
   ],
   "source": [
    "print('1951')\n",
    "df_1951 = df.query('publication_year == \"1951\"')\n",
    "print(df_1951['chem_name'].value_counts())\n",
    "df_1951_chem = df_1951['chem_name'].value_counts()\n",
    "\n",
    "print('\\n1973\\n')\n",
    "df_1973 = df.query('publication_year == \"1973\"')\n",
    "print(df_1973['chem_name'].value_counts())\n",
    "df_1973_chem = df_1973['chem_name'].value_counts()\n",
    "\n",
    "print('\\n2000\\n')\n",
    "df_2000 = df.query('publication_year == \"2000\"')\n",
    "print(df_2000['chem_name'].value_counts())\n",
    "df_2000_chem = df_2000['chem_name'].value_counts()\n",
    "\n",
    "print('\\n1988\\n')\n",
    "df_1988 = df.query('publication_year == \"1988\"')\n",
    "print(df_1988['chem_name'].value_counts())\n",
    "df_1988_chem = df_1988['chem_name'].value_counts()\n",
    "\n",
    "print('\\n2008\\n')\n",
    "df_2008 = df.query('publication_year == \"2008\"')\n",
    "print(df_2008['chem_name'].value_counts())\n",
    "df_2008_chem = df_2008['chem_name'].value_counts()\n"
   ]
  },
  {
   "cell_type": "markdown",
   "metadata": {},
   "source": [
    "Ethanol"
   ]
  },
  {
   "cell_type": "code",
   "execution_count": 38,
   "metadata": {},
   "outputs": [
    {
     "name": "stdout",
     "output_type": "stream",
     "text": [
      "[283154, 2705, 164, 436, 7]\n",
      "[289424, 198716, 167012, 8488, 138]\n"
     ]
    },
    {
     "data": {
      "text/plain": [
       "[0.9783362817181712,\n",
       " 0.013612391553775237,\n",
       " 0.0009819653677580055,\n",
       " 0.05136663524976438,\n",
       " 0.050724637681159424]"
      ]
     },
     "execution_count": 38,
     "metadata": {},
     "output_type": "execute_result"
    }
   ],
   "source": [
    "year = ['1951', '1973', '1988', '2000', '2008']\n",
    "\n",
    "ethanol_use = [df_1951_chem['Ethanol'], df_1973_chem['Ethanol'], df_1988_chem['Ethanol'], df_2000_chem['Ethanol'], df_2008_chem['Ethanol']]\n",
    "print(ethanol_use)\n",
    "total_use = [df_1951_chem.sum(), df_1973_chem.sum(), df_1988_chem.sum(), df_2000_chem.sum(), df_2008_chem.sum()]\n",
    "print(total_use)\n",
    "\n",
    "norm_use = [ethanol_use[0]/total_use[0], ethanol_use[1]/total_use[1], ethanol_use[2]/total_use[2], ethanol_use[3]/total_use[3], ethanol_use[4]/total_use[4]]\n",
    "norm_use"
   ]
  },
  {
   "cell_type": "code",
   "execution_count": 41,
   "metadata": {},
   "outputs": [
    {
     "data": {
      "image/png": "[encoded data removed]",
      "text/plain": [
       "<Figure size 432x288 with 1 Axes>"
      ]
     },
     "metadata": {
      "needs_background": "light"
     },
     "output_type": "display_data"
    }
   ],
   "source": [
    "plt.plot(year, norm_use)\n",
    "plt.show()"
   ]
  },
  {
   "cell_type": "code",
   "execution_count": 42,
   "metadata": {},
   "outputs": [
    {
     "data": {
      "image/png": "[encoded data removed]",
      "text/plain": [
       "<Figure size 432x288 with 1 Axes>"
      ]
     },
     "metadata": {
      "needs_background": "light"
     },
     "output_type": "display_data"
    }
   ],
   "source": [
    "plt.plot(year, ethanol_use)\n",
    "plt.show()"
   ]
  },
  {
   "cell_type": "code",
   "execution_count": 56,
   "metadata": {},
   "outputs": [
    {
     "data": {
      "image/png": "[encoded data removed]",
      "text/plain": [
       "<Figure size 432x288 with 2 Axes>"
      ]
     },
     "metadata": {
      "needs_background": "light"
     },
     "output_type": "display_data"
    }
   ],
   "source": [
    "\n",
    "fig, ax1 = plt.subplots()\n",
    "\n",
    "color = 'tab:red'\n",
    "ax1.set_xlabel('year')\n",
    "ax1.set_ylabel('ethanol ratio', color=color)\n",
    "ax1.plot(year, norm_use, color=color)\n",
    "ax1.tick_params(axis='y', labelcolor=color)\n",
    "\n",
    "ax2 = ax1.twinx()  # instantiate a second axes that shares the same x-axis\n",
    "# plt.gca().invert_yaxis()\n",
    "color = 'tab:blue'\n",
    "ax2.set_ylabel('number of tests using ethanol', color=color)  # we already handled the x-label with ax1\n",
    "ax2.plot(year, ethanol_use, color=color)\n",
    "ax2.tick_params(axis='y', labelcolor=color)\n",
    "\n",
    "fig.tight_layout()  # otherwise the right y-label is slightly clipped\n",
    "plt.show()"
   ]
  },
  {
   "cell_type": "code",
   "execution_count": null,
   "metadata": {},
   "outputs": [],
   "source": []
  }
 ],
 "metadata": {
  "kernelspec": {
   "display_name": "Python 3",
   "language": "python",
   "name": "python3"
  },
  "language_info": {
   "codemirror_mode": {
    "name": "ipython",
    "version": 3
   },
   "file_extension": ".py",
   "mimetype": "text/x-python",
   "name": "python",
   "nbconvert_exporter": "python",
   "pygments_lexer": "ipython3",
   "version": "3.7.3"
  }
 },
 "nbformat": 4,
 "nbformat_minor": 2
}
