{
 "cells": [
  {
   "cell_type": "markdown",
   "metadata": {},
   "source": [
    "# Concept understanding"
   ]
  },
  {
   "cell_type": "markdown",
   "metadata": {},
   "source": [
    "The research show dificulties in analysis and data understnding. After some analysis that didn't bring much value, a new study was done, preventing a similar concept to garbage-in garbage-out.\n",
    "\n",
    "Based on this new study and documentation, this has answear a few questions:\n",
    "\n"
   ]
  },
  {
   "cell_type": "markdown",
   "metadata": {},
   "source": [
    "\n",
    "## What is the intended use of ECOTOX?\n",
    "\n",
    "\"There has been an increased emphasis in ecotoxicology to improve and enhance the process by which ecological and human health hazard assessments are performed. This has resulted in a range of activity from the hazard evaluation of new and existing chemicals and pesticides to the evaluation of impact assessments associated with effluent, leachate, and environmental monitoring data. (...) The U.S. EPA and other government agencies have a need for ready access to toxicity information for use in characterizing, diagnosing and predicting effects associated with chemical stressors and to support the development of ecocriteria and thresholds for natural resource use. One of the EPA Office of Research and Development's long-term goals was to facilitate the exchange of credible scientific data and risk assessment information among private and public stake holders.\"\n",
    "\n",
    "Like their site it self says. It shows that are a lot of analysis possible to do with this database, keeping a similar goal as first intended :)\n",
    "\n",
    "## Why there's both GMOR and GMOR/ and a measument for Mortality effect?\n",
    "\n",
    "\n",
    "The forward slash (/) means that this result is to be used with a comment associated with the data in the data field.\n",
    "Headers (User Guide Appendix H) are associated with the data field where the comment appears. Usually in Other Effects, General Comments, Test Comments or Result Comments data fields\n",
    "\n",
    "## How to identify relevant ecological effects data in the open literature?\n",
    "\n",
    "\n",
    "The strategy is designed to locate worldwide aquatic and terrestrial ecological effects literature. Chemical specific literature search strategies are also conducted, but generally, the literature searches intersect general habitat and test condition terms with general effects and endpoint terms. \n",
    "\n",
    "## Important\n",
    "\n",
    "\"Disclaimer  \n",
    "You should consult the original scientific paper to ensure an understanding of the context of the data retrieved from ECOTOX.\""
   ]
  },
  {
   "cell_type": "code",
   "execution_count": null,
   "metadata": {},
   "outputs": [],
   "source": []
  },
  {
   "cell_type": "code",
   "execution_count": null,
   "metadata": {},
   "outputs": [],
   "source": []
  }
 ],
 "metadata": {
  "kernelspec": {
   "display_name": "Python 3",
   "language": "python",
   "name": "python3"
  },
  "language_info": {
   "codemirror_mode": {
    "name": "ipython",
    "version": 3
   },
   "file_extension": ".py",
   "mimetype": "text/x-python",
   "name": "python",
   "nbconvert_exporter": "python",
   "pygments_lexer": "ipython3",
   "version": "3.7.3"
  }
 },
 "nbformat": 4,
 "nbformat_minor": 2
}
