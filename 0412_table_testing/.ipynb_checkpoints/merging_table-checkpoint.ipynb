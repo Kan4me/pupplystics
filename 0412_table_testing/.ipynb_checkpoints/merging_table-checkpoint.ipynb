{
 "cells": [
  {
   "cell_type": "markdown",
   "metadata": {},
   "source": [
    "# Merging Tables and Getting PK"
   ]
  },
  {
   "cell_type": "code",
   "execution_count": null,
   "metadata": {},
   "outputs": [],
   "source": [
    "import pandas as pd\n",
    "import numpy as np"
   ]
  },
  {
   "cell_type": "markdown",
   "metadata": {},
   "source": [
    "## Chosen headers by file"
   ]
  },
  {
   "cell_type": "code",
   "execution_count": null,
   "metadata": {},
   "outputs": [],
   "source": [
    "df_chemical_carriers = pd.read_csv(\"chemical_carriers.txt\",sep=\"|\", dtype='unicode')\n",
    "df_chemical_carriers = df_chemical_carriers[['carrier_id', 'test_id', 'cas_number', 'chem_name', 'formulation']]\n",
    "print(df_chemical_carriers.shape)\n",
    "df_chemical_carriers = df_chemical_carriers.drop_duplicates()\n",
    "df_chemical_carriers.shape"
   ]
  },
  {
   "cell_type": "code",
   "execution_count": null,
   "metadata": {},
   "outputs": [],
   "source": [
    "df_chemical_formulation_codes = pd.read_csv(\"chemical_formulation_codes.txt\",sep=\"|\", dtype='unicode')\n",
    "df_chemical_grade_codes = pd.read_csv(\"chemical_grade_codes.txt\",sep=\"|\", dtype='unicode')\n",
    "df_effect_codes = pd.read_csv(\"effect_codes.txt\",sep=\"|\", dtype='unicode')"
   ]
  },
  {
   "cell_type": "code",
   "execution_count": null,
   "metadata": {},
   "outputs": [],
   "source": [
    "df_chemicals = pd.read_csv(\"chemicals.txt\",sep=\"|\", dtype='unicode')\n",
    "df_chemicals = df_chemicals[['cas_number','chemical_name']]\n",
    "\n",
    "print(df_chemicals.shape)\n",
    "df_chemicals = df_chemicals.drop_duplicates()\n",
    "df_chemicals.shape"
   ]
  },
  {
   "cell_type": "code",
   "execution_count": null,
   "metadata": {},
   "outputs": [],
   "source": [
    "df_dose_response_details = pd.read_csv(\"dose_response_details.txt\",sep=\"|\", dtype='unicode')\n",
    "df_dose_response_details = df_dose_response_details[['dose_resp_detail_id','dose_id']]\n",
    "\n",
    "df_dose_response_details.iloc[:5]"
   ]
  },
  {
   "cell_type": "code",
   "execution_count": null,
   "metadata": {},
   "outputs": [],
   "source": [
    "df_dose_response_links = pd.read_csv(\"dose_response_links.txt\",sep=\"|\", dtype='unicode')\n",
    "df_dose_response_links = df_dose_response_links[['result_id', 'dose_resp_id']]\n",
    "\n",
    "print(df_dose_response_links.shape)\n",
    "df_dose_response_links = df_dose_response_links.drop_duplicates()\n",
    "df_dose_response_links.shape"
   ]
  },
  {
   "cell_type": "code",
   "execution_count": null,
   "metadata": {},
   "outputs": [],
   "source": [
    "df_doses = pd.read_csv(\"doses.txt\",sep=\"|\", dtype='unicode')\n",
    "df_doses = df_doses[['dose_id','test_id','dose1_mean','dose2_mean','dose3_mean']]\n",
    "\n",
    "print(df_doses.shape)\n",
    "df_doses = df_doses.drop_duplicates()\n",
    "df_doses.shape"
   ]
  },
  {
   "cell_type": "code",
   "execution_count": null,
   "metadata": {},
   "outputs": [],
   "source": [
    "df_results = pd.read_csv(\"results.txt\",sep=\"|\", dtype='unicode')\n",
    "df_results = df_results[['result_id','test_id','effect','measurement','conc1_mean','conc2_mean','conc3_mean']]\n",
    "\n",
    "print(df_results.shape)\n",
    "df_results = df_results.drop_duplicates(subset=['result_id','effect'])\n",
    "df_results.shape"
   ]
  },
  {
   "cell_type": "code",
   "execution_count": null,
   "metadata": {},
   "outputs": [],
   "source": [
    "df_species = pd.read_csv(\"species.txt\",sep=\"|\", dtype='unicode')\n",
    "df_species = df_species[['species_number','common_name','kingdom','class','tax_order','family','species']]\n",
    "\n",
    "print(df_species.shape)\n",
    "df_species = df_species.drop_duplicates()\n",
    "df_species.shape"
   ]
  },
  {
   "cell_type": "code",
   "execution_count": null,
   "metadata": {},
   "outputs": [],
   "source": [
    "df_tests = pd.read_csv(\"tests.txt\",sep=\"|\", dtype='unicode')\n",
    "df_tests = df_tests[['test_id','test_cas','organism_lifestage','species_number','organism_age_mean','organism_gender','study_duration_mean','exposure_duration_mean','test_type','num_doses_mean','application_freq_mean','halflife_mean']]\n",
    "\n",
    "print(df_tests.shape)\n",
    "df_tests = df_tests.drop_duplicates(subset=['test_id', 'test_cas'])\n",
    "df_tests.shape"
   ]
  },
  {
   "cell_type": "code",
   "execution_count": null,
   "metadata": {},
   "outputs": [],
   "source": [
    "df = df_tests.merge(df_results, on=['test_id'])\n",
    "df = df.merge(df_doses, on=['test_id'])\n",
    "#df = df.merge(df_dose_response_links, on=['result_id'])\n",
    "#df = df.merge(df_dose_response_details, on=['dose_id'])\n",
    "#df = df.merge(df_chemical_carriers, on=['test_id'])\n",
    "#df = df.merge(df_chemicals, on=['cas_number'])\n",
    "#df = df.merge(df_species, on=['species_number'])\n",
    "df.iloc[:5]"
   ]
  },
  {
   "cell_type": "code",
   "execution_count": null,
   "metadata": {},
   "outputs": [],
   "source": [
    "df_clone = df\n",
    "df.shape"
   ]
  },
  {
   "cell_type": "code",
   "execution_count": null,
   "metadata": {},
   "outputs": [],
   "source": [
    "df_clone = df_clone.drop_duplicates(subset=['test_id'])\n",
    "df_clone.shape"
   ]
  },
  {
   "cell_type": "code",
   "execution_count": null,
   "metadata": {},
   "outputs": [],
   "source": []
  },
  {
   "cell_type": "code",
   "execution_count": null,
   "metadata": {},
   "outputs": [],
   "source": []
  }
 ],
 "metadata": {
  "kernelspec": {
   "display_name": "Python 3",
   "language": "python",
   "name": "python3"
  },
  "language_info": {
   "codemirror_mode": {
    "name": "ipython",
    "version": 3
   },
   "file_extension": ".py",
   "mimetype": "text/x-python",
   "name": "python",
   "nbconvert_exporter": "python",
   "pygments_lexer": "ipython3",
   "version": "3.7.3"
  }
 },
 "nbformat": 4,
 "nbformat_minor": 2
}
