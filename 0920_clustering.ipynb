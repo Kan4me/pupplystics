{
 "cells": [
  {
   "cell_type": "markdown",
   "metadata": {},
   "source": [
    "# Clustering"
   ]
  },
  {
   "cell_type": "code",
   "execution_count": 5,
   "metadata": {},
   "outputs": [],
   "source": [
    "from sklearn.cluster import KMeans"
   ]
  },
  {
   "cell_type": "markdown",
   "metadata": {},
   "source": [
    "## KMean SetUp&Test"
   ]
  },
  {
   "cell_type": "markdown",
   "metadata": {},
   "source": [
    "Kmeans algorithm provides better initial seeding in order to find the best clusters.\n",
    "\n",
    "ref: https://towardsdatascience.com/an-introduction-to-clustering-algorithms-in-python-123438574097"
   ]
  },
  {
   "cell_type": "code",
   "execution_count": 8,
   "metadata": {},
   "outputs": [
    {
     "name": "stdout",
     "output_type": "stream",
     "text": [
      "[[-5.56465793 -2.34988939]\n",
      " [-2.40167949 10.17352695]\n",
      " [ 0.05161133 -5.35489826]\n",
      " [-1.92101646  5.21673484]]\n"
     ]
    }
   ],
   "source": [
    "# create kmeans object\n",
    "kmeans = KMeans(n_clusters=4)# fit kmeans object to data\n",
    "kmeans.fit(points)# print location of clusters learned by kmeans object\n",
    "print(kmeans.cluster_centers_)# save new clusters for chart\n",
    "y_km = kmeans.fit_predict(points)"
   ]
  },
  {
   "cell_type": "code",
   "execution_count": 7,
   "metadata": {},
   "outputs": [
    {
     "data": {
      "text/plain": [
       "<matplotlib.collections.PathCollection at 0x114ba3e48>"
      ]
     },
     "execution_count": 7,
     "metadata": {},
     "output_type": "execute_result"
    },
    {
     "data": {
      "image/png": "[encoded data removed]",
      "text/plain": [
       "<Figure size 432x288 with 1 Axes>"
      ]
     },
     "metadata": {
      "needs_background": "light"
     },
     "output_type": "display_data"
    }
   ],
   "source": [
    "plt.scatter(points[y_km ==0,0], points[y_km == 0,1], s=100, c='red')\n",
    "plt.scatter(points[y_km ==1,0], points[y_km == 1,1], s=100, c='black')\n",
    "plt.scatter(points[y_km ==2,0], points[y_km == 2,1], s=100, c='blue')\n",
    "plt.scatter(points[y_km ==3,0], points[y_km == 3,1], s=100, c='cyan')"
   ]
  },
  {
   "cell_type": "markdown",
   "metadata": {},
   "source": [
    "## KMean\n"
   ]
  },
  {
   "cell_type": "markdown",
   "metadata": {},
   "source": [
    "K-mean is one of the unsupervised algorithms, meaning that uses only input vectors, without knowlodge of the outcomes. AndreyBu [https://www.education-ecosystem.com/andreybu/REaxr-machine-learning-model-python-sklearn-kera/oPGdP-machine-learning-model-python-sklearn-kera/] puts as \n",
    "\n",
    "“the objective of K-means is simple: group similar data points together and discover underlying patterns. To achieve this objective, K-means looks for a fixed number (k) of clusters in a dataset.”\n",
    "\n",
    "K would then mean the number of possible centres of clusters."
   ]
  },
  {
   "cell_type": "markdown",
   "metadata": {},
   "source": [
    "### How the K-means algorithm works\n",
    "\n",
    "To process the learning data, the K-means algorithm in data mining starts with a first group of randomly selected centroids, which are used as the beginning points for every cluster, and then performs iterative (repetitive) calculations to optimize the positions of the centroids\n",
    "\n",
    "It halts creating and optimizing clusters when either:\n",
    "\n",
    "    The centroids have stabilized — there is no change in their values because the clustering has been successful.\n",
    "    The defined number of iterations has been achieved."
   ]
  },
  {
   "cell_type": "code",
   "execution_count": 6,
   "metadata": {},
   "outputs": [],
   "source": [
    "import pandas as pd\n",
    "import numpy as np\n",
    "import matplotlib.pyplot as plt\n",
    "from sklearn.cluster import KMeans\n",
    "%matplotlib inline\n"
   ]
  },
  {
   "cell_type": "markdown",
   "metadata": {},
   "source": [
    "Transforming data in categorical\n"
   ]
  },
  {
   "cell_type": "code",
   "execution_count": 12,
   "metadata": {},
   "outputs": [],
   "source": [
    "df_original = pd.read_csv('data/treated_data/TerrestrialReport_lc_ld_mammals.txt',sep=\"|\", dtype='unicode')\n",
    "df = pd.read_csv('data/treated_data/TerrestrialReport_lc_ld_mammals.txt',sep=\"|\", dtype='unicode')\n",
    "\n",
    "# cat_columns = df.select_dtypes(['category']).columns\n",
    "# df[cat_columns] = df[cat_columns].apply(lambda x: x.cat.codes)\n",
    "\n",
    "for col_name in df.columns:\n",
    "    if(df[col_name].dtype == 'object'):\n",
    "        df[col_name] = df[col_name].astype('category')\n",
    "        df[col_name] = df[col_name].cat.codes"
   ]
  },
  {
   "cell_type": "markdown",
   "metadata": {},
   "source": [
    "The value of k reflects the 10 important Endpoints in the dataset"
   ]
  },
  {
   "cell_type": "code",
   "execution_count": 13,
   "metadata": {},
   "outputs": [
    {
     "data": {
      "text/plain": [
       "KMeans(algorithm='auto', copy_x=True, init='k-means++', max_iter=300,\n",
       "    n_clusters=10, n_init=10, n_jobs=None, precompute_distances='auto',\n",
       "    random_state=None, tol=0.0001, verbose=0)"
      ]
     },
     "execution_count": 13,
     "metadata": {},
     "output_type": "execute_result"
    }
   ],
   "source": [
    "from sklearn.cluster import KMeans\n",
    "\n",
    "Kmean = KMeans(n_clusters=10)\n",
    "Kmean.fit(df)"
   ]
  },
  {
   "cell_type": "code",
   "execution_count": 14,
   "metadata": {},
   "outputs": [
    {
     "data": {
      "text/plain": [
       "array([[ 1.85443038e+02,  2.36873418e+02,  3.30379747e+00,\n",
       "        -9.24050633e-01,  8.99746835e+01, -1.00000000e+00,\n",
       "         5.98734177e+00, -1.00000000e+00,  5.98734177e+00,\n",
       "         1.89873418e-01,  2.91265823e+01,  2.03544304e+01,\n",
       "         5.58227848e+00, -9.24050633e-01,  2.64050633e+01,\n",
       "        -1.00000000e+00,  2.31518987e+01, -1.00000000e+00,\n",
       "         2.74936709e+01,  3.92405063e+00,  1.84810127e+00,\n",
       "         1.98734177e+00,  9.37974684e+00,  1.95696203e+01,\n",
       "         7.73417722e+00,  2.00000000e+00,  2.00000000e+00,\n",
       "         1.83544304e+00,  2.49367089e+00,  7.59493671e-01,\n",
       "        -9.36708861e-01,  2.06455696e+02, -1.00000000e+00,\n",
       "         6.20443038e+02, -1.00000000e+00,  1.69772152e+02,\n",
       "         2.03797468e+01, -1.00000000e+00, -1.00000000e+00,\n",
       "        -1.00000000e+00, -1.00000000e+00, -1.00000000e+00,\n",
       "        -1.00000000e+00, -1.00000000e+00, -1.00000000e+00,\n",
       "        -1.00000000e+00, -1.00000000e+00, -1.00000000e+00,\n",
       "        -1.00000000e+00, -1.00000000e+00, -1.00000000e+00,\n",
       "        -1.00000000e+00, -1.00000000e+00, -7.59493671e-01,\n",
       "         4.17341772e+01, -1.00000000e+00,  8.77215190e+00,\n",
       "        -1.00000000e+00,  9.77215190e+00,  1.26582278e-02,\n",
       "         1.47253165e+02,  1.23215190e+02,  1.29784810e+02,\n",
       "         1.24151899e+02,  2.46202532e+01, -1.00000000e+00],\n",
       "       [ 2.44465116e+02,  1.03288372e+02,  3.38139535e+00,\n",
       "        -8.69767442e-01,  9.60883721e+01, -1.00000000e+00,\n",
       "         6.00000000e+00, -1.00000000e+00,  6.00000000e+00,\n",
       "         4.04651163e-01,  2.90139535e+01,  2.64976744e+01,\n",
       "         6.30232558e+00, -9.86046512e-01,  2.68511628e+01,\n",
       "        -1.00000000e+00,  2.45209302e+01, -1.00000000e+00,\n",
       "         2.74046512e+01,  4.11627907e+00,  1.51627907e+00,\n",
       "         1.99534884e+00,  8.12558140e+00,  1.78651163e+01,\n",
       "         1.04000000e+01,  1.99069767e+00,  2.00465116e+00,\n",
       "         1.95348837e+00,  2.78604651e+00,  6.51162791e-01,\n",
       "        -6.51162791e-02,  8.95525581e+02, -1.00000000e+00,\n",
       "         6.66125581e+02, -1.00000000e+00,  7.02767442e+02,\n",
       "         1.66046512e+01, -1.00000000e+00, -1.00000000e+00,\n",
       "        -1.00000000e+00, -1.00000000e+00, -1.00000000e+00,\n",
       "        -1.00000000e+00, -1.00000000e+00, -1.00000000e+00,\n",
       "        -1.00000000e+00, -1.00000000e+00, -1.00000000e+00,\n",
       "        -1.00000000e+00, -1.00000000e+00, -1.00000000e+00,\n",
       "        -1.00000000e+00, -1.00000000e+00, -8.00000000e-01,\n",
       "         3.08511628e+01, -1.00000000e+00,  8.90232558e+00,\n",
       "        -1.00000000e+00,  9.90697674e+00, -4.55364912e-18,\n",
       "         1.28679070e+02,  1.61451163e+02,  1.70241860e+02,\n",
       "         1.50446512e+02,  2.42093023e+01, -1.00000000e+00],\n",
       "       [ 2.44389313e+02,  2.67835878e+02,  3.46946565e+00,\n",
       "        -9.31297710e-01,  9.33473282e+01, -1.00000000e+00,\n",
       "         5.97328244e+00, -1.00000000e+00,  5.97328244e+00,\n",
       "         3.20610687e-01,  2.82938931e+01,  2.45801527e+01,\n",
       "         6.93511450e+00, -9.27480916e-01,  2.75343511e+01,\n",
       "        -9.92366412e-01,  2.42709924e+01, -9.92366412e-01,\n",
       "         2.90725191e+01,  4.51908397e+00,  1.38549618e+00,\n",
       "         2.01908397e+00,  8.04580153e+00,  1.72862595e+01,\n",
       "         9.02290076e+00,  1.99618321e+00,  2.00381679e+00,\n",
       "         1.96946565e+00,  2.72137405e+00,  8.20610687e-01,\n",
       "        -2.55725191e-01,  4.73461832e+02, -1.00000000e+00,\n",
       "         6.88969466e+02, -1.00000000e+00,  7.08732824e+02,\n",
       "         1.75076336e+01, -1.00000000e+00, -1.00000000e+00,\n",
       "        -1.00000000e+00, -1.00000000e+00, -1.00000000e+00,\n",
       "        -1.00000000e+00, -1.00000000e+00, -1.00000000e+00,\n",
       "        -1.00000000e+00, -1.00000000e+00, -1.00000000e+00,\n",
       "        -1.00000000e+00, -1.00000000e+00, -1.00000000e+00,\n",
       "        -1.00000000e+00, -1.00000000e+00, -7.51908397e-01,\n",
       "         3.26564885e+01, -1.00000000e+00,  8.46183206e+00,\n",
       "        -1.00000000e+00,  9.49618321e+00, -8.67361738e-19,\n",
       "         1.22805344e+02,  1.49381679e+02,  1.36354962e+02,\n",
       "         1.48335878e+02,  2.20190840e+01, -1.00000000e+00],\n",
       "       [ 2.56907801e+02,  2.11751773e+02,  3.39716312e+00,\n",
       "        -8.36879433e-01,  9.02695035e+01, -1.00000000e+00,\n",
       "         5.99290780e+00, -1.00000000e+00,  5.99290780e+00,\n",
       "         3.75886525e-01,  3.00000000e+01,  2.28297872e+01,\n",
       "         6.05673759e+00, -9.43262411e-01,  2.78794326e+01,\n",
       "        -1.00000000e+00,  2.34964539e+01, -1.00000000e+00,\n",
       "         2.92340426e+01,  4.65248227e+00,  2.04964539e+00,\n",
       "         1.85815603e+00,  9.53191489e+00,  1.93758865e+01,\n",
       "         9.43262411e+00,  2.00000000e+00,  2.00000000e+00,\n",
       "         1.87234043e+00,  2.45390071e+00,  6.02836879e-01,\n",
       "        -1.00000000e+00,  1.81943262e+02, -1.00000000e+00,\n",
       "         8.02269504e+01, -1.00000000e+00,  1.51262411e+02,\n",
       "         1.79503546e+01, -1.00000000e+00, -1.00000000e+00,\n",
       "        -1.00000000e+00, -1.00000000e+00, -1.00000000e+00,\n",
       "        -1.00000000e+00, -1.00000000e+00, -1.00000000e+00,\n",
       "        -1.00000000e+00, -1.00000000e+00, -1.00000000e+00,\n",
       "        -1.00000000e+00, -1.00000000e+00, -1.00000000e+00,\n",
       "        -1.00000000e+00, -1.00000000e+00, -8.72340426e-01,\n",
       "         4.38581560e+01, -1.00000000e+00,  8.95035461e+00,\n",
       "        -1.00000000e+00,  9.90070922e+00, -3.46944695e-18,\n",
       "         1.55439716e+02,  1.23765957e+02,  1.46439716e+02,\n",
       "         1.08439716e+02,  2.17446809e+01, -1.00000000e+00],\n",
       "       [ 2.31546296e+02,  2.83064815e+02,  3.13425926e+00,\n",
       "        -8.51851852e-01,  9.15925926e+01, -1.00000000e+00,\n",
       "         5.97685185e+00, -1.00000000e+00,  5.97685185e+00,\n",
       "         2.50000000e-01,  2.75972222e+01,  2.42175926e+01,\n",
       "         6.56944444e+00, -8.33333333e-01,  2.74907407e+01,\n",
       "        -1.00000000e+00,  2.49814815e+01, -1.00000000e+00,\n",
       "         2.83750000e+01,  4.07870370e+00,  1.75925926e+00,\n",
       "         2.00000000e+00,  8.75000000e+00,  1.98194444e+01,\n",
       "         9.24074074e+00,  2.00000000e+00,  2.00000000e+00,\n",
       "         1.88888889e+00,  2.73148148e+00,  6.66666667e-01,\n",
       "        -9.86111111e-01,  4.99851852e+02, -1.00000000e+00,\n",
       "         2.14388889e+02, -1.00000000e+00,  3.29416667e+02,\n",
       "         1.84722222e+01, -1.00000000e+00, -1.00000000e+00,\n",
       "        -1.00000000e+00, -1.00000000e+00, -1.00000000e+00,\n",
       "        -1.00000000e+00, -1.00000000e+00, -1.00000000e+00,\n",
       "        -1.00000000e+00, -1.00000000e+00, -1.00000000e+00,\n",
       "        -1.00000000e+00, -1.00000000e+00, -1.00000000e+00,\n",
       "        -1.00000000e+00, -1.00000000e+00, -9.44444444e-01,\n",
       "         3.87870370e+01, -1.00000000e+00,  9.00000000e+00,\n",
       "        -1.00000000e+00,  1.00000000e+01,  4.62962963e-03,\n",
       "         1.34842593e+02,  1.27800926e+02,  1.28486111e+02,\n",
       "         1.09055556e+02,  2.31944444e+01, -1.00000000e+00],\n",
       "       [ 2.05125000e+02,  3.64450893e+02,  3.48660714e+00,\n",
       "        -8.92857143e-01,  9.44464286e+01, -1.00000000e+00,\n",
       "         5.95089286e+00, -1.00000000e+00,  5.95089286e+00,\n",
       "         3.16964286e-01,  2.80982143e+01,  2.50133929e+01,\n",
       "         6.64732143e+00, -9.19642857e-01,  2.78214286e+01,\n",
       "        -9.95535714e-01,  2.44821429e+01, -9.95535714e-01,\n",
       "         2.87232143e+01,  4.32589286e+00,  1.52232143e+00,\n",
       "         2.01339286e+00,  8.44196429e+00,  1.87767857e+01,\n",
       "         9.16964286e+00,  2.00000000e+00,  2.00000000e+00,\n",
       "         1.95535714e+00,  2.80357143e+00,  7.45535714e-01,\n",
       "        -6.38392857e-01,  9.32464286e+02, -9.91071429e-01,\n",
       "         6.40629464e+02, -9.91071429e-01,  6.87178571e+02,\n",
       "         1.82678571e+01, -1.00000000e+00, -1.00000000e+00,\n",
       "        -1.00000000e+00, -1.00000000e+00, -1.00000000e+00,\n",
       "        -1.00000000e+00, -1.00000000e+00, -1.00000000e+00,\n",
       "        -1.00000000e+00, -1.00000000e+00, -1.00000000e+00,\n",
       "        -1.00000000e+00, -1.00000000e+00, -1.00000000e+00,\n",
       "        -1.00000000e+00, -1.00000000e+00, -7.81250000e-01,\n",
       "         3.56294643e+01, -1.00000000e+00,  8.57142857e+00,\n",
       "        -1.00000000e+00,  9.68303571e+00, -4.55364912e-18,\n",
       "         1.28848214e+02,  1.39281250e+02,  1.45276786e+02,\n",
       "         1.18651786e+02,  2.11830357e+01, -1.00000000e+00],\n",
       "       [ 2.10787149e+02,  2.80851406e+02,  5.02811245e+00,\n",
       "        -9.83935743e-01,  1.05425703e+02, -1.00000000e+00,\n",
       "         5.89959839e+00, -1.00000000e+00,  5.89959839e+00,\n",
       "         2.00803213e-01,  3.23775100e+01,  1.60361446e+01,\n",
       "         7.56626506e+00, -9.91967871e-01,  2.82851406e+01,\n",
       "        -1.00000000e+00,  2.55140562e+01, -1.00000000e+00,\n",
       "         3.12088353e+01,  4.87148594e+00,  2.52208835e+00,\n",
       "         1.99598394e+00,  1.24819277e+01,  2.11244980e+01,\n",
       "         1.05582329e+01,  2.00000000e+00,  2.00000000e+00,\n",
       "         2.00000000e+00,  2.25702811e+00,  5.82329317e-01,\n",
       "        -8.07228916e-01,  9.33935743e+01, -1.00000000e+00,\n",
       "         6.78301205e+02, -1.00000000e+00,  7.04072289e+02,\n",
       "         1.57751004e+01, -1.00000000e+00, -1.00000000e+00,\n",
       "        -1.00000000e+00, -1.00000000e+00, -1.00000000e+00,\n",
       "        -1.00000000e+00, -1.00000000e+00, -1.00000000e+00,\n",
       "        -1.00000000e+00, -1.00000000e+00, -1.00000000e+00,\n",
       "        -1.00000000e+00, -1.00000000e+00, -1.00000000e+00,\n",
       "        -1.00000000e+00, -1.00000000e+00, -9.67871486e-01,\n",
       "         3.51445783e+01, -1.00000000e+00,  8.94377510e+00,\n",
       "        -1.00000000e+00,  9.94377510e+00, -1.95156391e-18,\n",
       "         1.96682731e+02,  1.47967871e+02,  6.13614458e+01,\n",
       "         5.14899598e+01,  2.41606426e+01, -1.00000000e+00],\n",
       "       [ 2.62619048e+02,  1.86338624e+02,  3.69841270e+00,\n",
       "        -8.25396825e-01,  9.77460317e+01, -9.94708995e-01,\n",
       "         5.95238095e+00, -1.00000000e+00,  5.95238095e+00,\n",
       "         3.06878307e-01,  2.74232804e+01,  2.57936508e+01,\n",
       "         6.87830688e+00, -8.88888889e-01,  2.74021164e+01,\n",
       "        -1.00000000e+00,  2.40158730e+01, -1.00000000e+00,\n",
       "         2.75291005e+01,  3.96825397e+00,  1.71957672e+00,\n",
       "         2.05820106e+00,  8.55026455e+00,  1.92275132e+01,\n",
       "         9.47619048e+00,  2.00000000e+00,  2.00000000e+00,\n",
       "         1.93650794e+00,  2.86243386e+00,  5.82010582e-01,\n",
       "        -9.73544974e-01,  8.18629630e+02, -9.73544974e-01,\n",
       "         3.70857143e+02, -9.73544974e-01,  5.17582011e+02,\n",
       "         1.82116402e+01, -1.00000000e+00, -1.00000000e+00,\n",
       "        -1.00000000e+00, -1.00000000e+00, -1.00000000e+00,\n",
       "        -1.00000000e+00, -1.00000000e+00, -1.00000000e+00,\n",
       "        -1.00000000e+00, -1.00000000e+00, -1.00000000e+00,\n",
       "        -1.00000000e+00, -1.00000000e+00, -1.00000000e+00,\n",
       "        -1.00000000e+00, -1.00000000e+00, -8.41269841e-01,\n",
       "         3.61904762e+01, -1.00000000e+00,  9.00000000e+00,\n",
       "        -1.00000000e+00,  1.00000000e+01, -4.33680869e-18,\n",
       "         1.38037037e+02,  1.19798942e+02,  1.30968254e+02,\n",
       "         1.21317460e+02,  2.54074074e+01, -1.00000000e+00],\n",
       "       [ 2.61090909e+02,  1.14659091e+02,  3.38636364e+00,\n",
       "        -4.16666667e-01,  9.21515152e+01, -1.00000000e+00,\n",
       "         6.00000000e+00, -1.00000000e+00,  6.00000000e+00,\n",
       "         6.59090909e-01,  3.16515152e+01,  2.86742424e+01,\n",
       "         7.40151515e+00, -9.77272727e-01,  2.82348485e+01,\n",
       "        -1.00000000e+00,  1.33787879e+01, -1.00000000e+00,\n",
       "         1.68939394e+01,  5.43939394e+00,  2.42424242e+00,\n",
       "         1.99242424e+00,  1.14469697e+01,  1.95378788e+01,\n",
       "         1.09848485e+01,  2.00000000e+00,  2.00757576e+00,\n",
       "         2.00000000e+00,  2.12878788e+00,  1.06818182e+00,\n",
       "        -8.86363636e-01,  9.97045455e+01, -1.00000000e+00,\n",
       "         6.79939394e+02, -1.00000000e+00,  7.03053030e+02,\n",
       "         1.57651515e+01, -1.00000000e+00, -1.00000000e+00,\n",
       "        -1.00000000e+00, -1.00000000e+00, -1.00000000e+00,\n",
       "        -1.00000000e+00, -1.00000000e+00, -1.00000000e+00,\n",
       "        -1.00000000e+00, -1.00000000e+00, -1.00000000e+00,\n",
       "        -1.00000000e+00, -1.00000000e+00, -1.00000000e+00,\n",
       "        -1.00000000e+00, -1.00000000e+00, -7.34848485e-01,\n",
       "         4.07727273e+01, -1.00000000e+00,  8.77272727e+00,\n",
       "        -1.00000000e+00,  9.69696970e+00, -3.25260652e-18,\n",
       "         6.05000000e+01,  1.29090909e+02,  2.21393939e+02,\n",
       "         2.26439394e+02,  1.84696970e+01, -1.00000000e+00],\n",
       "       [ 2.35600000e+02,  2.47887500e+02,  3.73750000e+00,\n",
       "        -9.25000000e-01,  9.04375000e+01, -1.00000000e+00,\n",
       "         5.98750000e+00, -1.00000000e+00,  5.98750000e+00,\n",
       "         1.87500000e-01,  2.70500000e+01,  2.48250000e+01,\n",
       "         6.47500000e+00, -1.00000000e+00,  2.72000000e+01,\n",
       "        -1.00000000e+00,  2.36750000e+01, -1.00000000e+00,\n",
       "         2.73125000e+01,  4.27500000e+00,  1.81250000e+00,\n",
       "         2.15000000e+00,  9.92500000e+00,  1.92375000e+01,\n",
       "         1.00500000e+01,  2.00000000e+00,  2.00000000e+00,\n",
       "         1.91250000e+00,  2.82500000e+00,  5.75000000e-01,\n",
       "        -1.00000000e+00,  1.08630000e+03, -9.62500000e-01,\n",
       "         5.03862500e+02, -9.87500000e-01,  1.10087500e+02,\n",
       "         1.69625000e+01, -1.00000000e+00, -1.00000000e+00,\n",
       "        -1.00000000e+00, -1.00000000e+00, -1.00000000e+00,\n",
       "        -1.00000000e+00, -1.00000000e+00, -1.00000000e+00,\n",
       "        -1.00000000e+00, -1.00000000e+00, -1.00000000e+00,\n",
       "        -1.00000000e+00, -1.00000000e+00, -1.00000000e+00,\n",
       "        -1.00000000e+00, -1.00000000e+00, -8.50000000e-01,\n",
       "         3.63375000e+01, -1.00000000e+00,  9.00000000e+00,\n",
       "        -1.00000000e+00,  1.00000000e+01, -1.51788304e-18,\n",
       "         1.43750000e+02,  1.37500000e+02,  1.41987500e+02,\n",
       "         1.40725000e+02,  2.47375000e+01, -1.00000000e+00]])"
      ]
     },
     "execution_count": 14,
     "metadata": {},
     "output_type": "execute_result"
    }
   ],
   "source": [
    "Kmean.cluster_centers_"
   ]
  },
  {
   "cell_type": "code",
   "execution_count": 18,
   "metadata": {},
   "outputs": [
    {
     "ename": "SyntaxError",
     "evalue": "invalid character in identifier (<ipython-input-18-08d0d6338da0>, line 1)",
     "output_type": "error",
     "traceback": [
      "\u001b[0;36m  File \u001b[0;32m\"<ipython-input-18-08d0d6338da0>\"\u001b[0;36m, line \u001b[0;32m1\u001b[0m\n\u001b[0;31m    plt.scatter(df[ : , 0], df[ : , 1], s =50, c=’b’)\u001b[0m\n\u001b[0m                                                   ^\u001b[0m\n\u001b[0;31mSyntaxError\u001b[0m\u001b[0;31m:\u001b[0m invalid character in identifier\n"
     ]
    }
   ],
   "source": [
    "plt.scatter(df[ : , 0], df[ : , 1], s =50, c=’b’)\n",
    "plt.scatter(-0.94665068, -0.97138368, s=200, c=’g’, marker=’s’)\n",
    "plt.scatter(2.01559419, 2.02597093, s=200, c=’r’, marker=’s’)\n",
    "plt.show()"
   ]
  },
  {
   "cell_type": "code",
   "execution_count": null,
   "metadata": {},
   "outputs": [],
   "source": [
    "Kmean.labels_"
   ]
  }
 ],
 "metadata": {
  "kernelspec": {
   "display_name": "Python 3",
   "language": "python",
   "name": "python3"
  },
  "language_info": {
   "codemirror_mode": {
    "name": "ipython",
    "version": 3
   },
   "file_extension": ".py",
   "mimetype": "text/x-python",
   "name": "python",
   "nbconvert_exporter": "python",
   "pygments_lexer": "ipython3",
   "version": "3.7.3"
  }
 },
 "nbformat": 4,
 "nbformat_minor": 2
}
