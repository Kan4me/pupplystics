{
 "cells": [
  {
   "cell_type": "markdown",
   "metadata": {},
   "source": [
    "# Merging Tables and Getting PK"
   ]
  },
  {
   "cell_type": "code",
   "execution_count": 1,
   "metadata": {},
   "outputs": [],
   "source": [
    "import pandas as pd\n",
    "import numpy as np"
   ]
  },
  {
   "cell_type": "markdown",
   "metadata": {},
   "source": [
    "## Chosen headers by file"
   ]
  },
  {
   "cell_type": "code",
   "execution_count": 3,
   "metadata": {},
   "outputs": [
    {
     "name": "stdout",
     "output_type": "stream",
     "text": [
      "(163246, 5)\n"
     ]
    },
    {
     "data": {
      "text/plain": [
       "(163246, 5)"
      ]
     },
     "execution_count": 3,
     "metadata": {},
     "output_type": "execute_result"
    }
   ],
   "source": [
    "df_chemical_carriers = pd.read_csv(\"../data/ecotox_ascii_12_13_2018/chemical_carriers.txt\",sep=\"|\", dtype='unicode')\n",
    "df_chemical_carriers = df_chemical_carriers[['carrier_id', 'test_id', 'cas_number', 'chem_name', 'formulation']]\n",
    "print(df_chemical_carriers.shape)\n",
    "df_chemical_carriers = df_chemical_carriers.drop_duplicates()\n",
    "df_chemical_carriers.shape"
   ]
  },
  {
   "cell_type": "code",
   "execution_count": 4,
   "metadata": {},
   "outputs": [],
   "source": [
    "df_chemical_formulation_codes = pd.read_csv(\"../data/ecotox_ascii_12_13_2018/validation/chemical_formulation_codes.txt\",sep=\"|\", dtype='unicode')\n",
    "df_chemical_grade_codes = pd.read_csv(\"../data/ecotox_ascii_12_13_2018/validation/chemical_grade_codes.txt\",sep=\"|\", dtype='unicode')\n",
    "df_effect_codes = pd.read_csv(\"../data/ecotox_ascii_12_13_2018/validation/effect_codes.txt\",sep=\"|\", dtype='unicode')"
   ]
  },
  {
   "cell_type": "code",
   "execution_count": 5,
   "metadata": {},
   "outputs": [
    {
     "name": "stdout",
     "output_type": "stream",
     "text": [
      "(15844, 2)\n"
     ]
    },
    {
     "data": {
      "text/plain": [
       "(15844, 2)"
      ]
     },
     "execution_count": 5,
     "metadata": {},
     "output_type": "execute_result"
    }
   ],
   "source": [
    "df_chemicals = pd.read_csv(\"../data/ecotox_ascii_12_13_2018/validation/chemicals.txt\",sep=\"|\", dtype='unicode')\n",
    "df_chemicals = df_chemicals[['cas_number','chemical_name']]\n",
    "\n",
    "print(df_chemicals.shape)\n",
    "df_chemicals = df_chemicals.drop_duplicates()\n",
    "df_chemicals.shape"
   ]
  },
  {
   "cell_type": "code",
   "execution_count": 7,
   "metadata": {},
   "outputs": [
    {
     "data": {
      "text/html": [
       "<div>\n",
       "<style scoped>\n",
       "    .dataframe tbody tr th:only-of-type {\n",
       "        vertical-align: middle;\n",
       "    }\n",
       "\n",
       "    .dataframe tbody tr th {\n",
       "        vertical-align: top;\n",
       "    }\n",
       "\n",
       "    .dataframe thead th {\n",
       "        text-align: right;\n",
       "    }\n",
       "</style>\n",
       "<table border=\"1\" class=\"dataframe\">\n",
       "  <thead>\n",
       "    <tr style=\"text-align: right;\">\n",
       "      <th></th>\n",
       "      <th>dose_resp_detail_id</th>\n",
       "      <th>dose_id</th>\n",
       "    </tr>\n",
       "  </thead>\n",
       "  <tbody>\n",
       "    <tr>\n",
       "      <th>0</th>\n",
       "      <td>1</td>\n",
       "      <td>2</td>\n",
       "    </tr>\n",
       "    <tr>\n",
       "      <th>1</th>\n",
       "      <td>2</td>\n",
       "      <td>3</td>\n",
       "    </tr>\n",
       "    <tr>\n",
       "      <th>2</th>\n",
       "      <td>3</td>\n",
       "      <td>4</td>\n",
       "    </tr>\n",
       "    <tr>\n",
       "      <th>3</th>\n",
       "      <td>4</td>\n",
       "      <td>1</td>\n",
       "    </tr>\n",
       "    <tr>\n",
       "      <th>4</th>\n",
       "      <td>5</td>\n",
       "      <td>2</td>\n",
       "    </tr>\n",
       "  </tbody>\n",
       "</table>\n",
       "</div>"
      ],
      "text/plain": [
       "  dose_resp_detail_id dose_id\n",
       "0                   1       2\n",
       "1                   2       3\n",
       "2                   3       4\n",
       "3                   4       1\n",
       "4                   5       2"
      ]
     },
     "execution_count": 7,
     "metadata": {},
     "output_type": "execute_result"
    }
   ],
   "source": [
    "df_dose_response_details = pd.read_csv(\"../data/ecotox_ascii_12_13_2018/dose_response_details.txt\",sep=\"|\", dtype='unicode')\n",
    "df_dose_response_details = df_dose_response_details[['dose_resp_detail_id','dose_id']]\n",
    "\n",
    "df_dose_response_details.iloc[:5]"
   ]
  },
  {
   "cell_type": "code",
   "execution_count": 9,
   "metadata": {},
   "outputs": [
    {
     "name": "stdout",
     "output_type": "stream",
     "text": [
      "(121581, 2)\n"
     ]
    },
    {
     "data": {
      "text/plain": [
       "(121581, 2)"
      ]
     },
     "execution_count": 9,
     "metadata": {},
     "output_type": "execute_result"
    }
   ],
   "source": [
    "df_dose_response_links = pd.read_csv(\"../data/ecotox_ascii_12_13_2018/dose_response_links.txt\",sep=\"|\", dtype='unicode')\n",
    "df_dose_response_links = df_dose_response_links[['result_id', 'dose_resp_id']]\n",
    "\n",
    "print(df_dose_response_links.shape)\n",
    "df_dose_response_links = df_dose_response_links.drop_duplicates()\n",
    "df_dose_response_links.shape"
   ]
  },
  {
   "cell_type": "code",
   "execution_count": 17,
   "metadata": {},
   "outputs": [
    {
     "name": "stdout",
     "output_type": "stream",
     "text": [
      "(441971, 5)\n"
     ]
    },
    {
     "data": {
      "text/plain": [
       "(441971, 5)"
      ]
     },
     "execution_count": 17,
     "metadata": {},
     "output_type": "execute_result"
    }
   ],
   "source": [
    "df_doses = pd.read_csv(\"../data/ecotox_ascii_12_13_2018/doses.txt\",sep=\"|\", dtype='unicode')\n",
    "df_doses = df_doses[['dose_id','test_id','dose1_mean','dose2_mean','dose3_mean']]\n",
    "\n",
    "print(df_doses.shape)\n",
    "df_doses = df_doses.drop_duplicates()\n",
    "df_doses.shape"
   ]
  },
  {
   "cell_type": "code",
   "execution_count": 25,
   "metadata": {},
   "outputs": [
    {
     "name": "stdout",
     "output_type": "stream",
     "text": [
      "(926108, 9)\n"
     ]
    },
    {
     "data": {
      "text/plain": [
       "(926108, 9)"
      ]
     },
     "execution_count": 25,
     "metadata": {},
     "output_type": "execute_result"
    }
   ],
   "source": [
    "df_results = pd.read_csv(\"../data/ecotox_ascii_12_13_2018/results.txt\",sep=\"|\", dtype='unicode')\n",
    "df_results = df_results[['result_id','test_id','effect','measurement','conc1_mean','conc2_mean','conc3_mean', 'endpoint','endpoint_comments']]\n",
    "\n",
    "print(df_results.shape)\n",
    "df_results = df_results.drop_duplicates(subset=['result_id','effect'])\n",
    "df_results.shape"
   ]
  },
  {
   "cell_type": "code",
   "execution_count": 12,
   "metadata": {},
   "outputs": [
    {
     "name": "stdout",
     "output_type": "stream",
     "text": [
      "(25225, 7)\n"
     ]
    },
    {
     "data": {
      "text/plain": [
       "(25225, 7)"
      ]
     },
     "execution_count": 12,
     "metadata": {},
     "output_type": "execute_result"
    }
   ],
   "source": [
    "df_species = pd.read_csv(\"../data/ecotox_ascii_12_13_2018/validation/species.txt\",sep=\"|\", dtype='unicode')\n",
    "df_species = df_species[['species_number','common_name','kingdom','class','tax_order','family','species']]\n",
    "\n",
    "print(df_species.shape)\n",
    "df_species = df_species.drop_duplicates()\n",
    "df_species.shape"
   ]
  },
  {
   "cell_type": "code",
   "execution_count": 15,
   "metadata": {},
   "outputs": [
    {
     "name": "stdout",
     "output_type": "stream",
     "text": [
      "(657735, 12)\n"
     ]
    },
    {
     "data": {
      "text/plain": [
       "(657735, 12)"
      ]
     },
     "execution_count": 15,
     "metadata": {},
     "output_type": "execute_result"
    }
   ],
   "source": [
    "df_tests = pd.read_csv(\"../data/ecotox_ascii_12_13_2018/tests.txt\",sep=\"|\", dtype='unicode')\n",
    "df_tests = df_tests[['test_id','test_cas','organism_lifestage','species_number','organism_age_mean','organism_gender','study_duration_mean','exposure_duration_mean','test_type','num_doses_mean','application_freq_mean','halflife_mean']]\n",
    "\n",
    "print(df_tests.shape)\n",
    "df_tests = df_tests.drop_duplicates(subset=['test_id', 'test_cas'])\n",
    "df_tests.shape"
   ]
  },
  {
   "cell_type": "code",
   "execution_count": 26,
   "metadata": {},
   "outputs": [
    {
     "data": {
      "text/html": [
       "<div>\n",
       "<style scoped>\n",
       "    .dataframe tbody tr th:only-of-type {\n",
       "        vertical-align: middle;\n",
       "    }\n",
       "\n",
       "    .dataframe tbody tr th {\n",
       "        vertical-align: top;\n",
       "    }\n",
       "\n",
       "    .dataframe thead th {\n",
       "        text-align: right;\n",
       "    }\n",
       "</style>\n",
       "<table border=\"1\" class=\"dataframe\">\n",
       "  <thead>\n",
       "    <tr style=\"text-align: right;\">\n",
       "      <th></th>\n",
       "      <th>test_id</th>\n",
       "      <th>test_cas</th>\n",
       "      <th>organism_lifestage</th>\n",
       "      <th>species_number</th>\n",
       "      <th>organism_age_mean</th>\n",
       "      <th>organism_gender</th>\n",
       "      <th>study_duration_mean</th>\n",
       "      <th>exposure_duration_mean</th>\n",
       "      <th>test_type</th>\n",
       "      <th>num_doses_mean</th>\n",
       "      <th>...</th>\n",
       "      <th>cas_number</th>\n",
       "      <th>chem_name</th>\n",
       "      <th>formulation</th>\n",
       "      <th>chemical_name</th>\n",
       "      <th>common_name</th>\n",
       "      <th>kingdom</th>\n",
       "      <th>class</th>\n",
       "      <th>tax_order</th>\n",
       "      <th>family</th>\n",
       "      <th>species</th>\n",
       "    </tr>\n",
       "  </thead>\n",
       "  <tbody>\n",
       "    <tr>\n",
       "      <th>0</th>\n",
       "      <td>13</td>\n",
       "      <td>50293</td>\n",
       "      <td>NR</td>\n",
       "      <td>5022</td>\n",
       "      <td>NR</td>\n",
       "      <td>NR</td>\n",
       "      <td>8</td>\n",
       "      <td>8</td>\n",
       "      <td>NC</td>\n",
       "      <td>1</td>\n",
       "      <td>...</td>\n",
       "      <td>67641</td>\n",
       "      <td>2-Propanone</td>\n",
       "      <td>NR</td>\n",
       "      <td>2-Propanone</td>\n",
       "      <td>Indian Earthworm</td>\n",
       "      <td>Animalia</td>\n",
       "      <td>Oligochaeta</td>\n",
       "      <td>Haplotaxida</td>\n",
       "      <td>Megascolecidae</td>\n",
       "      <td>posthuma</td>\n",
       "    </tr>\n",
       "    <tr>\n",
       "      <th>1</th>\n",
       "      <td>13</td>\n",
       "      <td>50293</td>\n",
       "      <td>NR</td>\n",
       "      <td>5022</td>\n",
       "      <td>NR</td>\n",
       "      <td>NR</td>\n",
       "      <td>8</td>\n",
       "      <td>8</td>\n",
       "      <td>NC</td>\n",
       "      <td>1</td>\n",
       "      <td>...</td>\n",
       "      <td>67641</td>\n",
       "      <td>2-Propanone</td>\n",
       "      <td>NR</td>\n",
       "      <td>2-Propanone</td>\n",
       "      <td>Indian Earthworm</td>\n",
       "      <td>Animalia</td>\n",
       "      <td>Oligochaeta</td>\n",
       "      <td>Haplotaxida</td>\n",
       "      <td>Megascolecidae</td>\n",
       "      <td>posthuma</td>\n",
       "    </tr>\n",
       "    <tr>\n",
       "      <th>2</th>\n",
       "      <td>13</td>\n",
       "      <td>50293</td>\n",
       "      <td>NR</td>\n",
       "      <td>5022</td>\n",
       "      <td>NR</td>\n",
       "      <td>NR</td>\n",
       "      <td>8</td>\n",
       "      <td>8</td>\n",
       "      <td>NC</td>\n",
       "      <td>1</td>\n",
       "      <td>...</td>\n",
       "      <td>67641</td>\n",
       "      <td>2-Propanone</td>\n",
       "      <td>NR</td>\n",
       "      <td>2-Propanone</td>\n",
       "      <td>Indian Earthworm</td>\n",
       "      <td>Animalia</td>\n",
       "      <td>Oligochaeta</td>\n",
       "      <td>Haplotaxida</td>\n",
       "      <td>Megascolecidae</td>\n",
       "      <td>posthuma</td>\n",
       "    </tr>\n",
       "    <tr>\n",
       "      <th>3</th>\n",
       "      <td>13</td>\n",
       "      <td>50293</td>\n",
       "      <td>NR</td>\n",
       "      <td>5022</td>\n",
       "      <td>NR</td>\n",
       "      <td>NR</td>\n",
       "      <td>8</td>\n",
       "      <td>8</td>\n",
       "      <td>NC</td>\n",
       "      <td>1</td>\n",
       "      <td>...</td>\n",
       "      <td>67641</td>\n",
       "      <td>2-Propanone</td>\n",
       "      <td>NR</td>\n",
       "      <td>2-Propanone</td>\n",
       "      <td>Indian Earthworm</td>\n",
       "      <td>Animalia</td>\n",
       "      <td>Oligochaeta</td>\n",
       "      <td>Haplotaxida</td>\n",
       "      <td>Megascolecidae</td>\n",
       "      <td>posthuma</td>\n",
       "    </tr>\n",
       "    <tr>\n",
       "      <th>4</th>\n",
       "      <td>13</td>\n",
       "      <td>50293</td>\n",
       "      <td>NR</td>\n",
       "      <td>5022</td>\n",
       "      <td>NR</td>\n",
       "      <td>NR</td>\n",
       "      <td>8</td>\n",
       "      <td>8</td>\n",
       "      <td>NC</td>\n",
       "      <td>1</td>\n",
       "      <td>...</td>\n",
       "      <td>67641</td>\n",
       "      <td>2-Propanone</td>\n",
       "      <td>NR</td>\n",
       "      <td>2-Propanone</td>\n",
       "      <td>Indian Earthworm</td>\n",
       "      <td>Animalia</td>\n",
       "      <td>Oligochaeta</td>\n",
       "      <td>Haplotaxida</td>\n",
       "      <td>Megascolecidae</td>\n",
       "      <td>posthuma</td>\n",
       "    </tr>\n",
       "  </tbody>\n",
       "</table>\n",
       "<p>5 rows × 37 columns</p>\n",
       "</div>"
      ],
      "text/plain": [
       "  test_id test_cas organism_lifestage species_number organism_age_mean  \\\n",
       "0      13    50293                 NR           5022                NR   \n",
       "1      13    50293                 NR           5022                NR   \n",
       "2      13    50293                 NR           5022                NR   \n",
       "3      13    50293                 NR           5022                NR   \n",
       "4      13    50293                 NR           5022                NR   \n",
       "\n",
       "  organism_gender study_duration_mean exposure_duration_mean test_type  \\\n",
       "0              NR                   8                      8        NC   \n",
       "1              NR                   8                      8        NC   \n",
       "2              NR                   8                      8        NC   \n",
       "3              NR                   8                      8        NC   \n",
       "4              NR                   8                      8        NC   \n",
       "\n",
       "  num_doses_mean  ... cas_number    chem_name formulation chemical_name  \\\n",
       "0              1  ...      67641  2-Propanone          NR   2-Propanone   \n",
       "1              1  ...      67641  2-Propanone          NR   2-Propanone   \n",
       "2              1  ...      67641  2-Propanone          NR   2-Propanone   \n",
       "3              1  ...      67641  2-Propanone          NR   2-Propanone   \n",
       "4              1  ...      67641  2-Propanone          NR   2-Propanone   \n",
       "\n",
       "        common_name   kingdom        class    tax_order          family  \\\n",
       "0  Indian Earthworm  Animalia  Oligochaeta  Haplotaxida  Megascolecidae   \n",
       "1  Indian Earthworm  Animalia  Oligochaeta  Haplotaxida  Megascolecidae   \n",
       "2  Indian Earthworm  Animalia  Oligochaeta  Haplotaxida  Megascolecidae   \n",
       "3  Indian Earthworm  Animalia  Oligochaeta  Haplotaxida  Megascolecidae   \n",
       "4  Indian Earthworm  Animalia  Oligochaeta  Haplotaxida  Megascolecidae   \n",
       "\n",
       "    species  \n",
       "0  posthuma  \n",
       "1  posthuma  \n",
       "2  posthuma  \n",
       "3  posthuma  \n",
       "4  posthuma  \n",
       "\n",
       "[5 rows x 37 columns]"
      ]
     },
     "execution_count": 26,
     "metadata": {},
     "output_type": "execute_result"
    }
   ],
   "source": [
    "df = df_tests.merge(df_results, on=['test_id'])\n",
    "df = df.merge(df_doses, on=['test_id'])\n",
    "df = df.merge(df_dose_response_links, on=['result_id'])\n",
    "df = df.merge(df_dose_response_details, on=['dose_id'])\n",
    "df = df.merge(df_chemical_carriers, on=['test_id'])\n",
    "df = df.merge(df_chemicals, on=['cas_number'])\n",
    "df = df.merge(df_species, on=['species_number'])\n",
    "df.iloc[:5]"
   ]
  },
  {
   "cell_type": "code",
   "execution_count": 27,
   "metadata": {},
   "outputs": [
    {
     "data": {
      "text/plain": [
       "(1630133, 37)"
      ]
     },
     "execution_count": 27,
     "metadata": {},
     "output_type": "execute_result"
    }
   ],
   "source": [
    "df_clone = df\n",
    "df.shape"
   ]
  },
  {
   "cell_type": "code",
   "execution_count": 28,
   "metadata": {},
   "outputs": [
    {
     "data": {
      "text/plain": [
       "(5743, 37)"
      ]
     },
     "execution_count": 28,
     "metadata": {},
     "output_type": "execute_result"
    }
   ],
   "source": [
    "df_clone = df_clone.drop_duplicates(subset=['test_id'])\n",
    "df_clone.shape"
   ]
  },
  {
   "cell_type": "code",
   "execution_count": 30,
   "metadata": {},
   "outputs": [],
   "source": [
    "df.to_csv('../data/treated_data/table_endpoints_info.csv')"
   ]
  },
  {
   "cell_type": "code",
   "execution_count": null,
   "metadata": {},
   "outputs": [],
   "source": []
  }
 ],
 "metadata": {
  "kernelspec": {
   "display_name": "Python 3",
   "language": "python",
   "name": "python3"
  },
  "language_info": {
   "codemirror_mode": {
    "name": "ipython",
    "version": 3
   },
   "file_extension": ".py",
   "mimetype": "text/x-python",
   "name": "python",
   "nbconvert_exporter": "python",
   "pygments_lexer": "ipython3",
   "version": "3.7.3"
  }
 },
 "nbformat": 4,
 "nbformat_minor": 2
}
