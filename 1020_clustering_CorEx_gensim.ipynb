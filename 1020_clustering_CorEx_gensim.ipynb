{
 "cells": [
  {
   "cell_type": "markdown",
   "metadata": {},
   "source": [
    "# Clustering with CorEx"
   ]
  },
  {
   "cell_type": "markdown",
   "metadata": {},
   "source": [
    "```\n",
    "Correlation Explanation (CorEx) is an information-theoretic principle for learning abstract representations that are maximally informative about the data. This approach is based on a series of results demonstrating how the information in complex (high-dimensional) systems can be modularly and hierarchically decomposed. \n",
    "```\n",
    "\n",
    "CorEx discovers a hierarchy of informative latent factors. The CorEx Bio were developed for bio-data challenges that handles specific difficulties and allows data visualization.\n",
    "\n",
    "https://github.com/gregversteeg/CorEx\n",
    "\n",
    "https://github.com/gregversteeg/bio_corex\n",
    "\n",
    "https://www.isi.edu/projects/gregv/correlation_explanation\n"
   ]
  },
  {
   "cell_type": "code",
   "execution_count": 2,
   "metadata": {},
   "outputs": [],
   "source": [
    "import numpy as np\n",
    "import scipy\n",
    "import matplotlib\n",
    "import seaborn as sb\n",
    "import pandas as pd\n",
    "import networkx\n",
    "\n",
    "# import corex as ce"
   ]
  },
  {
   "cell_type": "markdown",
   "metadata": {},
   "source": [
    "# Clustering with Gensim"
   ]
  },
  {
   "cell_type": "code",
   "execution_count": 4,
   "metadata": {},
   "outputs": [],
   "source": [
    "import numpy as np\n",
    "import pandas as pd\n",
    "# import nltk\n",
    "import re\n",
    "import os\n",
    "import codecs\n",
    "from sklearn import feature_extraction\n",
    "# import mpld3\n",
    "df = pd.read_csv('data/treated_data/TerrestrialReport_lc_ld_mammals.txt',sep=\"|\", dtype='unicode')"
   ]
  },
  {
   "cell_type": "code",
   "execution_count": null,
   "metadata": {},
   "outputs": [],
   "source": []
  }
 ],
 "metadata": {
  "kernelspec": {
   "display_name": "Python 3",
   "language": "python",
   "name": "python3"
  },
  "language_info": {
   "codemirror_mode": {
    "name": "ipython",
    "version": 3
   },
   "file_extension": ".py",
   "mimetype": "text/x-python",
   "name": "python",
   "nbconvert_exporter": "python",
   "pygments_lexer": "ipython3",
   "version": "3.7.3"
  }
 },
 "nbformat": 4,
 "nbformat_minor": 2
}
